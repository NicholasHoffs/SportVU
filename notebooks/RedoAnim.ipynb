{
 "cells": [
  {
   "cell_type": "code",
   "execution_count": 6,
   "metadata": {},
   "outputs": [],
   "source": [
    "import pandas as pd\n",
    "import numpy as np"
   ]
  },
  {
   "cell_type": "code",
   "execution_count": 10,
   "metadata": {},
   "outputs": [],
   "source": [
    "df=pd.read_csv('../data/merged_csv/0021500001.csv')"
   ]
  },
  {
   "cell_type": "code",
   "execution_count": 11,
   "metadata": {},
   "outputs": [
    {
     "data": {
      "text/html": [
       "<div>\n",
       "<style scoped>\n",
       "    .dataframe tbody tr th:only-of-type {\n",
       "        vertical-align: middle;\n",
       "    }\n",
       "\n",
       "    .dataframe tbody tr th {\n",
       "        vertical-align: top;\n",
       "    }\n",
       "\n",
       "    .dataframe thead th {\n",
       "        text-align: right;\n",
       "    }\n",
       "</style>\n",
       "<table border=\"1\" class=\"dataframe\">\n",
       "  <thead>\n",
       "    <tr style=\"text-align: right;\">\n",
       "      <th></th>\n",
       "      <th>EVENT</th>\n",
       "      <th>TEAM_ID</th>\n",
       "      <th>PLAYER_ID</th>\n",
       "      <th>LOC_X</th>\n",
       "      <th>LOC_Y</th>\n",
       "      <th>LOC_Z</th>\n",
       "      <th>GAME_CLOCK</th>\n",
       "      <th>SHOT_CLOCK</th>\n",
       "      <th>EVENTMSGTYPE</th>\n",
       "      <th>EVENTMSGACTIONTYPE</th>\n",
       "      <th>PLAYER1_ID</th>\n",
       "      <th>PLAYER1_NAME</th>\n",
       "      <th>HOMEDESCRIPTION</th>\n",
       "      <th>VISITORDESCRIPTION</th>\n",
       "    </tr>\n",
       "  </thead>\n",
       "  <tbody>\n",
       "    <tr>\n",
       "      <th>0</th>\n",
       "      <td>1.0</td>\n",
       "      <td>-1.000000e+00</td>\n",
       "      <td>-1.0</td>\n",
       "      <td>47.25031</td>\n",
       "      <td>26.14806</td>\n",
       "      <td>6.76567</td>\n",
       "      <td>720.00</td>\n",
       "      <td>24.0</td>\n",
       "      <td>10</td>\n",
       "      <td>0</td>\n",
       "      <td>201143</td>\n",
       "      <td>Al Horford</td>\n",
       "      <td>Jump Ball Horford vs. Drummond: Tip to Ilyasova</td>\n",
       "      <td>NaN</td>\n",
       "    </tr>\n",
       "    <tr>\n",
       "      <th>1</th>\n",
       "      <td>1.0</td>\n",
       "      <td>1.610613e+09</td>\n",
       "      <td>2594.0</td>\n",
       "      <td>45.70423</td>\n",
       "      <td>15.57870</td>\n",
       "      <td>0.00000</td>\n",
       "      <td>720.00</td>\n",
       "      <td>24.0</td>\n",
       "      <td>10</td>\n",
       "      <td>0</td>\n",
       "      <td>201143</td>\n",
       "      <td>Al Horford</td>\n",
       "      <td>Jump Ball Horford vs. Drummond: Tip to Ilyasova</td>\n",
       "      <td>NaN</td>\n",
       "    </tr>\n",
       "    <tr>\n",
       "      <th>2</th>\n",
       "      <td>1.0</td>\n",
       "      <td>1.610613e+09</td>\n",
       "      <td>200794.0</td>\n",
       "      <td>56.87016</td>\n",
       "      <td>22.95879</td>\n",
       "      <td>0.00000</td>\n",
       "      <td>720.00</td>\n",
       "      <td>24.0</td>\n",
       "      <td>10</td>\n",
       "      <td>0</td>\n",
       "      <td>201143</td>\n",
       "      <td>Al Horford</td>\n",
       "      <td>Jump Ball Horford vs. Drummond: Tip to Ilyasova</td>\n",
       "      <td>NaN</td>\n",
       "    </tr>\n",
       "    <tr>\n",
       "      <th>3</th>\n",
       "      <td>1.0</td>\n",
       "      <td>1.610613e+09</td>\n",
       "      <td>201143.0</td>\n",
       "      <td>47.26914</td>\n",
       "      <td>24.47616</td>\n",
       "      <td>0.00000</td>\n",
       "      <td>720.00</td>\n",
       "      <td>24.0</td>\n",
       "      <td>10</td>\n",
       "      <td>0</td>\n",
       "      <td>201143</td>\n",
       "      <td>Al Horford</td>\n",
       "      <td>Jump Ball Horford vs. Drummond: Tip to Ilyasova</td>\n",
       "      <td>NaN</td>\n",
       "    </tr>\n",
       "    <tr>\n",
       "      <th>4</th>\n",
       "      <td>1.0</td>\n",
       "      <td>1.610613e+09</td>\n",
       "      <td>201952.0</td>\n",
       "      <td>28.26728</td>\n",
       "      <td>23.73400</td>\n",
       "      <td>0.00000</td>\n",
       "      <td>720.00</td>\n",
       "      <td>24.0</td>\n",
       "      <td>10</td>\n",
       "      <td>0</td>\n",
       "      <td>201143</td>\n",
       "      <td>Al Horford</td>\n",
       "      <td>Jump Ball Horford vs. Drummond: Tip to Ilyasova</td>\n",
       "      <td>NaN</td>\n",
       "    </tr>\n",
       "    <tr>\n",
       "      <th>...</th>\n",
       "      <td>...</td>\n",
       "      <td>...</td>\n",
       "      <td>...</td>\n",
       "      <td>...</td>\n",
       "      <td>...</td>\n",
       "      <td>...</td>\n",
       "      <td>...</td>\n",
       "      <td>...</td>\n",
       "      <td>...</td>\n",
       "      <td>...</td>\n",
       "      <td>...</td>\n",
       "      <td>...</td>\n",
       "      <td>...</td>\n",
       "      <td>...</td>\n",
       "    </tr>\n",
       "    <tr>\n",
       "      <th>1906141</th>\n",
       "      <td>472.0</td>\n",
       "      <td>1.610613e+09</td>\n",
       "      <td>101141.0</td>\n",
       "      <td>19.34044</td>\n",
       "      <td>13.18479</td>\n",
       "      <td>0.00000</td>\n",
       "      <td>0.01</td>\n",
       "      <td>NaN</td>\n",
       "      <td>4</td>\n",
       "      <td>0</td>\n",
       "      <td>203083</td>\n",
       "      <td>Andre Drummond</td>\n",
       "      <td>NaN</td>\n",
       "      <td>Drummond REBOUND (Off:6 Def:9)</td>\n",
       "    </tr>\n",
       "    <tr>\n",
       "      <th>1906142</th>\n",
       "      <td>472.0</td>\n",
       "      <td>1.610613e+09</td>\n",
       "      <td>202704.0</td>\n",
       "      <td>12.30729</td>\n",
       "      <td>21.98252</td>\n",
       "      <td>0.00000</td>\n",
       "      <td>0.01</td>\n",
       "      <td>NaN</td>\n",
       "      <td>4</td>\n",
       "      <td>0</td>\n",
       "      <td>203083</td>\n",
       "      <td>Andre Drummond</td>\n",
       "      <td>NaN</td>\n",
       "      <td>Drummond REBOUND (Off:6 Def:9)</td>\n",
       "    </tr>\n",
       "    <tr>\n",
       "      <th>1906143</th>\n",
       "      <td>472.0</td>\n",
       "      <td>1.610613e+09</td>\n",
       "      <td>202694.0</td>\n",
       "      <td>9.22396</td>\n",
       "      <td>4.06039</td>\n",
       "      <td>0.00000</td>\n",
       "      <td>0.01</td>\n",
       "      <td>NaN</td>\n",
       "      <td>4</td>\n",
       "      <td>0</td>\n",
       "      <td>203083</td>\n",
       "      <td>Andre Drummond</td>\n",
       "      <td>NaN</td>\n",
       "      <td>Drummond REBOUND (Off:6 Def:9)</td>\n",
       "    </tr>\n",
       "    <tr>\n",
       "      <th>1906144</th>\n",
       "      <td>472.0</td>\n",
       "      <td>1.610613e+09</td>\n",
       "      <td>203484.0</td>\n",
       "      <td>7.16108</td>\n",
       "      <td>15.60356</td>\n",
       "      <td>0.00000</td>\n",
       "      <td>0.01</td>\n",
       "      <td>NaN</td>\n",
       "      <td>4</td>\n",
       "      <td>0</td>\n",
       "      <td>203083</td>\n",
       "      <td>Andre Drummond</td>\n",
       "      <td>NaN</td>\n",
       "      <td>Drummond REBOUND (Off:6 Def:9)</td>\n",
       "    </tr>\n",
       "    <tr>\n",
       "      <th>1906145</th>\n",
       "      <td>472.0</td>\n",
       "      <td>1.610613e+09</td>\n",
       "      <td>203083.0</td>\n",
       "      <td>14.81918</td>\n",
       "      <td>19.75303</td>\n",
       "      <td>0.00000</td>\n",
       "      <td>0.01</td>\n",
       "      <td>NaN</td>\n",
       "      <td>4</td>\n",
       "      <td>0</td>\n",
       "      <td>203083</td>\n",
       "      <td>Andre Drummond</td>\n",
       "      <td>NaN</td>\n",
       "      <td>Drummond REBOUND (Off:6 Def:9)</td>\n",
       "    </tr>\n",
       "  </tbody>\n",
       "</table>\n",
       "<p>1906146 rows × 14 columns</p>\n",
       "</div>"
      ],
      "text/plain": [
       "         EVENT       TEAM_ID  PLAYER_ID     LOC_X     LOC_Y    LOC_Z  \\\n",
       "0          1.0 -1.000000e+00       -1.0  47.25031  26.14806  6.76567   \n",
       "1          1.0  1.610613e+09     2594.0  45.70423  15.57870  0.00000   \n",
       "2          1.0  1.610613e+09   200794.0  56.87016  22.95879  0.00000   \n",
       "3          1.0  1.610613e+09   201143.0  47.26914  24.47616  0.00000   \n",
       "4          1.0  1.610613e+09   201952.0  28.26728  23.73400  0.00000   \n",
       "...        ...           ...        ...       ...       ...      ...   \n",
       "1906141  472.0  1.610613e+09   101141.0  19.34044  13.18479  0.00000   \n",
       "1906142  472.0  1.610613e+09   202704.0  12.30729  21.98252  0.00000   \n",
       "1906143  472.0  1.610613e+09   202694.0   9.22396   4.06039  0.00000   \n",
       "1906144  472.0  1.610613e+09   203484.0   7.16108  15.60356  0.00000   \n",
       "1906145  472.0  1.610613e+09   203083.0  14.81918  19.75303  0.00000   \n",
       "\n",
       "         GAME_CLOCK  SHOT_CLOCK  EVENTMSGTYPE  EVENTMSGACTIONTYPE  PLAYER1_ID  \\\n",
       "0            720.00        24.0            10                   0      201143   \n",
       "1            720.00        24.0            10                   0      201143   \n",
       "2            720.00        24.0            10                   0      201143   \n",
       "3            720.00        24.0            10                   0      201143   \n",
       "4            720.00        24.0            10                   0      201143   \n",
       "...             ...         ...           ...                 ...         ...   \n",
       "1906141        0.01         NaN             4                   0      203083   \n",
       "1906142        0.01         NaN             4                   0      203083   \n",
       "1906143        0.01         NaN             4                   0      203083   \n",
       "1906144        0.01         NaN             4                   0      203083   \n",
       "1906145        0.01         NaN             4                   0      203083   \n",
       "\n",
       "           PLAYER1_NAME                                  HOMEDESCRIPTION  \\\n",
       "0            Al Horford  Jump Ball Horford vs. Drummond: Tip to Ilyasova   \n",
       "1            Al Horford  Jump Ball Horford vs. Drummond: Tip to Ilyasova   \n",
       "2            Al Horford  Jump Ball Horford vs. Drummond: Tip to Ilyasova   \n",
       "3            Al Horford  Jump Ball Horford vs. Drummond: Tip to Ilyasova   \n",
       "4            Al Horford  Jump Ball Horford vs. Drummond: Tip to Ilyasova   \n",
       "...                 ...                                              ...   \n",
       "1906141  Andre Drummond                                              NaN   \n",
       "1906142  Andre Drummond                                              NaN   \n",
       "1906143  Andre Drummond                                              NaN   \n",
       "1906144  Andre Drummond                                              NaN   \n",
       "1906145  Andre Drummond                                              NaN   \n",
       "\n",
       "                     VISITORDESCRIPTION  \n",
       "0                                   NaN  \n",
       "1                                   NaN  \n",
       "2                                   NaN  \n",
       "3                                   NaN  \n",
       "4                                   NaN  \n",
       "...                                 ...  \n",
       "1906141  Drummond REBOUND (Off:6 Def:9)  \n",
       "1906142  Drummond REBOUND (Off:6 Def:9)  \n",
       "1906143  Drummond REBOUND (Off:6 Def:9)  \n",
       "1906144  Drummond REBOUND (Off:6 Def:9)  \n",
       "1906145  Drummond REBOUND (Off:6 Def:9)  \n",
       "\n",
       "[1906146 rows x 14 columns]"
      ]
     },
     "execution_count": 11,
     "metadata": {},
     "output_type": "execute_result"
    }
   ],
   "source": [
    "df"
   ]
  },
  {
   "cell_type": "code",
   "execution_count": 12,
   "metadata": {},
   "outputs": [],
   "source": [
    "df = df[df['EVENT']==1]"
   ]
  },
  {
   "cell_type": "code",
   "execution_count": 13,
   "metadata": {},
   "outputs": [
    {
     "data": {
      "text/html": [
       "<div>\n",
       "<style scoped>\n",
       "    .dataframe tbody tr th:only-of-type {\n",
       "        vertical-align: middle;\n",
       "    }\n",
       "\n",
       "    .dataframe tbody tr th {\n",
       "        vertical-align: top;\n",
       "    }\n",
       "\n",
       "    .dataframe thead th {\n",
       "        text-align: right;\n",
       "    }\n",
       "</style>\n",
       "<table border=\"1\" class=\"dataframe\">\n",
       "  <thead>\n",
       "    <tr style=\"text-align: right;\">\n",
       "      <th></th>\n",
       "      <th>EVENT</th>\n",
       "      <th>TEAM_ID</th>\n",
       "      <th>PLAYER_ID</th>\n",
       "      <th>LOC_X</th>\n",
       "      <th>LOC_Y</th>\n",
       "      <th>LOC_Z</th>\n",
       "      <th>GAME_CLOCK</th>\n",
       "      <th>SHOT_CLOCK</th>\n",
       "      <th>EVENTMSGTYPE</th>\n",
       "      <th>EVENTMSGACTIONTYPE</th>\n",
       "      <th>PLAYER1_ID</th>\n",
       "      <th>PLAYER1_NAME</th>\n",
       "      <th>HOMEDESCRIPTION</th>\n",
       "      <th>VISITORDESCRIPTION</th>\n",
       "    </tr>\n",
       "  </thead>\n",
       "  <tbody>\n",
       "    <tr>\n",
       "      <th>0</th>\n",
       "      <td>1.0</td>\n",
       "      <td>-1.000000e+00</td>\n",
       "      <td>-1.0</td>\n",
       "      <td>47.25031</td>\n",
       "      <td>26.14806</td>\n",
       "      <td>6.76567</td>\n",
       "      <td>720.00</td>\n",
       "      <td>24.00</td>\n",
       "      <td>10</td>\n",
       "      <td>0</td>\n",
       "      <td>201143</td>\n",
       "      <td>Al Horford</td>\n",
       "      <td>Jump Ball Horford vs. Drummond: Tip to Ilyasova</td>\n",
       "      <td>NaN</td>\n",
       "    </tr>\n",
       "    <tr>\n",
       "      <th>1</th>\n",
       "      <td>1.0</td>\n",
       "      <td>1.610613e+09</td>\n",
       "      <td>2594.0</td>\n",
       "      <td>45.70423</td>\n",
       "      <td>15.57870</td>\n",
       "      <td>0.00000</td>\n",
       "      <td>720.00</td>\n",
       "      <td>24.00</td>\n",
       "      <td>10</td>\n",
       "      <td>0</td>\n",
       "      <td>201143</td>\n",
       "      <td>Al Horford</td>\n",
       "      <td>Jump Ball Horford vs. Drummond: Tip to Ilyasova</td>\n",
       "      <td>NaN</td>\n",
       "    </tr>\n",
       "    <tr>\n",
       "      <th>2</th>\n",
       "      <td>1.0</td>\n",
       "      <td>1.610613e+09</td>\n",
       "      <td>200794.0</td>\n",
       "      <td>56.87016</td>\n",
       "      <td>22.95879</td>\n",
       "      <td>0.00000</td>\n",
       "      <td>720.00</td>\n",
       "      <td>24.00</td>\n",
       "      <td>10</td>\n",
       "      <td>0</td>\n",
       "      <td>201143</td>\n",
       "      <td>Al Horford</td>\n",
       "      <td>Jump Ball Horford vs. Drummond: Tip to Ilyasova</td>\n",
       "      <td>NaN</td>\n",
       "    </tr>\n",
       "    <tr>\n",
       "      <th>3</th>\n",
       "      <td>1.0</td>\n",
       "      <td>1.610613e+09</td>\n",
       "      <td>201143.0</td>\n",
       "      <td>47.26914</td>\n",
       "      <td>24.47616</td>\n",
       "      <td>0.00000</td>\n",
       "      <td>720.00</td>\n",
       "      <td>24.00</td>\n",
       "      <td>10</td>\n",
       "      <td>0</td>\n",
       "      <td>201143</td>\n",
       "      <td>Al Horford</td>\n",
       "      <td>Jump Ball Horford vs. Drummond: Tip to Ilyasova</td>\n",
       "      <td>NaN</td>\n",
       "    </tr>\n",
       "    <tr>\n",
       "      <th>4</th>\n",
       "      <td>1.0</td>\n",
       "      <td>1.610613e+09</td>\n",
       "      <td>201952.0</td>\n",
       "      <td>28.26728</td>\n",
       "      <td>23.73400</td>\n",
       "      <td>0.00000</td>\n",
       "      <td>720.00</td>\n",
       "      <td>24.00</td>\n",
       "      <td>10</td>\n",
       "      <td>0</td>\n",
       "      <td>201143</td>\n",
       "      <td>Al Horford</td>\n",
       "      <td>Jump Ball Horford vs. Drummond: Tip to Ilyasova</td>\n",
       "      <td>NaN</td>\n",
       "    </tr>\n",
       "    <tr>\n",
       "      <th>...</th>\n",
       "      <td>...</td>\n",
       "      <td>...</td>\n",
       "      <td>...</td>\n",
       "      <td>...</td>\n",
       "      <td>...</td>\n",
       "      <td>...</td>\n",
       "      <td>...</td>\n",
       "      <td>...</td>\n",
       "      <td>...</td>\n",
       "      <td>...</td>\n",
       "      <td>...</td>\n",
       "      <td>...</td>\n",
       "      <td>...</td>\n",
       "      <td>...</td>\n",
       "    </tr>\n",
       "    <tr>\n",
       "      <th>1645</th>\n",
       "      <td>1.0</td>\n",
       "      <td>1.610613e+09</td>\n",
       "      <td>101141.0</td>\n",
       "      <td>28.68532</td>\n",
       "      <td>26.00971</td>\n",
       "      <td>0.00000</td>\n",
       "      <td>715.41</td>\n",
       "      <td>19.45</td>\n",
       "      <td>10</td>\n",
       "      <td>0</td>\n",
       "      <td>201143</td>\n",
       "      <td>Al Horford</td>\n",
       "      <td>Jump Ball Horford vs. Drummond: Tip to Ilyasova</td>\n",
       "      <td>NaN</td>\n",
       "    </tr>\n",
       "    <tr>\n",
       "      <th>1646</th>\n",
       "      <td>1.0</td>\n",
       "      <td>1.610613e+09</td>\n",
       "      <td>202704.0</td>\n",
       "      <td>45.46978</td>\n",
       "      <td>24.52299</td>\n",
       "      <td>0.00000</td>\n",
       "      <td>715.41</td>\n",
       "      <td>19.45</td>\n",
       "      <td>10</td>\n",
       "      <td>0</td>\n",
       "      <td>201143</td>\n",
       "      <td>Al Horford</td>\n",
       "      <td>Jump Ball Horford vs. Drummond: Tip to Ilyasova</td>\n",
       "      <td>NaN</td>\n",
       "    </tr>\n",
       "    <tr>\n",
       "      <th>1647</th>\n",
       "      <td>1.0</td>\n",
       "      <td>1.610613e+09</td>\n",
       "      <td>202694.0</td>\n",
       "      <td>11.38633</td>\n",
       "      <td>11.14297</td>\n",
       "      <td>0.00000</td>\n",
       "      <td>715.41</td>\n",
       "      <td>19.45</td>\n",
       "      <td>10</td>\n",
       "      <td>0</td>\n",
       "      <td>201143</td>\n",
       "      <td>Al Horford</td>\n",
       "      <td>Jump Ball Horford vs. Drummond: Tip to Ilyasova</td>\n",
       "      <td>NaN</td>\n",
       "    </tr>\n",
       "    <tr>\n",
       "      <th>1648</th>\n",
       "      <td>1.0</td>\n",
       "      <td>1.610613e+09</td>\n",
       "      <td>203484.0</td>\n",
       "      <td>14.56702</td>\n",
       "      <td>43.49165</td>\n",
       "      <td>0.00000</td>\n",
       "      <td>715.41</td>\n",
       "      <td>19.45</td>\n",
       "      <td>10</td>\n",
       "      <td>0</td>\n",
       "      <td>201143</td>\n",
       "      <td>Al Horford</td>\n",
       "      <td>Jump Ball Horford vs. Drummond: Tip to Ilyasova</td>\n",
       "      <td>NaN</td>\n",
       "    </tr>\n",
       "    <tr>\n",
       "      <th>1649</th>\n",
       "      <td>1.0</td>\n",
       "      <td>1.610613e+09</td>\n",
       "      <td>203083.0</td>\n",
       "      <td>25.19071</td>\n",
       "      <td>27.68948</td>\n",
       "      <td>0.00000</td>\n",
       "      <td>715.41</td>\n",
       "      <td>19.45</td>\n",
       "      <td>10</td>\n",
       "      <td>0</td>\n",
       "      <td>201143</td>\n",
       "      <td>Al Horford</td>\n",
       "      <td>Jump Ball Horford vs. Drummond: Tip to Ilyasova</td>\n",
       "      <td>NaN</td>\n",
       "    </tr>\n",
       "  </tbody>\n",
       "</table>\n",
       "<p>1650 rows × 14 columns</p>\n",
       "</div>"
      ],
      "text/plain": [
       "      EVENT       TEAM_ID  PLAYER_ID     LOC_X     LOC_Y    LOC_Z  GAME_CLOCK  \\\n",
       "0       1.0 -1.000000e+00       -1.0  47.25031  26.14806  6.76567      720.00   \n",
       "1       1.0  1.610613e+09     2594.0  45.70423  15.57870  0.00000      720.00   \n",
       "2       1.0  1.610613e+09   200794.0  56.87016  22.95879  0.00000      720.00   \n",
       "3       1.0  1.610613e+09   201143.0  47.26914  24.47616  0.00000      720.00   \n",
       "4       1.0  1.610613e+09   201952.0  28.26728  23.73400  0.00000      720.00   \n",
       "...     ...           ...        ...       ...       ...      ...         ...   \n",
       "1645    1.0  1.610613e+09   101141.0  28.68532  26.00971  0.00000      715.41   \n",
       "1646    1.0  1.610613e+09   202704.0  45.46978  24.52299  0.00000      715.41   \n",
       "1647    1.0  1.610613e+09   202694.0  11.38633  11.14297  0.00000      715.41   \n",
       "1648    1.0  1.610613e+09   203484.0  14.56702  43.49165  0.00000      715.41   \n",
       "1649    1.0  1.610613e+09   203083.0  25.19071  27.68948  0.00000      715.41   \n",
       "\n",
       "      SHOT_CLOCK  EVENTMSGTYPE  EVENTMSGACTIONTYPE  PLAYER1_ID PLAYER1_NAME  \\\n",
       "0          24.00            10                   0      201143   Al Horford   \n",
       "1          24.00            10                   0      201143   Al Horford   \n",
       "2          24.00            10                   0      201143   Al Horford   \n",
       "3          24.00            10                   0      201143   Al Horford   \n",
       "4          24.00            10                   0      201143   Al Horford   \n",
       "...          ...           ...                 ...         ...          ...   \n",
       "1645       19.45            10                   0      201143   Al Horford   \n",
       "1646       19.45            10                   0      201143   Al Horford   \n",
       "1647       19.45            10                   0      201143   Al Horford   \n",
       "1648       19.45            10                   0      201143   Al Horford   \n",
       "1649       19.45            10                   0      201143   Al Horford   \n",
       "\n",
       "                                      HOMEDESCRIPTION VISITORDESCRIPTION  \n",
       "0     Jump Ball Horford vs. Drummond: Tip to Ilyasova                NaN  \n",
       "1     Jump Ball Horford vs. Drummond: Tip to Ilyasova                NaN  \n",
       "2     Jump Ball Horford vs. Drummond: Tip to Ilyasova                NaN  \n",
       "3     Jump Ball Horford vs. Drummond: Tip to Ilyasova                NaN  \n",
       "4     Jump Ball Horford vs. Drummond: Tip to Ilyasova                NaN  \n",
       "...                                               ...                ...  \n",
       "1645  Jump Ball Horford vs. Drummond: Tip to Ilyasova                NaN  \n",
       "1646  Jump Ball Horford vs. Drummond: Tip to Ilyasova                NaN  \n",
       "1647  Jump Ball Horford vs. Drummond: Tip to Ilyasova                NaN  \n",
       "1648  Jump Ball Horford vs. Drummond: Tip to Ilyasova                NaN  \n",
       "1649  Jump Ball Horford vs. Drummond: Tip to Ilyasova                NaN  \n",
       "\n",
       "[1650 rows x 14 columns]"
      ]
     },
     "execution_count": 13,
     "metadata": {},
     "output_type": "execute_result"
    }
   ],
   "source": [
    "df"
   ]
  },
  {
   "cell_type": "code",
   "execution_count": 14,
   "metadata": {},
   "outputs": [
    {
     "name": "stderr",
     "output_type": "stream",
     "text": [
      "C:\\Users\\nicho\\AppData\\Local\\Temp\\ipykernel_13972\\797950619.py:2: SettingWithCopyWarning: \n",
      "A value is trying to be set on a copy of a slice from a DataFrame.\n",
      "Try using .loc[row_indexer,col_indexer] = value instead\n",
      "\n",
      "See the caveats in the documentation: https://pandas.pydata.org/pandas-docs/stable/user_guide/indexing.html#returning-a-view-versus-a-copy\n",
      "  df.loc[:,'MOMENT_NUM'] = np.divmod(np.arange(length),11)[0]+1\n",
      "C:\\Users\\nicho\\AppData\\Local\\Temp\\ipykernel_13972\\797950619.py:3: SettingWithCopyWarning: \n",
      "A value is trying to be set on a copy of a slice from a DataFrame.\n",
      "Try using .loc[row_indexer,col_indexer] = value instead\n",
      "\n",
      "See the caveats in the documentation: https://pandas.pydata.org/pandas-docs/stable/user_guide/indexing.html#returning-a-view-versus-a-copy\n",
      "  df.loc[:,'LOC_Z'] = df['LOC_Z']+1\n"
     ]
    }
   ],
   "source": [
    "length = len(df)\n",
    "df.loc[:,'MOMENT_NUM'] = np.divmod(np.arange(length),11)[0]+1\n",
    "df.loc[:,'LOC_Z'] = df['LOC_Z']+1"
   ]
  },
  {
   "cell_type": "code",
   "execution_count": 15,
   "metadata": {},
   "outputs": [],
   "source": [
    "import plotly.express as px"
   ]
  },
  {
   "cell_type": "code",
   "execution_count": 18,
   "metadata": {},
   "outputs": [
    {
     "ename": "ValueError",
     "evalue": "The truth value of a DataFrame is ambiguous. Use a.empty, a.bool(), a.item(), a.any() or a.all().",
     "output_type": "error",
     "traceback": [
      "\u001b[1;31m---------------------------------------------------------------------------\u001b[0m",
      "\u001b[1;31mValueError\u001b[0m                                Traceback (most recent call last)",
      "\u001b[1;32me:\\Programming\\Projects\\SportsAnalytics\\SportVU\\notebooks\\RedoAnim.ipynb Cell 8'\u001b[0m in \u001b[0;36m<cell line: 1>\u001b[1;34m()\u001b[0m\n\u001b[1;32m----> <a href='vscode-notebook-cell:/e%3A/Programming/Projects/SportsAnalytics/SportVU/notebooks/RedoAnim.ipynb#ch0000011?line=0'>1</a>\u001b[0m \u001b[39mif\u001b[39;00m(df[df[\u001b[39m'\u001b[39m\u001b[39mPLAYER_ID\u001b[39m\u001b[39m'\u001b[39m]\u001b[39m!=\u001b[39m\u001b[39m-\u001b[39m\u001b[39m1\u001b[39m]):\n\u001b[0;32m      <a href='vscode-notebook-cell:/e%3A/Programming/Projects/SportsAnalytics/SportVU/notebooks/RedoAnim.ipynb#ch0000011?line=1'>2</a>\u001b[0m     df[\u001b[39m'\u001b[39m\u001b[39mLOC_X\u001b[39m\u001b[39m'\u001b[39m]\u001b[39m=\u001b[39mdf[\u001b[39m'\u001b[39m\u001b[39mLOC_X\u001b[39m\u001b[39m'\u001b[39m]\u001b[39m+\u001b[39m\u001b[39m5\u001b[39m\n",
      "File \u001b[1;32me:\\Programming\\Installations\\Python\\lib\\site-packages\\pandas\\core\\generic.py:1527\u001b[0m, in \u001b[0;36mNDFrame.__nonzero__\u001b[1;34m(self)\u001b[0m\n\u001b[0;32m   1525\u001b[0m \u001b[39m@final\u001b[39m\n\u001b[0;32m   1526\u001b[0m \u001b[39mdef\u001b[39;00m \u001b[39m__nonzero__\u001b[39m(\u001b[39mself\u001b[39m):\n\u001b[1;32m-> 1527\u001b[0m     \u001b[39mraise\u001b[39;00m \u001b[39mValueError\u001b[39;00m(\n\u001b[0;32m   1528\u001b[0m         \u001b[39mf\u001b[39m\u001b[39m\"\u001b[39m\u001b[39mThe truth value of a \u001b[39m\u001b[39m{\u001b[39;00m\u001b[39mtype\u001b[39m(\u001b[39mself\u001b[39m)\u001b[39m.\u001b[39m\u001b[39m__name__\u001b[39m\u001b[39m}\u001b[39;00m\u001b[39m is ambiguous. \u001b[39m\u001b[39m\"\u001b[39m\n\u001b[0;32m   1529\u001b[0m         \u001b[39m\"\u001b[39m\u001b[39mUse a.empty, a.bool(), a.item(), a.any() or a.all().\u001b[39m\u001b[39m\"\u001b[39m\n\u001b[0;32m   1530\u001b[0m     )\n",
      "\u001b[1;31mValueError\u001b[0m: The truth value of a DataFrame is ambiguous. Use a.empty, a.bool(), a.item(), a.any() or a.all()."
     ]
    }
   ],
   "source": [
    "if(df['PLAYER_ID']!=-1]):\n",
    "    df['LOC_X']=df['LOC_X']+5"
   ]
  },
  {
   "cell_type": "code",
   "execution_count": 16,
   "metadata": {},
   "outputs": [
    {
     "data": {
      "application/vnd.plotly.v1+json": {
       "config": {
        "plotlyServerURL": "https://plot.ly"
       },
       "data": [
        {
         "hovertemplate": "MOMENT_NUM=1<br>LOC_X=%{x}<br>LOC_Y=%{y}<br>LOC_Z=%{marker.size}<br>TEAM_ID=%{marker.color}<extra></extra>",
         "ids": [
          -1,
          2594,
          200794,
          201143,
          201952,
          203145,
          101141,
          202704,
          202694,
          203484,
          203083
         ],
         "legendgroup": "",
         "marker": {
          "color": [
           -1,
           1610612737,
           1610612737,
           1610612737,
           1610612737,
           1610612737,
           1610612765,
           1610612765,
           1610612765,
           1610612765,
           1610612765
          ],
          "coloraxis": "coloraxis",
          "size": [
           7.76567,
           1,
           1,
           1,
           1,
           1,
           1,
           1,
           1,
           1,
           1
          ],
          "sizemode": "area",
          "sizeref": 0.029588299999999998,
          "symbol": "circle"
         },
         "mode": "markers",
         "name": "",
         "orientation": "v",
         "showlegend": false,
         "type": "scatter",
         "x": [
          47.25031,
          45.70423,
          56.87016,
          47.26914,
          28.26728,
          40.59368,
          56.27694,
          73.64107,
          48.64923,
          48.46352,
          47.51449
         ],
         "xaxis": "x",
         "y": [
          26.14806,
          15.5787,
          22.95879,
          24.47616,
          23.734,
          31.74141,
          25.5146,
          25.48774,
          35.26915,
          14.55436,
          24.36448
         ],
         "yaxis": "y"
        }
       ],
       "frames": [
        {
         "data": [
          {
           "hovertemplate": "MOMENT_NUM=1<br>LOC_X=%{x}<br>LOC_Y=%{y}<br>LOC_Z=%{marker.size}<br>TEAM_ID=%{marker.color}<extra></extra>",
           "ids": [
            -1,
            2594,
            200794,
            201143,
            201952,
            203145,
            101141,
            202704,
            202694,
            203484,
            203083
           ],
           "legendgroup": "",
           "marker": {
            "color": [
             -1,
             1610612737,
             1610612737,
             1610612737,
             1610612737,
             1610612737,
             1610612765,
             1610612765,
             1610612765,
             1610612765,
             1610612765
            ],
            "coloraxis": "coloraxis",
            "size": [
             7.76567,
             1,
             1,
             1,
             1,
             1,
             1,
             1,
             1,
             1,
             1
            ],
            "sizemode": "area",
            "sizeref": 0.029588299999999998,
            "symbol": "circle"
           },
           "mode": "markers",
           "name": "",
           "orientation": "v",
           "showlegend": false,
           "type": "scatter",
           "x": [
            47.25031,
            45.70423,
            56.87016,
            47.26914,
            28.26728,
            40.59368,
            56.27694,
            73.64107,
            48.64923,
            48.46352,
            47.51449
           ],
           "xaxis": "x",
           "y": [
            26.14806,
            15.5787,
            22.95879,
            24.47616,
            23.734,
            31.74141,
            25.5146,
            25.48774,
            35.26915,
            14.55436,
            24.36448
           ],
           "yaxis": "y"
          }
         ],
         "name": "1"
        },
        {
         "data": [
          {
           "hovertemplate": "MOMENT_NUM=2<br>LOC_X=%{x}<br>LOC_Y=%{y}<br>LOC_Z=%{marker.size}<br>TEAM_ID=%{marker.color}<extra></extra>",
           "ids": [
            -1,
            2594,
            200794,
            201143,
            201952,
            203145,
            101141,
            202704,
            202694,
            203484,
            203083
           ],
           "legendgroup": "",
           "marker": {
            "color": [
             -1,
             1610612737,
             1610612737,
             1610612737,
             1610612737,
             1610612737,
             1610612765,
             1610612765,
             1610612765,
             1610612765,
             1610612765
            ],
            "coloraxis": "coloraxis",
            "size": [
             7.86375,
             1,
             1,
             1,
             1,
             1,
             1,
             1,
             1,
             1,
             1
            ],
            "sizemode": "area",
            "sizeref": 0.029588299999999998,
            "symbol": "circle"
           },
           "mode": "markers",
           "name": "",
           "orientation": "v",
           "showlegend": false,
           "type": "scatter",
           "x": [
            47.16223,
            45.69864,
            56.85699,
            47.38016,
            28.35063,
            40.57886,
            56.264,
            73.64283,
            48.63994,
            48.46453,
            47.48025
           ],
           "xaxis": "x",
           "y": [
            26.23652,
            15.59827,
            22.94288,
            24.3566,
            23.71423,
            31.73191,
            25.52289,
            25.48583,
            35.28079,
            14.54789,
            24.3337
           ],
           "yaxis": "y"
          }
         ],
         "name": "2"
        },
        {
         "data": [
          {
           "hovertemplate": "MOMENT_NUM=3<br>LOC_X=%{x}<br>LOC_Y=%{y}<br>LOC_Z=%{marker.size}<br>TEAM_ID=%{marker.color}<extra></extra>",
           "ids": [
            -1,
            2594,
            200794,
            201143,
            201952,
            203145,
            101141,
            202704,
            202694,
            203484,
            203083
           ],
           "legendgroup": "",
           "marker": {
            "color": [
             -1,
             1610612737,
             1610612737,
             1610612737,
             1610612737,
             1610612737,
             1610612765,
             1610612765,
             1610612765,
             1610612765,
             1610612765
            ],
            "coloraxis": "coloraxis",
            "size": [
             7.79804,
             1,
             1,
             1,
             1,
             1,
             1,
             1,
             1,
             1,
             1
            ],
            "sizemode": "area",
            "sizeref": 0.029588299999999998,
            "symbol": "circle"
           },
           "mode": "markers",
           "name": "",
           "orientation": "v",
           "showlegend": false,
           "type": "scatter",
           "x": [
            47.16051,
            45.69454,
            56.88806,
            47.44308,
            28.43244,
            40.56605,
            56.30188,
            73.64151,
            48.62628,
            48.46574,
            47.44308
           ],
           "xaxis": "x",
           "y": [
            26.18061,
            15.61503,
            22.94275,
            24.29835,
            23.6925,
            31.72561,
            25.52964,
            25.48083,
            35.29283,
            14.54386,
            24.29835
           ],
           "yaxis": "y"
          }
         ],
         "name": "3"
        },
        {
         "data": [
          {
           "hovertemplate": "MOMENT_NUM=4<br>LOC_X=%{x}<br>LOC_Y=%{y}<br>LOC_Z=%{marker.size}<br>TEAM_ID=%{marker.color}<extra></extra>",
           "ids": [
            -1,
            2594,
            200794,
            201143,
            201952,
            203145,
            101141,
            202704,
            202694,
            203484,
            203083
           ],
           "legendgroup": "",
           "marker": {
            "color": [
             -1,
             1610612737,
             1610612737,
             1610612737,
             1610612737,
             1610612737,
             1610612765,
             1610612765,
             1610612765,
             1610612765,
             1610612765
            ],
            "coloraxis": "coloraxis",
            "size": [
             7.84851,
             1,
             1,
             1,
             1,
             1,
             1,
             1,
             1,
             1,
             1
            ],
            "sizemode": "area",
            "sizeref": 0.029588299999999998,
            "symbol": "circle"
           },
           "mode": "markers",
           "name": "",
           "orientation": "v",
           "showlegend": false,
           "type": "scatter",
           "x": [
            47.12323,
            45.69229,
            56.93498,
            47.4445,
            28.50975,
            40.55437,
            56.33134,
            73.64045,
            48.61356,
            48.46702,
            47.4445
           ],
           "xaxis": "x",
           "y": [
            26.14186,
            15.63347,
            22.94299,
            24.29213,
            23.66888,
            31.71967,
            25.53673,
            25.47455,
            35.29584,
            14.54001,
            24.29213
           ],
           "yaxis": "y"
          }
         ],
         "name": "4"
        },
        {
         "data": [
          {
           "hovertemplate": "MOMENT_NUM=5<br>LOC_X=%{x}<br>LOC_Y=%{y}<br>LOC_Z=%{marker.size}<br>TEAM_ID=%{marker.color}<extra></extra>",
           "ids": [
            -1,
            2594,
            200794,
            201143,
            201952,
            203145,
            101141,
            202704,
            202694,
            203484,
            203083
           ],
           "legendgroup": "",
           "marker": {
            "color": [
             -1,
             1610612737,
             1610612737,
             1610612737,
             1610612737,
             1610612737,
             1610612765,
             1610612765,
             1610612765,
             1610612765,
             1610612765
            ],
            "coloraxis": "coloraxis",
            "size": [
             7.77785,
             1,
             1,
             1,
             1,
             1,
             1,
             1,
             1,
             1,
             1
            ],
            "sizemode": "area",
            "sizeref": 0.029588299999999998,
            "symbol": "circle"
           },
           "mode": "markers",
           "name": "",
           "orientation": "v",
           "showlegend": false,
           "type": "scatter",
           "x": [
            47.19169,
            45.69207,
            56.921,
            47.41923,
            28.58962,
            40.5431,
            56.32635,
            73.64062,
            48.59735,
            48.46976,
            47.41923
           ],
           "xaxis": "x",
           "y": [
            26.17897,
            15.64891,
            22.95144,
            24.26615,
            23.6473,
            31.71487,
            25.51965,
            25.4701,
            35.29723,
            14.53138,
            24.26615
           ],
           "yaxis": "y"
          }
         ],
         "name": "5"
        },
        {
         "data": [
          {
           "hovertemplate": "MOMENT_NUM=6<br>LOC_X=%{x}<br>LOC_Y=%{y}<br>LOC_Z=%{marker.size}<br>TEAM_ID=%{marker.color}<extra></extra>",
           "ids": [
            -1,
            2594,
            200794,
            201143,
            201952,
            203145,
            101141,
            202704,
            202694,
            203484,
            203083
           ],
           "legendgroup": "",
           "marker": {
            "color": [
             -1,
             1610612737,
             1610612737,
             1610612737,
             1610612737,
             1610612737,
             1610612765,
             1610612765,
             1610612765,
             1610612765,
             1610612765
            ],
            "coloraxis": "coloraxis",
            "size": [
             7.77785,
             1,
             1,
             1,
             1,
             1,
             1,
             1,
             1,
             1,
             1
            ],
            "sizemode": "area",
            "sizeref": 0.029588299999999998,
            "symbol": "circle"
           },
           "mode": "markers",
           "name": "",
           "orientation": "v",
           "showlegend": false,
           "type": "scatter",
           "x": [
            47.19169,
            45.69199,
            56.90869,
            47.41252,
            28.6677,
            40.53508,
            56.31351,
            73.64053,
            48.58191,
            48.47172,
            47.41252
           ],
           "xaxis": "x",
           "y": [
            26.17897,
            15.66236,
            22.93791,
            24.24539,
            23.62981,
            31.71154,
            25.54035,
            25.46166,
            35.30298,
            14.52706,
            24.24539
           ],
           "yaxis": "y"
          }
         ],
         "name": "6"
        },
        {
         "data": [
          {
           "hovertemplate": "MOMENT_NUM=7<br>LOC_X=%{x}<br>LOC_Y=%{y}<br>LOC_Z=%{marker.size}<br>TEAM_ID=%{marker.color}<extra></extra>",
           "ids": [
            -1,
            2594,
            200794,
            201143,
            201952,
            203145,
            101141,
            202704,
            202694,
            203484,
            203083
           ],
           "legendgroup": "",
           "marker": {
            "color": [
             -1,
             1610612737,
             1610612737,
             1610612737,
             1610612737,
             1610612737,
             1610612765,
             1610612765,
             1610612765,
             1610612765,
             1610612765
            ],
            "coloraxis": "coloraxis",
            "size": [
             7.71194,
             1,
             1,
             1,
             1,
             1,
             1,
             1,
             1,
             1,
             1
            ],
            "sizemode": "area",
            "sizeref": 0.029588299999999998,
            "symbol": "circle"
           },
           "mode": "markers",
           "name": "",
           "orientation": "v",
           "showlegend": false,
           "type": "scatter",
           "x": [
            47.18297,
            45.69558,
            56.90575,
            47.41832,
            28.74558,
            40.52903,
            56.32116,
            73.64312,
            48.56702,
            48.47587,
            47.41832
           ],
           "xaxis": "x",
           "y": [
            26.21647,
            15.67616,
            22.93942,
            24.25293,
            23.61185,
            31.70822,
            25.54542,
            25.45697,
            35.30864,
            14.52186,
            24.25293
           ],
           "yaxis": "y"
          }
         ],
         "name": "7"
        },
        {
         "data": [
          {
           "hovertemplate": "MOMENT_NUM=8<br>LOC_X=%{x}<br>LOC_Y=%{y}<br>LOC_Z=%{marker.size}<br>TEAM_ID=%{marker.color}<extra></extra>",
           "ids": [
            -1,
            2594,
            200794,
            201143,
            201952,
            203145,
            101141,
            202704,
            202694,
            203484,
            203083
           ],
           "legendgroup": "",
           "marker": {
            "color": [
             -1,
             1610612737,
             1610612737,
             1610612737,
             1610612737,
             1610612737,
             1610612765,
             1610612765,
             1610612765,
             1610612765,
             1610612765
            ],
            "coloraxis": "coloraxis",
            "size": [
             7.70549,
             1,
             1,
             1,
             1,
             1,
             1,
             1,
             1,
             1,
             1
            ],
            "sizemode": "area",
            "sizeref": 0.029588299999999998,
            "symbol": "circle"
           },
           "mode": "markers",
           "name": "",
           "orientation": "v",
           "showlegend": false,
           "type": "scatter",
           "x": [
            47.18991,
            45.7001,
            56.90458,
            47.38687,
            28.82026,
            40.52499,
            56.32903,
            73.64788,
            48.55407,
            48.47719,
            47.38687
           ],
           "xaxis": "x",
           "y": [
            26.1844,
            15.68734,
            22.93914,
            24.24348,
            23.58767,
            31.70466,
            25.54612,
            25.45367,
            35.31268,
            14.51957,
            24.24348
           ],
           "yaxis": "y"
          }
         ],
         "name": "8"
        },
        {
         "data": [
          {
           "hovertemplate": "MOMENT_NUM=9<br>LOC_X=%{x}<br>LOC_Y=%{y}<br>LOC_Z=%{marker.size}<br>TEAM_ID=%{marker.color}<extra></extra>",
           "ids": [
            -1,
            2594,
            200794,
            201143,
            201952,
            203145,
            101141,
            202704,
            202694,
            203484,
            203083
           ],
           "legendgroup": "",
           "marker": {
            "color": [
             -1,
             1610612737,
             1610612737,
             1610612737,
             1610612737,
             1610612737,
             1610612765,
             1610612765,
             1610612765,
             1610612765,
             1610612765
            ],
            "coloraxis": "coloraxis",
            "size": [
             7.92463,
             1,
             1,
             1,
             1,
             1,
             1,
             1,
             1,
             1,
             1
            ],
            "sizemode": "area",
            "sizeref": 0.029588299999999998,
            "symbol": "circle"
           },
           "mode": "markers",
           "name": "",
           "orientation": "v",
           "showlegend": false,
           "type": "scatter",
           "x": [
            47.24108,
            45.70569,
            56.92041,
            47.38229,
            28.89483,
            40.5219,
            56.35281,
            73.65378,
            48.54168,
            48.47974,
            47.38229
           ],
           "xaxis": "x",
           "y": [
            26.29203,
            15.69936,
            22.95959,
            24.25949,
            23.56584,
            31.70028,
            25.53309,
            25.45089,
            35.31562,
            14.51564,
            24.25949
           ],
           "yaxis": "y"
          }
         ],
         "name": "9"
        },
        {
         "data": [
          {
           "hovertemplate": "MOMENT_NUM=10<br>LOC_X=%{x}<br>LOC_Y=%{y}<br>LOC_Z=%{marker.size}<br>TEAM_ID=%{marker.color}<extra></extra>",
           "ids": [
            -1,
            2594,
            200794,
            201143,
            201952,
            203145,
            101141,
            202704,
            202694,
            203484,
            203083
           ],
           "legendgroup": "",
           "marker": {
            "color": [
             -1,
             1610612737,
             1610612737,
             1610612737,
             1610612737,
             1610612737,
             1610612765,
             1610612765,
             1610612765,
             1610612765,
             1610612765
            ],
            "coloraxis": "coloraxis",
            "size": [
             8.358,
             1,
             1,
             1,
             1,
             1,
             1,
             1,
             1,
             1,
             1
            ],
            "sizemode": "area",
            "sizeref": 0.029588299999999998,
            "symbol": "circle"
           },
           "mode": "markers",
           "name": "",
           "orientation": "v",
           "showlegend": false,
           "type": "scatter",
           "x": [
            47.21699,
            45.71071,
            56.92019,
            47.39271,
            28.97162,
            40.52351,
            56.35861,
            73.65806,
            48.53179,
            48.48332,
            47.39271
           ],
           "xaxis": "x",
           "y": [
            26.25697,
            15.70952,
            22.97003,
            24.24378,
            23.54138,
            31.69747,
            25.54322,
            25.44611,
            35.316,
            14.51258,
            24.24378
           ],
           "yaxis": "y"
          }
         ],
         "name": "10"
        },
        {
         "data": [
          {
           "hovertemplate": "MOMENT_NUM=11<br>LOC_X=%{x}<br>LOC_Y=%{y}<br>LOC_Z=%{marker.size}<br>TEAM_ID=%{marker.color}<extra></extra>",
           "ids": [
            -1,
            2594,
            200794,
            201143,
            201952,
            203145,
            101141,
            202704,
            202694,
            203484,
            203083
           ],
           "legendgroup": "",
           "marker": {
            "color": [
             -1,
             1610612737,
             1610612737,
             1610612737,
             1610612737,
             1610612737,
             1610612765,
             1610612765,
             1610612765,
             1610612765,
             1610612765
            ],
            "coloraxis": "coloraxis",
            "size": [
             8.90314,
             1,
             1,
             1,
             1,
             1,
             1,
             1,
             1,
             1,
             1
            ],
            "sizemode": "area",
            "sizeref": 0.029588299999999998,
            "symbol": "circle"
           },
           "mode": "markers",
           "name": "",
           "orientation": "v",
           "showlegend": false,
           "type": "scatter",
           "x": [
            47.1398,
            45.71693,
            56.91002,
            47.4004,
            29.04625,
            40.52672,
            56.35804,
            73.66475,
            48.52854,
            48.48687,
            47.4004
           ],
           "xaxis": "x",
           "y": [
            26.20592,
            15.71976,
            22.99186,
            24.25627,
            23.52341,
            31.69455,
            25.53366,
            25.44669,
            35.31088,
            14.50779,
            24.25627
           ],
           "yaxis": "y"
          }
         ],
         "name": "11"
        },
        {
         "data": [
          {
           "hovertemplate": "MOMENT_NUM=12<br>LOC_X=%{x}<br>LOC_Y=%{y}<br>LOC_Z=%{marker.size}<br>TEAM_ID=%{marker.color}<extra></extra>",
           "ids": [
            -1,
            2594,
            200794,
            201143,
            201952,
            203145,
            101141,
            202704,
            202694,
            203484,
            203083
           ],
           "legendgroup": "",
           "marker": {
            "color": [
             -1,
             1610612737,
             1610612737,
             1610612737,
             1610612737,
             1610612737,
             1610612765,
             1610612765,
             1610612765,
             1610612765,
             1610612765
            ],
            "coloraxis": "coloraxis",
            "size": [
             9.47128,
             1,
             1,
             1,
             1,
             1,
             1,
             1,
             1,
             1,
             1
            ],
            "sizemode": "area",
            "sizeref": 0.029588299999999998,
            "symbol": "circle"
           },
           "mode": "markers",
           "name": "",
           "orientation": "v",
           "showlegend": false,
           "type": "scatter",
           "x": [
            47.26647,
            45.72534,
            56.93823,
            47.42009,
            29.125,
            40.53301,
            56.38816,
            73.66565,
            48.53029,
            48.49279,
            47.42009
           ],
           "xaxis": "x",
           "y": [
            26.22279,
            15.72572,
            23.0159,
            24.28242,
            23.51132,
            31.69375,
            25.52626,
            25.45145,
            35.30829,
            14.5051,
            24.28242
           ],
           "yaxis": "y"
          }
         ],
         "name": "12"
        },
        {
         "data": [
          {
           "hovertemplate": "MOMENT_NUM=13<br>LOC_X=%{x}<br>LOC_Y=%{y}<br>LOC_Z=%{marker.size}<br>TEAM_ID=%{marker.color}<extra></extra>",
           "ids": [
            -1,
            2594,
            200794,
            201143,
            201952,
            203145,
            101141,
            202704,
            202694,
            203484,
            203083
           ],
           "legendgroup": "",
           "marker": {
            "color": [
             -1,
             1610612737,
             1610612737,
             1610612737,
             1610612737,
             1610612737,
             1610612765,
             1610612765,
             1610612765,
             1610612765,
             1610612765
            ],
            "coloraxis": "coloraxis",
            "size": [
             10.02512,
             1,
             1,
             1,
             1,
             1,
             1,
             1,
             1,
             1,
             1
            ],
            "sizemode": "area",
            "sizeref": 0.029588299999999998,
            "symbol": "circle"
           },
           "mode": "markers",
           "name": "",
           "orientation": "v",
           "showlegend": false,
           "type": "scatter",
           "x": [
            47.26005,
            45.73457,
            56.97294,
            47.39774,
            29.19897,
            40.54209,
            56.41567,
            73.66896,
            48.54043,
            48.49733,
            47.39774
           ],
           "xaxis": "x",
           "y": [
            26.11308,
            15.7308,
            23.0608,
            24.29479,
            23.50058,
            31.69175,
            25.53419,
            25.45389,
            35.30824,
            14.50585,
            24.29479
           ],
           "yaxis": "y"
          }
         ],
         "name": "13"
        },
        {
         "data": [
          {
           "hovertemplate": "MOMENT_NUM=14<br>LOC_X=%{x}<br>LOC_Y=%{y}<br>LOC_Z=%{marker.size}<br>TEAM_ID=%{marker.color}<extra></extra>",
           "ids": [
            -1,
            2594,
            200794,
            201143,
            201952,
            203145,
            101141,
            202704,
            202694,
            203484,
            203083
           ],
           "legendgroup": "",
           "marker": {
            "color": [
             -1,
             1610612737,
             1610612737,
             1610612737,
             1610612737,
             1610612737,
             1610612765,
             1610612765,
             1610612765,
             1610612765,
             1610612765
            ],
            "coloraxis": "coloraxis",
            "size": [
             10.37988,
             1,
             1,
             1,
             1,
             1,
             1,
             1,
             1,
             1,
             1
            ],
            "sizemode": "area",
            "sizeref": 0.029588299999999998,
            "symbol": "circle"
           },
           "mode": "markers",
           "name": "",
           "orientation": "v",
           "showlegend": false,
           "type": "scatter",
           "x": [
            47.19346,
            45.74478,
            56.9938,
            47.40673,
            29.27654,
            40.55292,
            56.42373,
            73.67262,
            48.55909,
            48.50012,
            47.40673
           ],
           "xaxis": "x",
           "y": [
            26.02972,
            15.73294,
            23.11265,
            24.33337,
            23.49253,
            31.68903,
            25.53506,
            25.45531,
            35.30954,
            14.50359,
            24.33337
           ],
           "yaxis": "y"
          }
         ],
         "name": "14"
        },
        {
         "data": [
          {
           "hovertemplate": "MOMENT_NUM=15<br>LOC_X=%{x}<br>LOC_Y=%{y}<br>LOC_Z=%{marker.size}<br>TEAM_ID=%{marker.color}<extra></extra>",
           "ids": [
            -1,
            2594,
            200794,
            201143,
            201952,
            203145,
            101141,
            202704,
            202694,
            203484,
            203083
           ],
           "legendgroup": "",
           "marker": {
            "color": [
             -1,
             1610612737,
             1610612737,
             1610612737,
             1610612737,
             1610612737,
             1610612765,
             1610612765,
             1610612765,
             1610612765,
             1610612765
            ],
            "coloraxis": "coloraxis",
            "size": [
             10.78482,
             1,
             1,
             1,
             1,
             1,
             1,
             1,
             1,
             1,
             1
            ],
            "sizemode": "area",
            "sizeref": 0.029588299999999998,
            "symbol": "circle"
           },
           "mode": "markers",
           "name": "",
           "orientation": "v",
           "showlegend": false,
           "type": "scatter",
           "x": [
            47.23507,
            45.75508,
            57.01779,
            47.41098,
            29.34714,
            40.5648,
            56.43121,
            73.67834,
            48.57792,
            48.50334,
            47.41098
           ],
           "xaxis": "x",
           "y": [
            26.07844,
            15.73348,
            23.16575,
            24.3599,
            23.48481,
            31.68892,
            25.53542,
            25.45712,
            35.31128,
            14.50277,
            24.3599
           ],
           "yaxis": "y"
          }
         ],
         "name": "15"
        },
        {
         "data": [
          {
           "hovertemplate": "MOMENT_NUM=16<br>LOC_X=%{x}<br>LOC_Y=%{y}<br>LOC_Z=%{marker.size}<br>TEAM_ID=%{marker.color}<extra></extra>",
           "ids": [
            -1,
            2594,
            200794,
            201143,
            201952,
            203145,
            101141,
            202704,
            202694,
            203484,
            203083
           ],
           "legendgroup": "",
           "marker": {
            "color": [
             -1,
             1610612737,
             1610612737,
             1610612737,
             1610612737,
             1610612737,
             1610612765,
             1610612765,
             1610612765,
             1610612765,
             1610612765
            ],
            "coloraxis": "coloraxis",
            "size": [
             11.04386,
             1,
             1,
             1,
             1,
             1,
             1,
             1,
             1,
             1,
             1
            ],
            "sizemode": "area",
            "sizeref": 0.029588299999999998,
            "symbol": "circle"
           },
           "mode": "markers",
           "name": "",
           "orientation": "v",
           "showlegend": false,
           "type": "scatter",
           "x": [
            47.21505,
            45.76542,
            57.09466,
            47.40171,
            29.42324,
            40.57763,
            56.46438,
            73.67364,
            48.61132,
            48.51081,
            47.40171
           ],
           "xaxis": "x",
           "y": [
            25.94083,
            15.73488,
            23.25719,
            24.40371,
            23.49012,
            31.68595,
            25.54161,
            25.46057,
            35.31205,
            14.50024,
            24.40371
           ],
           "yaxis": "y"
          }
         ],
         "name": "16"
        },
        {
         "data": [
          {
           "hovertemplate": "MOMENT_NUM=17<br>LOC_X=%{x}<br>LOC_Y=%{y}<br>LOC_Z=%{marker.size}<br>TEAM_ID=%{marker.color}<extra></extra>",
           "ids": [
            -1,
            2594,
            200794,
            201143,
            201952,
            203145,
            101141,
            202704,
            202694,
            203484,
            203083
           ],
           "legendgroup": "",
           "marker": {
            "color": [
             -1,
             1610612737,
             1610612737,
             1610612737,
             1610612737,
             1610612737,
             1610612765,
             1610612765,
             1610612765,
             1610612765,
             1610612765
            ],
            "coloraxis": "coloraxis",
            "size": [
             11.35819,
             1,
             1,
             1,
             1,
             1,
             1,
             1,
             1,
             1,
             1
            ],
            "sizemode": "area",
            "sizeref": 0.029588299999999998,
            "symbol": "circle"
           },
           "mode": "markers",
           "name": "",
           "orientation": "v",
           "showlegend": false,
           "type": "scatter",
           "x": [
            47.21661,
            45.77744,
            57.13373,
            47.39733,
            29.49338,
            40.5925,
            56.46679,
            73.66575,
            48.65455,
            48.51919,
            47.39733
           ],
           "xaxis": "x",
           "y": [
            25.91037,
            15.7334,
            23.34985,
            24.44112,
            23.49057,
            31.6852,
            25.54243,
            25.46401,
            35.31851,
            14.49656,
            24.44112
           ],
           "yaxis": "y"
          }
         ],
         "name": "17"
        },
        {
         "data": [
          {
           "hovertemplate": "MOMENT_NUM=18<br>LOC_X=%{x}<br>LOC_Y=%{y}<br>LOC_Z=%{marker.size}<br>TEAM_ID=%{marker.color}<extra></extra>",
           "ids": [
            -1,
            2594,
            200794,
            201143,
            201952,
            203145,
            101141,
            202704,
            202694,
            203484,
            203083
           ],
           "legendgroup": "",
           "marker": {
            "color": [
             -1,
             1610612737,
             1610612737,
             1610612737,
             1610612737,
             1610612737,
             1610612765,
             1610612765,
             1610612765,
             1610612765,
             1610612765
            ],
            "coloraxis": "coloraxis",
            "size": [
             11.52248,
             1,
             1,
             1,
             1,
             1,
             1,
             1,
             1,
             1,
             1
            ],
            "sizemode": "area",
            "sizeref": 0.029588299999999998,
            "symbol": "circle"
           },
           "mode": "markers",
           "name": "",
           "orientation": "v",
           "showlegend": false,
           "type": "scatter",
           "x": [
            47.24549,
            45.78871,
            57.22164,
            47.3571,
            29.56609,
            40.60683,
            56.4527,
            73.65609,
            48.70232,
            48.52877,
            47.3571
           ],
           "xaxis": "x",
           "y": [
            25.8877,
            15.7325,
            23.48341,
            24.47906,
            23.48991,
            31.68297,
            25.49547,
            25.46591,
            35.32556,
            14.49162,
            24.47906
           ],
           "yaxis": "y"
          }
         ],
         "name": "18"
        },
        {
         "data": [
          {
           "hovertemplate": "MOMENT_NUM=19<br>LOC_X=%{x}<br>LOC_Y=%{y}<br>LOC_Z=%{marker.size}<br>TEAM_ID=%{marker.color}<extra></extra>",
           "ids": [
            -1,
            2594,
            200794,
            201143,
            201952,
            203145,
            101141,
            202704,
            202694,
            203484,
            203083
           ],
           "legendgroup": "",
           "marker": {
            "color": [
             -1,
             1610612737,
             1610612737,
             1610612737,
             1610612737,
             1610612737,
             1610612765,
             1610612765,
             1610612765,
             1610612765,
             1610612765
            ],
            "coloraxis": "coloraxis",
            "size": [
             11.68854,
             1,
             1,
             1,
             1,
             1,
             1,
             1,
             1,
             1,
             1
            ],
            "sizemode": "area",
            "sizeref": 0.029588299999999998,
            "symbol": "circle"
           },
           "mode": "markers",
           "name": "",
           "orientation": "v",
           "showlegend": false,
           "type": "scatter",
           "x": [
            47.18052,
            45.80003,
            57.31539,
            47.35006,
            29.63551,
            40.61994,
            56.43997,
            73.64185,
            48.75734,
            48.53584,
            47.35006
           ],
           "xaxis": "x",
           "y": [
            25.86781,
            15.72958,
            23.69773,
            24.52459,
            23.48978,
            31.67857,
            25.50319,
            25.46927,
            35.33912,
            14.48675,
            24.52459
           ],
           "yaxis": "y"
          }
         ],
         "name": "19"
        },
        {
         "data": [
          {
           "hovertemplate": "MOMENT_NUM=20<br>LOC_X=%{x}<br>LOC_Y=%{y}<br>LOC_Z=%{marker.size}<br>TEAM_ID=%{marker.color}<extra></extra>",
           "ids": [
            -1,
            2594,
            200794,
            201143,
            201952,
            203145,
            101141,
            202704,
            202694,
            203484,
            203083
           ],
           "legendgroup": "",
           "marker": {
            "color": [
             -1,
             1610612737,
             1610612737,
             1610612737,
             1610612737,
             1610612737,
             1610612765,
             1610612765,
             1610612765,
             1610612765,
             1610612765
            ],
            "coloraxis": "coloraxis",
            "size": [
             11.83532,
             1,
             1,
             1,
             1,
             1,
             1,
             1,
             1,
             1,
             1
            ],
            "sizemode": "area",
            "sizeref": 0.029588299999999998,
            "symbol": "circle"
           },
           "mode": "markers",
           "name": "",
           "orientation": "v",
           "showlegend": false,
           "type": "scatter",
           "x": [
            47.24703,
            45.81374,
            57.44889,
            47.28801,
            29.70233,
            40.63349,
            56.42799,
            73.62453,
            48.81587,
            48.54346,
            47.28801
           ],
           "xaxis": "x",
           "y": [
            25.85747,
            15.72725,
            23.84576,
            24.58755,
            23.49356,
            31.67858,
            25.52093,
            25.474,
            35.35687,
            14.48531,
            24.58755
           ],
           "yaxis": "y"
          }
         ],
         "name": "20"
        },
        {
         "data": [
          {
           "hovertemplate": "MOMENT_NUM=21<br>LOC_X=%{x}<br>LOC_Y=%{y}<br>LOC_Z=%{marker.size}<br>TEAM_ID=%{marker.color}<extra></extra>",
           "ids": [
            -1,
            2594,
            200794,
            201143,
            201952,
            203145,
            101141,
            202704,
            202694,
            203484,
            203083
           ],
           "legendgroup": "",
           "marker": {
            "color": [
             -1,
             1610612737,
             1610612737,
             1610612737,
             1610612737,
             1610612737,
             1610612765,
             1610612765,
             1610612765,
             1610612765,
             1610612765
            ],
            "coloraxis": "coloraxis",
            "size": [
             11.83532,
             1,
             1,
             1,
             1,
             1,
             1,
             1,
             1,
             1,
             1
            ],
            "sizemode": "area",
            "sizeref": 0.029588299999999998,
            "symbol": "circle"
           },
           "mode": "markers",
           "name": "",
           "orientation": "v",
           "showlegend": false,
           "type": "scatter",
           "x": [
            47.24703,
            45.82754,
            57.60403,
            47.21449,
            29.76915,
            40.64514,
            56.42615,
            73.60504,
            48.88229,
            48.55197,
            47.21449
           ],
           "xaxis": "x",
           "y": [
            25.85747,
            15.72558,
            24.0483,
            24.65026,
            23.50429,
            31.67489,
            25.52497,
            25.48366,
            35.36965,
            14.48278,
            24.65026
           ],
           "yaxis": "y"
          }
         ],
         "name": "21"
        },
        {
         "data": [
          {
           "hovertemplate": "MOMENT_NUM=22<br>LOC_X=%{x}<br>LOC_Y=%{y}<br>LOC_Z=%{marker.size}<br>TEAM_ID=%{marker.color}<extra></extra>",
           "ids": [
            -1,
            2594,
            200794,
            201143,
            201952,
            203145,
            101141,
            202704,
            202694,
            203484,
            203083
           ],
           "legendgroup": "",
           "marker": {
            "color": [
             -1,
             1610612737,
             1610612737,
             1610612737,
             1610612737,
             1610612737,
             1610612765,
             1610612765,
             1610612765,
             1610612765,
             1610612765
            ],
            "coloraxis": "coloraxis",
            "size": [
             11.83475,
             1,
             1,
             1,
             1,
             1,
             1,
             1,
             1,
             1,
             1
            ],
            "sizemode": "area",
            "sizeref": 0.029588299999999998,
            "symbol": "circle"
           },
           "mode": "markers",
           "name": "",
           "orientation": "v",
           "showlegend": false,
           "type": "scatter",
           "x": [
            47.33133,
            45.83874,
            57.7642,
            47.13807,
            29.83654,
            40.65838,
            56.40049,
            73.5785,
            48.95184,
            48.56249,
            47.13807
           ],
           "xaxis": "x",
           "y": [
            25.83358,
            15.7226,
            24.24159,
            24.67531,
            23.51921,
            31.67316,
            25.56936,
            25.49387,
            35.3834,
            14.48082,
            24.67531
           ],
           "yaxis": "y"
          }
         ],
         "name": "22"
        },
        {
         "data": [
          {
           "hovertemplate": "MOMENT_NUM=23<br>LOC_X=%{x}<br>LOC_Y=%{y}<br>LOC_Z=%{marker.size}<br>TEAM_ID=%{marker.color}<extra></extra>",
           "ids": [
            -1,
            2594,
            200794,
            201143,
            201952,
            203145,
            101141,
            202704,
            202694,
            203484,
            203083
           ],
           "legendgroup": "",
           "marker": {
            "color": [
             -1,
             1610612737,
             1610612737,
             1610612737,
             1610612737,
             1610612737,
             1610612765,
             1610612765,
             1610612765,
             1610612765,
             1610612765
            ],
            "coloraxis": "coloraxis",
            "size": [
             11.83276,
             1,
             1,
             1,
             1,
             1,
             1,
             1,
             1,
             1,
             1
            ],
            "sizemode": "area",
            "sizeref": 0.029588299999999998,
            "symbol": "circle"
           },
           "mode": "markers",
           "name": "",
           "orientation": "v",
           "showlegend": false,
           "type": "scatter",
           "x": [
            47.53503,
            45.8503,
            57.91848,
            47.09905,
            29.90748,
            40.67021,
            56.36302,
            73.54558,
            49.02326,
            48.57472,
            47.09905
           ],
           "xaxis": "x",
           "y": [
            25.80969,
            15.72195,
            24.4902,
            24.71032,
            23.53192,
            31.67007,
            25.5801,
            25.50349,
            35.4037,
            14.48124,
            24.71032
           ],
           "yaxis": "y"
          }
         ],
         "name": "23"
        },
        {
         "data": [
          {
           "hovertemplate": "MOMENT_NUM=24<br>LOC_X=%{x}<br>LOC_Y=%{y}<br>LOC_Z=%{marker.size}<br>TEAM_ID=%{marker.color}<extra></extra>",
           "ids": [
            -1,
            2594,
            200794,
            201143,
            201952,
            203145,
            101141,
            202704,
            202694,
            203484,
            203083
           ],
           "legendgroup": "",
           "marker": {
            "color": [
             -1,
             1610612737,
             1610612737,
             1610612737,
             1610612737,
             1610612737,
             1610612765,
             1610612765,
             1610612765,
             1610612765,
             1610612765
            ],
            "coloraxis": "coloraxis",
            "size": [
             11.70486,
             1,
             1,
             1,
             1,
             1,
             1,
             1,
             1,
             1,
             1
            ],
            "sizemode": "area",
            "sizeref": 0.029588299999999998,
            "symbol": "circle"
           },
           "mode": "markers",
           "name": "",
           "orientation": "v",
           "showlegend": false,
           "type": "scatter",
           "x": [
            48.03943,
            45.86079,
            58.0891,
            47.03424,
            29.97636,
            40.6835,
            56.30566,
            73.51029,
            49.09837,
            48.58657,
            47.03424
           ],
           "xaxis": "x",
           "y": [
            25.95431,
            15.72329,
            24.77415,
            24.74635,
            23.54808,
            31.67084,
            25.61475,
            25.5168,
            35.43123,
            14.48258,
            24.74635
           ],
           "yaxis": "y"
          }
         ],
         "name": "24"
        },
        {
         "data": [
          {
           "hovertemplate": "MOMENT_NUM=25<br>LOC_X=%{x}<br>LOC_Y=%{y}<br>LOC_Z=%{marker.size}<br>TEAM_ID=%{marker.color}<extra></extra>",
           "ids": [
            -1,
            2594,
            200794,
            201143,
            201952,
            203145,
            101141,
            202704,
            202694,
            203484,
            203083
           ],
           "legendgroup": "",
           "marker": {
            "color": [
             -1,
             1610612737,
             1610612737,
             1610612737,
             1610612737,
             1610612737,
             1610612765,
             1610612765,
             1610612765,
             1610612765,
             1610612765
            ],
            "coloraxis": "coloraxis",
            "size": [
             11.6687,
             1,
             1,
             1,
             1,
             1,
             1,
             1,
             1,
             1,
             1
            ],
            "sizemode": "area",
            "sizeref": 0.029588299999999998,
            "symbol": "circle"
           },
           "mode": "markers",
           "name": "",
           "orientation": "v",
           "showlegend": false,
           "type": "scatter",
           "x": [
            48.45719,
            45.87485,
            58.26303,
            46.93414,
            30.04615,
            40.69306,
            56.2287,
            73.4709,
            49.17343,
            48.59926,
            46.93414
           ],
           "xaxis": "x",
           "y": [
            26.1264,
            15.7237,
            25.06953,
            24.81644,
            23.57495,
            31.67347,
            25.71018,
            25.53365,
            35.46494,
            14.48143,
            24.81644
           ],
           "yaxis": "y"
          }
         ],
         "name": "25"
        },
        {
         "data": [
          {
           "hovertemplate": "MOMENT_NUM=26<br>LOC_X=%{x}<br>LOC_Y=%{y}<br>LOC_Z=%{marker.size}<br>TEAM_ID=%{marker.color}<extra></extra>",
           "ids": [
            -1,
            2594,
            200794,
            201143,
            201952,
            203145,
            101141,
            202704,
            202694,
            203484,
            203083
           ],
           "legendgroup": "",
           "marker": {
            "color": [
             -1,
             1610612737,
             1610612737,
             1610612737,
             1610612737,
             1610612737,
             1610612765,
             1610612765,
             1610612765,
             1610612765,
             1610612765
            ],
            "coloraxis": "coloraxis",
            "size": [
             11.61173,
             1,
             1,
             1,
             1,
             1,
             1,
             1,
             1,
             1,
             1
            ],
            "sizemode": "area",
            "sizeref": 0.029588299999999998,
            "symbol": "circle"
           },
           "mode": "markers",
           "name": "",
           "orientation": "v",
           "showlegend": false,
           "type": "scatter",
           "x": [
            48.93595,
            45.88926,
            58.4609,
            46.90739,
            30.11716,
            40.70237,
            56.18904,
            73.4218,
            49.24934,
            48.61058,
            46.90739
           ],
           "xaxis": "x",
           "y": [
            26.3289,
            15.72361,
            25.42104,
            24.82542,
            23.60781,
            31.67835,
            25.79778,
            25.55882,
            35.50559,
            14.47924,
            24.82542
           ],
           "yaxis": "y"
          }
         ],
         "name": "26"
        },
        {
         "data": [
          {
           "hovertemplate": "MOMENT_NUM=27<br>LOC_X=%{x}<br>LOC_Y=%{y}<br>LOC_Z=%{marker.size}<br>TEAM_ID=%{marker.color}<extra></extra>",
           "ids": [
            -1,
            2594,
            200794,
            201143,
            201952,
            203145,
            101141,
            202704,
            202694,
            203484,
            203083
           ],
           "legendgroup": "",
           "marker": {
            "color": [
             -1,
             1610612737,
             1610612737,
             1610612737,
             1610612737,
             1610612737,
             1610612765,
             1610612765,
             1610612765,
             1610612765,
             1610612765
            ],
            "coloraxis": "coloraxis",
            "size": [
             11.26369,
             1,
             1,
             1,
             1,
             1,
             1,
             1,
             1,
             1,
             1
            ],
            "sizemode": "area",
            "sizeref": 0.029588299999999998,
            "symbol": "circle"
           },
           "mode": "markers",
           "name": "",
           "orientation": "v",
           "showlegend": false,
           "type": "scatter",
           "x": [
            49.42672,
            45.90043,
            58.67284,
            46.83827,
            30.18538,
            40.71051,
            56.1517,
            73.37192,
            49.31996,
            48.62409,
            46.83827
           ],
           "xaxis": "x",
           "y": [
            26.44294,
            15.72644,
            25.80171,
            24.78349,
            23.63479,
            31.6862,
            25.88876,
            25.58379,
            35.55237,
            14.47704,
            24.78349
           ],
           "yaxis": "y"
          }
         ],
         "name": "27"
        },
        {
         "data": [
          {
           "hovertemplate": "MOMENT_NUM=28<br>LOC_X=%{x}<br>LOC_Y=%{y}<br>LOC_Z=%{marker.size}<br>TEAM_ID=%{marker.color}<extra></extra>",
           "ids": [
            -1,
            2594,
            200794,
            201143,
            201952,
            203145,
            101141,
            202704,
            202694,
            203484,
            203083
           ],
           "legendgroup": "",
           "marker": {
            "color": [
             -1,
             1610612737,
             1610612737,
             1610612737,
             1610612737,
             1610612737,
             1610612765,
             1610612765,
             1610612765,
             1610612765,
             1610612765
            ],
            "coloraxis": "coloraxis",
            "size": [
             10.44063,
             1,
             1,
             1,
             1,
             1,
             1,
             1,
             1,
             1,
             1
            ],
            "sizemode": "area",
            "sizeref": 0.029588299999999998,
            "symbol": "circle"
           },
           "mode": "markers",
           "name": "",
           "orientation": "v",
           "showlegend": false,
           "type": "scatter",
           "x": [
            50.2928,
            45.91098,
            58.87503,
            46.77932,
            30.25836,
            40.71817,
            56.11959,
            73.31721,
            49.38052,
            48.63752,
            46.77932
           ],
           "xaxis": "x",
           "y": [
            27.14137,
            15.72786,
            26.13193,
            24.8011,
            23.65752,
            31.69547,
            25.9805,
            25.61704,
            35.60063,
            14.47566,
            24.8011
           ],
           "yaxis": "y"
          }
         ],
         "name": "28"
        },
        {
         "data": [
          {
           "hovertemplate": "MOMENT_NUM=29<br>LOC_X=%{x}<br>LOC_Y=%{y}<br>LOC_Z=%{marker.size}<br>TEAM_ID=%{marker.color}<extra></extra>",
           "ids": [
            -1,
            2594,
            200794,
            201143,
            201952,
            203145,
            101141,
            202704,
            202694,
            203484,
            203083
           ],
           "legendgroup": "",
           "marker": {
            "color": [
             -1,
             1610612737,
             1610612737,
             1610612737,
             1610612737,
             1610612737,
             1610612765,
             1610612765,
             1610612765,
             1610612765,
             1610612765
            ],
            "coloraxis": "coloraxis",
            "size": [
             10.73039,
             1,
             1,
             1,
             1,
             1,
             1,
             1,
             1,
             1,
             1
            ],
            "sizemode": "area",
            "sizeref": 0.029588299999999998,
            "symbol": "circle"
           },
           "mode": "markers",
           "name": "",
           "orientation": "v",
           "showlegend": false,
           "type": "scatter",
           "x": [
            50.36814,
            45.92204,
            59.06967,
            46.71399,
            30.33317,
            40.72481,
            56.07824,
            73.25736,
            49.43313,
            48.65392,
            46.71399
           ],
           "xaxis": "x",
           "y": [
            26.73636,
            15.73198,
            26.47131,
            24.78748,
            23.68904,
            31.7043,
            26.08875,
            25.66784,
            35.65135,
            14.47531,
            24.78748
           ],
           "yaxis": "y"
          }
         ],
         "name": "29"
        },
        {
         "data": [
          {
           "hovertemplate": "MOMENT_NUM=30<br>LOC_X=%{x}<br>LOC_Y=%{y}<br>LOC_Z=%{marker.size}<br>TEAM_ID=%{marker.color}<extra></extra>",
           "ids": [
            -1,
            2594,
            200794,
            201143,
            201952,
            203145,
            101141,
            202704,
            202694,
            203484,
            203083
           ],
           "legendgroup": "",
           "marker": {
            "color": [
             -1,
             1610612737,
             1610612737,
             1610612737,
             1610612737,
             1610612737,
             1610612765,
             1610612765,
             1610612765,
             1610612765,
             1610612765
            ],
            "coloraxis": "coloraxis",
            "size": [
             10.29982,
             1,
             1,
             1,
             1,
             1,
             1,
             1,
             1,
             1,
             1
            ],
            "sizemode": "area",
            "sizeref": 0.029588299999999998,
            "symbol": "circle"
           },
           "mode": "markers",
           "name": "",
           "orientation": "v",
           "showlegend": false,
           "type": "scatter",
           "x": [
            50.86611,
            45.93318,
            59.27427,
            46.6404,
            30.41504,
            40.73088,
            56.03871,
            73.19023,
            49.4809,
            48.66981,
            46.6404
           ],
           "xaxis": "x",
           "y": [
            26.91517,
            15.73601,
            26.83088,
            24.76808,
            23.72431,
            31.71377,
            26.20577,
            25.73052,
            35.70788,
            14.47452,
            24.76808
           ],
           "yaxis": "y"
          }
         ],
         "name": "30"
        },
        {
         "data": [
          {
           "hovertemplate": "MOMENT_NUM=31<br>LOC_X=%{x}<br>LOC_Y=%{y}<br>LOC_Z=%{marker.size}<br>TEAM_ID=%{marker.color}<extra></extra>",
           "ids": [
            -1,
            2594,
            200794,
            201143,
            201952,
            203145,
            101141,
            202704,
            202694,
            203484,
            203083
           ],
           "legendgroup": "",
           "marker": {
            "color": [
             -1,
             1610612737,
             1610612737,
             1610612737,
             1610612737,
             1610612737,
             1610612765,
             1610612765,
             1610612765,
             1610612765,
             1610612765
            ],
            "coloraxis": "coloraxis",
            "size": [
             9.88921,
             1,
             1,
             1,
             1,
             1,
             1,
             1,
             1,
             1,
             1
            ],
            "sizemode": "area",
            "sizeref": 0.029588299999999998,
            "symbol": "circle"
           },
           "mode": "markers",
           "name": "",
           "orientation": "v",
           "showlegend": false,
           "type": "scatter",
           "x": [
            51.30421,
            45.94239,
            59.46408,
            46.58293,
            30.49326,
            40.73524,
            55.99596,
            73.11433,
            49.50903,
            48.68047,
            46.58293
           ],
           "xaxis": "x",
           "y": [
            27.06391,
            15.7393,
            27.17363,
            24.75485,
            23.75749,
            31.73079,
            26.33195,
            25.7905,
            35.76516,
            14.4763,
            24.75485
           ],
           "yaxis": "y"
          }
         ],
         "name": "31"
        },
        {
         "data": [
          {
           "hovertemplate": "MOMENT_NUM=32<br>LOC_X=%{x}<br>LOC_Y=%{y}<br>LOC_Z=%{marker.size}<br>TEAM_ID=%{marker.color}<extra></extra>",
           "ids": [
            -1,
            2594,
            200794,
            201143,
            201952,
            203145,
            101141,
            202704,
            202694,
            203484,
            203083
           ],
           "legendgroup": "",
           "marker": {
            "color": [
             -1,
             1610612737,
             1610612737,
             1610612737,
             1610612737,
             1610612737,
             1610612765,
             1610612765,
             1610612765,
             1610612765,
             1610612765
            ],
            "coloraxis": "coloraxis",
            "size": [
             9.57608,
             1,
             1,
             1,
             1,
             1,
             1,
             1,
             1,
             1,
             1
            ],
            "sizemode": "area",
            "sizeref": 0.029588299999999998,
            "symbol": "circle"
           },
           "mode": "markers",
           "name": "",
           "orientation": "v",
           "showlegend": false,
           "type": "scatter",
           "x": [
            51.82459,
            45.94729,
            59.68507,
            46.52499,
            30.57347,
            40.73753,
            55.97429,
            73.03355,
            49.52045,
            48.69044,
            46.52499
           ],
           "xaxis": "x",
           "y": [
            27.2645,
            15.7457,
            27.53738,
            24.75931,
            23.79446,
            31.74816,
            26.45843,
            25.856,
            35.81709,
            14.47754,
            24.75931
           ],
           "yaxis": "y"
          }
         ],
         "name": "32"
        },
        {
         "data": [
          {
           "hovertemplate": "MOMENT_NUM=33<br>LOC_X=%{x}<br>LOC_Y=%{y}<br>LOC_Z=%{marker.size}<br>TEAM_ID=%{marker.color}<extra></extra>",
           "ids": [
            -1,
            2594,
            200794,
            201143,
            201952,
            203145,
            101141,
            202704,
            202694,
            203484,
            203083
           ],
           "legendgroup": "",
           "marker": {
            "color": [
             -1,
             1610612737,
             1610612737,
             1610612737,
             1610612737,
             1610612737,
             1610612765,
             1610612765,
             1610612765,
             1610612765,
             1610612765
            ],
            "coloraxis": "coloraxis",
            "size": [
             8.905100000000001,
             1,
             1,
             1,
             1,
             1,
             1,
             1,
             1,
             1,
             1
            ],
            "sizemode": "area",
            "sizeref": 0.029588299999999998,
            "symbol": "circle"
           },
           "mode": "markers",
           "name": "",
           "orientation": "v",
           "showlegend": false,
           "type": "scatter",
           "x": [
            52.2405,
            45.95202,
            59.85005,
            46.48851,
            30.6521,
            40.73751,
            55.95192,
            72.94925,
            49.51454,
            48.69505,
            46.48851
           ],
           "xaxis": "x",
           "y": [
            27.38656,
            15.75266,
            27.85833,
            24.76406,
            23.83379,
            31.76716,
            26.6487,
            25.92129,
            35.87727,
            14.48079,
            24.76406
           ],
           "yaxis": "y"
          }
         ],
         "name": "33"
        },
        {
         "data": [
          {
           "hovertemplate": "MOMENT_NUM=34<br>LOC_X=%{x}<br>LOC_Y=%{y}<br>LOC_Z=%{marker.size}<br>TEAM_ID=%{marker.color}<extra></extra>",
           "ids": [
            -1,
            2594,
            200794,
            201143,
            201952,
            203145,
            101141,
            202704,
            202694,
            203484,
            203083
           ],
           "legendgroup": "",
           "marker": {
            "color": [
             -1,
             1610612737,
             1610612737,
             1610612737,
             1610612737,
             1610612737,
             1610612765,
             1610612765,
             1610612765,
             1610612765,
             1610612765
            ],
            "coloraxis": "coloraxis",
            "size": [
             8.36181,
             1,
             1,
             1,
             1,
             1,
             1,
             1,
             1,
             1,
             1
            ],
            "sizemode": "area",
            "sizeref": 0.029588299999999998,
            "symbol": "circle"
           },
           "mode": "markers",
           "name": "",
           "orientation": "v",
           "showlegend": false,
           "type": "scatter",
           "x": [
            52.75719,
            45.9506,
            60.00773,
            46.41131,
            30.73689,
            40.73357,
            55.93403,
            72.86485,
            49.4946,
            48.70043,
            46.41131
           ],
           "xaxis": "x",
           "y": [
            27.53421,
            15.76313,
            28.09957,
            24.76516,
            23.87586,
            31.78623,
            26.79078,
            25.98048,
            35.93835,
            14.48696,
            24.76516
           ],
           "yaxis": "y"
          }
         ],
         "name": "34"
        },
        {
         "data": [
          {
           "hovertemplate": "MOMENT_NUM=35<br>LOC_X=%{x}<br>LOC_Y=%{y}<br>LOC_Z=%{marker.size}<br>TEAM_ID=%{marker.color}<extra></extra>",
           "ids": [
            -1,
            2594,
            200794,
            201143,
            201952,
            203145,
            101141,
            202704,
            202694,
            203484,
            203083
           ],
           "legendgroup": "",
           "marker": {
            "color": [
             -1,
             1610612737,
             1610612737,
             1610612737,
             1610612737,
             1610612737,
             1610612765,
             1610612765,
             1610612765,
             1610612765,
             1610612765
            ],
            "coloraxis": "coloraxis",
            "size": [
             7.84005,
             1,
             1,
             1,
             1,
             1,
             1,
             1,
             1,
             1,
             1
            ],
            "sizemode": "area",
            "sizeref": 0.029588299999999998,
            "symbol": "circle"
           },
           "mode": "markers",
           "name": "",
           "orientation": "v",
           "showlegend": false,
           "type": "scatter",
           "x": [
            53.11965,
            45.94323,
            60.15277,
            46.37621,
            30.82054,
            40.72792,
            55.92218,
            72.77105,
            49.45689,
            48.70092,
            46.37621
           ],
           "xaxis": "x",
           "y": [
            27.65268,
            15.77315,
            28.38862,
            24.73123,
            23.91245,
            31.80443,
            26.94626,
            26.02979,
            36.00324,
            14.49007,
            24.73123
           ],
           "yaxis": "y"
          }
         ],
         "name": "35"
        },
        {
         "data": [
          {
           "hovertemplate": "MOMENT_NUM=36<br>LOC_X=%{x}<br>LOC_Y=%{y}<br>LOC_Z=%{marker.size}<br>TEAM_ID=%{marker.color}<extra></extra>",
           "ids": [
            -1,
            2594,
            200794,
            201143,
            201952,
            203145,
            101141,
            202704,
            202694,
            203484,
            203083
           ],
           "legendgroup": "",
           "marker": {
            "color": [
             -1,
             1610612737,
             1610612737,
             1610612737,
             1610612737,
             1610612737,
             1610612765,
             1610612765,
             1610612765,
             1610612765,
             1610612765
            ],
            "coloraxis": "coloraxis",
            "size": [
             7.54729,
             1,
             1,
             1,
             1,
             1,
             1,
             1,
             1,
             1,
             1
            ],
            "sizemode": "area",
            "sizeref": 0.029588299999999998,
            "symbol": "circle"
           },
           "mode": "markers",
           "name": "",
           "orientation": "v",
           "showlegend": false,
           "type": "scatter",
           "x": [
            53.34303,
            45.92986,
            60.29174,
            46.34379,
            30.90357,
            40.71727,
            55.91037,
            72.68182,
            49.3944,
            48.7011,
            46.34379
           ],
           "xaxis": "x",
           "y": [
            27.67727,
            15.78601,
            28.63244,
            24.70882,
            23.94207,
            31.82139,
            27.09916,
            26.05521,
            36.0796,
            14.49079,
            24.70882
           ],
           "yaxis": "y"
          }
         ],
         "name": "36"
        },
        {
         "data": [
          {
           "hovertemplate": "MOMENT_NUM=37<br>LOC_X=%{x}<br>LOC_Y=%{y}<br>LOC_Z=%{marker.size}<br>TEAM_ID=%{marker.color}<extra></extra>",
           "ids": [
            -1,
            2594,
            200794,
            201143,
            201952,
            203145,
            101141,
            202704,
            202694,
            203484,
            203083
           ],
           "legendgroup": "",
           "marker": {
            "color": [
             -1,
             1610612737,
             1610612737,
             1610612737,
             1610612737,
             1610612737,
             1610612765,
             1610612765,
             1610612765,
             1610612765,
             1610612765
            ],
            "coloraxis": "coloraxis",
            "size": [
             7.32801,
             1,
             1,
             1,
             1,
             1,
             1,
             1,
             1,
             1,
             1
            ],
            "sizemode": "area",
            "sizeref": 0.029588299999999998,
            "symbol": "circle"
           },
           "mode": "markers",
           "name": "",
           "orientation": "v",
           "showlegend": false,
           "type": "scatter",
           "x": [
            53.38878,
            45.9111,
            60.41785,
            46.30777,
            30.9862,
            40.70199,
            55.90146,
            72.60517,
            49.31591,
            48.6913,
            46.27923
           ],
           "xaxis": "x",
           "y": [
            27.6336,
            15.79549,
            28.86565,
            24.77826,
            23.96915,
            31.84047,
            27.23184,
            26.0607,
            36.16207,
            14.49432,
            24.68164
           ],
           "yaxis": "y"
          }
         ],
         "name": "37"
        },
        {
         "data": [
          {
           "hovertemplate": "MOMENT_NUM=38<br>LOC_X=%{x}<br>LOC_Y=%{y}<br>LOC_Z=%{marker.size}<br>TEAM_ID=%{marker.color}<extra></extra>",
           "ids": [
            -1,
            2594,
            200794,
            201143,
            201952,
            203145,
            101141,
            202704,
            202694,
            203484,
            203083
           ],
           "legendgroup": "",
           "marker": {
            "color": [
             -1,
             1610612737,
             1610612737,
             1610612737,
             1610612737,
             1610612737,
             1610612765,
             1610612765,
             1610612765,
             1610612765,
             1610612765
            ],
            "coloraxis": "coloraxis",
            "size": [
             7.47278,
             1,
             1,
             1,
             1,
             1,
             1,
             1,
             1,
             1,
             1
            ],
            "sizemode": "area",
            "sizeref": 0.029588299999999998,
            "symbol": "circle"
           },
           "mode": "markers",
           "name": "",
           "orientation": "v",
           "showlegend": false,
           "type": "scatter",
           "x": [
            53.47474,
            45.88531,
            60.55955,
            46.27281,
            31.06622,
            40.67765,
            55.89703,
            72.53429,
            49.22684,
            48.67719,
            46.2178
           ],
           "xaxis": "x",
           "y": [
            27.68673,
            15.80907,
            29.03812,
            24.93825,
            23.99459,
            31.85519,
            27.40656,
            26.04006,
            36.24572,
            14.49528,
            24.65853
           ],
           "yaxis": "y"
          }
         ],
         "name": "38"
        },
        {
         "data": [
          {
           "hovertemplate": "MOMENT_NUM=39<br>LOC_X=%{x}<br>LOC_Y=%{y}<br>LOC_Z=%{marker.size}<br>TEAM_ID=%{marker.color}<extra></extra>",
           "ids": [
            -1,
            2594,
            200794,
            201143,
            201952,
            203145,
            101141,
            202704,
            202694,
            203484,
            203083
           ],
           "legendgroup": "",
           "marker": {
            "color": [
             -1,
             1610612737,
             1610612737,
             1610612737,
             1610612737,
             1610612737,
             1610612765,
             1610612765,
             1610612765,
             1610612765,
             1610612765
            ],
            "coloraxis": "coloraxis",
            "size": [
             7.09299,
             1,
             1,
             1,
             1,
             1,
             1,
             1,
             1,
             1,
             1
            ],
            "sizemode": "area",
            "sizeref": 0.029588299999999998,
            "symbol": "circle"
           },
           "mode": "markers",
           "name": "",
           "orientation": "v",
           "showlegend": false,
           "type": "scatter",
           "x": [
            53.45347,
            45.84989,
            60.68772,
            46.16357,
            31.15084,
            40.6491,
            55.91612,
            72.46863,
            49.1267,
            48.65413,
            46.13486
           ],
           "xaxis": "x",
           "y": [
            27.51361,
            15.8218,
            29.16891,
            25.10921,
            24.01622,
            31.86526,
            27.56813,
            25.98595,
            36.32958,
            14.4984,
            24.59749
           ],
           "yaxis": "y"
          }
         ],
         "name": "39"
        },
        {
         "data": [
          {
           "hovertemplate": "MOMENT_NUM=40<br>LOC_X=%{x}<br>LOC_Y=%{y}<br>LOC_Z=%{marker.size}<br>TEAM_ID=%{marker.color}<extra></extra>",
           "ids": [
            -1,
            2594,
            200794,
            201143,
            201952,
            203145,
            101141,
            202704,
            202694,
            203484,
            203083
           ],
           "legendgroup": "",
           "marker": {
            "color": [
             -1,
             1610612737,
             1610612737,
             1610612737,
             1610612737,
             1610612737,
             1610612765,
             1610612765,
             1610612765,
             1610612765,
             1610612765
            ],
            "coloraxis": "coloraxis",
            "size": [
             7.16468,
             1,
             1,
             1,
             1,
             1,
             1,
             1,
             1,
             1,
             1
            ],
            "sizemode": "area",
            "sizeref": 0.029588299999999998,
            "symbol": "circle"
           },
           "mode": "markers",
           "name": "",
           "orientation": "v",
           "showlegend": false,
           "type": "scatter",
           "x": [
            53.71557,
            45.80242,
            60.81401,
            46.09387,
            31.23625,
            40.61628,
            55.95265,
            72.40882,
            49.01469,
            48.56376,
            46.06746
           ],
           "xaxis": "x",
           "y": [
            27.5077,
            15.84265,
            29.27647,
            25.27554,
            24.02557,
            31.87235,
            27.67224,
            25.90623,
            36.42276,
            14.53651,
            24.51617
           ],
           "yaxis": "y"
          }
         ],
         "name": "40"
        },
        {
         "data": [
          {
           "hovertemplate": "MOMENT_NUM=41<br>LOC_X=%{x}<br>LOC_Y=%{y}<br>LOC_Z=%{marker.size}<br>TEAM_ID=%{marker.color}<extra></extra>",
           "ids": [
            -1,
            2594,
            200794,
            201143,
            201952,
            203145,
            101141,
            202704,
            202694,
            203484,
            203083
           ],
           "legendgroup": "",
           "marker": {
            "color": [
             -1,
             1610612737,
             1610612737,
             1610612737,
             1610612737,
             1610612737,
             1610612765,
             1610612765,
             1610612765,
             1610612765,
             1610612765
            ],
            "coloraxis": "coloraxis",
            "size": [
             7.11854,
             1,
             1,
             1,
             1,
             1,
             1,
             1,
             1,
             1,
             1
            ],
            "sizemode": "area",
            "sizeref": 0.029588299999999998,
            "symbol": "circle"
           },
           "mode": "markers",
           "name": "",
           "orientation": "v",
           "showlegend": false,
           "type": "scatter",
           "x": [
            53.86505,
            45.75425,
            60.91075,
            45.91761,
            31.32354,
            40.57557,
            55.95382,
            72.35836,
            48.89031,
            48.40064,
            45.91532
           ],
           "xaxis": "x",
           "y": [
            27.40813,
            15.8604,
            29.31455,
            25.47322,
            24.02198,
            31.88247,
            27.79355,
            25.78756,
            36.51228,
            14.60914,
            24.44868
           ],
           "yaxis": "y"
          }
         ],
         "name": "41"
        },
        {
         "data": [
          {
           "hovertemplate": "MOMENT_NUM=42<br>LOC_X=%{x}<br>LOC_Y=%{y}<br>LOC_Z=%{marker.size}<br>TEAM_ID=%{marker.color}<extra></extra>",
           "ids": [
            -1,
            2594,
            200794,
            201143,
            201952,
            203145,
            101141,
            202704,
            202694,
            203484,
            203083
           ],
           "legendgroup": "",
           "marker": {
            "color": [
             -1,
             1610612737,
             1610612737,
             1610612737,
             1610612737,
             1610612737,
             1610612765,
             1610612765,
             1610612765,
             1610612765,
             1610612765
            ],
            "coloraxis": "coloraxis",
            "size": [
             6.94818,
             1,
             1,
             1,
             1,
             1,
             1,
             1,
             1,
             1,
             1
            ],
            "sizemode": "area",
            "sizeref": 0.029588299999999998,
            "symbol": "circle"
           },
           "mode": "markers",
           "name": "",
           "orientation": "v",
           "showlegend": false,
           "type": "scatter",
           "x": [
            53.99511,
            45.69656,
            60.98789,
            45.77869,
            31.41144,
            40.52949,
            55.94971,
            72.31456,
            48.75512,
            48.15902,
            45.78236
           ],
           "xaxis": "x",
           "y": [
            27.3702,
            15.87894,
            29.31975,
            25.71039,
            24.01469,
            31.88624,
            27.91819,
            25.65295,
            36.60271,
            14.71416,
            24.40717
           ],
           "yaxis": "y"
          }
         ],
         "name": "42"
        },
        {
         "data": [
          {
           "hovertemplate": "MOMENT_NUM=43<br>LOC_X=%{x}<br>LOC_Y=%{y}<br>LOC_Z=%{marker.size}<br>TEAM_ID=%{marker.color}<extra></extra>",
           "ids": [
            -1,
            2594,
            200794,
            201143,
            201952,
            203145,
            101141,
            202704,
            202694,
            203484,
            203083
           ],
           "legendgroup": "",
           "marker": {
            "color": [
             -1,
             1610612737,
             1610612737,
             1610612737,
             1610612737,
             1610612737,
             1610612765,
             1610612765,
             1610612765,
             1610612765,
             1610612765
            ],
            "coloraxis": "coloraxis",
            "size": [
             7.24305,
             1,
             1,
             1,
             1,
             1,
             1,
             1,
             1,
             1,
             1
            ],
            "sizemode": "area",
            "sizeref": 0.029588299999999998,
            "symbol": "circle"
           },
           "mode": "markers",
           "name": "",
           "orientation": "v",
           "showlegend": false,
           "type": "scatter",
           "x": [
            54.30836,
            45.61366,
            61.06248,
            45.64929,
            31.49363,
            40.47555,
            55.93856,
            72.27988,
            48.61561,
            47.89275,
            45.66764
           ],
           "xaxis": "x",
           "y": [
            27.35584,
            15.90893,
            29.34331,
            25.90168,
            23.99925,
            31.88997,
            28.03357,
            25.49175,
            36.69878,
            14.82728,
            24.30291
           ],
           "yaxis": "y"
          }
         ],
         "name": "43"
        },
        {
         "data": [
          {
           "hovertemplate": "MOMENT_NUM=44<br>LOC_X=%{x}<br>LOC_Y=%{y}<br>LOC_Z=%{marker.size}<br>TEAM_ID=%{marker.color}<extra></extra>",
           "ids": [
            -1,
            2594,
            200794,
            201143,
            201952,
            203145,
            101141,
            202704,
            202694,
            203484,
            203083
           ],
           "legendgroup": "",
           "marker": {
            "color": [
             -1,
             1610612737,
             1610612737,
             1610612737,
             1610612737,
             1610612737,
             1610612765,
             1610612765,
             1610612765,
             1610612765,
             1610612765
            ],
            "coloraxis": "coloraxis",
            "size": [
             6.85725,
             1,
             1,
             1,
             1,
             1,
             1,
             1,
             1,
             1,
             1
            ],
            "sizemode": "area",
            "sizeref": 0.029588299999999998,
            "symbol": "circle"
           },
           "mode": "markers",
           "name": "",
           "orientation": "v",
           "showlegend": false,
           "type": "scatter",
           "x": [
            54.77001,
            45.51127,
            61.12232,
            45.47989,
            31.57615,
            40.4123,
            55.9228,
            72.25759,
            48.46524,
            47.6067,
            45.53192
           ],
           "xaxis": "x",
           "y": [
            27.63933,
            15.94001,
            29.3412,
            26.10701,
            23.97908,
            31.90102,
            28.14782,
            25.30237,
            36.79297,
            14.94416,
            24.26958
           ],
           "yaxis": "y"
          }
         ],
         "name": "44"
        },
        {
         "data": [
          {
           "hovertemplate": "MOMENT_NUM=45<br>LOC_X=%{x}<br>LOC_Y=%{y}<br>LOC_Z=%{marker.size}<br>TEAM_ID=%{marker.color}<extra></extra>",
           "ids": [
            -1,
            2594,
            200794,
            201143,
            201952,
            203145,
            101141,
            202704,
            202694,
            203484,
            203083
           ],
           "legendgroup": "",
           "marker": {
            "color": [
             -1,
             1610612737,
             1610612737,
             1610612737,
             1610612737,
             1610612737,
             1610612765,
             1610612765,
             1610612765,
             1610612765,
             1610612765
            ],
            "coloraxis": "coloraxis",
            "size": [
             7.20382,
             1,
             1,
             1,
             1,
             1,
             1,
             1,
             1,
             1,
             1
            ],
            "sizemode": "area",
            "sizeref": 0.029588299999999998,
            "symbol": "circle"
           },
           "mode": "markers",
           "name": "",
           "orientation": "v",
           "showlegend": false,
           "type": "scatter",
           "x": [
            54.94316,
            45.38544,
            61.16583,
            45.30794,
            31.65269,
            40.34403,
            55.89938,
            72.24618,
            48.31244,
            47.29779,
            45.39057
           ],
           "xaxis": "x",
           "y": [
            27.52624,
            15.97794,
            29.31062,
            26.31867,
            23.95074,
            31.90947,
            28.26533,
            25.08691,
            36.88214,
            15.06822,
            24.23679
           ],
           "yaxis": "y"
          }
         ],
         "name": "45"
        },
        {
         "data": [
          {
           "hovertemplate": "MOMENT_NUM=46<br>LOC_X=%{x}<br>LOC_Y=%{y}<br>LOC_Z=%{marker.size}<br>TEAM_ID=%{marker.color}<extra></extra>",
           "ids": [
            -1,
            2594,
            200794,
            201143,
            201952,
            203145,
            101141,
            202704,
            202694,
            203484,
            203083
           ],
           "legendgroup": "",
           "marker": {
            "color": [
             -1,
             1610612737,
             1610612737,
             1610612737,
             1610612737,
             1610612737,
             1610612765,
             1610612765,
             1610612765,
             1610612765,
             1610612765
            ],
            "coloraxis": "coloraxis",
            "size": [
             7.0412,
             1,
             1,
             1,
             1,
             1,
             1,
             1,
             1,
             1,
             1
            ],
            "sizemode": "area",
            "sizeref": 0.029588299999999998,
            "symbol": "circle"
           },
           "mode": "markers",
           "name": "",
           "orientation": "v",
           "showlegend": false,
           "type": "scatter",
           "x": [
            55.24885,
            45.24349,
            61.19563,
            45.12209,
            31.7315,
            40.26539,
            55.87664,
            72.25213,
            48.15518,
            46.97158,
            45.24099
           ],
           "xaxis": "x",
           "y": [
            27.70888,
            16.0159,
            29.24713,
            26.52086,
            23.92157,
            31.91919,
            28.38165,
            24.85833,
            36.97859,
            15.19272,
            24.1926
           ],
           "yaxis": "y"
          }
         ],
         "name": "46"
        },
        {
         "data": [
          {
           "hovertemplate": "MOMENT_NUM=47<br>LOC_X=%{x}<br>LOC_Y=%{y}<br>LOC_Z=%{marker.size}<br>TEAM_ID=%{marker.color}<extra></extra>",
           "ids": [
            -1,
            2594,
            200794,
            201143,
            201952,
            203145,
            101141,
            202704,
            202694,
            203484,
            203083
           ],
           "legendgroup": "",
           "marker": {
            "color": [
             -1,
             1610612737,
             1610612737,
             1610612737,
             1610612737,
             1610612737,
             1610612765,
             1610612765,
             1610612765,
             1610612765,
             1610612765
            ],
            "coloraxis": "coloraxis",
            "size": [
             7.27565,
             1,
             1,
             1,
             1,
             1,
             1,
             1,
             1,
             1,
             1
            ],
            "sizemode": "area",
            "sizeref": 0.029588299999999998,
            "symbol": "circle"
           },
           "mode": "markers",
           "name": "",
           "orientation": "v",
           "showlegend": false,
           "type": "scatter",
           "x": [
            55.12657,
            45.08383,
            61.21541,
            44.94602,
            31.80436,
            40.17958,
            55.85075,
            72.26898,
            47.99893,
            46.62759,
            45.0836
           ],
           "xaxis": "x",
           "y": [
            27.71564,
            16.05702,
            29.15697,
            26.6723,
            23.88694,
            31.93357,
            28.50124,
            24.61324,
            37.07822,
            15.32155,
            24.14108
           ],
           "yaxis": "y"
          }
         ],
         "name": "47"
        },
        {
         "data": [
          {
           "hovertemplate": "MOMENT_NUM=48<br>LOC_X=%{x}<br>LOC_Y=%{y}<br>LOC_Z=%{marker.size}<br>TEAM_ID=%{marker.color}<extra></extra>",
           "ids": [
            -1,
            2594,
            200794,
            201143,
            201952,
            203145,
            101141,
            202704,
            202694,
            203484,
            203083
           ],
           "legendgroup": "",
           "marker": {
            "color": [
             -1,
             1610612737,
             1610612737,
             1610612737,
             1610612737,
             1610612737,
             1610612765,
             1610612765,
             1610612765,
             1610612765,
             1610612765
            ],
            "coloraxis": "coloraxis",
            "size": [
             7.17165,
             1,
             1,
             1,
             1,
             1,
             1,
             1,
             1,
             1,
             1
            ],
            "sizemode": "area",
            "sizeref": 0.029588299999999998,
            "symbol": "circle"
           },
           "mode": "markers",
           "name": "",
           "orientation": "v",
           "showlegend": false,
           "type": "scatter",
           "x": [
            55.15716,
            44.9083,
            61.22144,
            44.76115,
            31.87924,
            40.08474,
            55.81787,
            72.29103,
            47.83936,
            46.27101,
            44.9114
           ],
           "xaxis": "x",
           "y": [
            27.97928,
            16.1073,
            29.03837,
            26.82419,
            23.85212,
            31.95608,
            28.61404,
            24.35252,
            37.17371,
            15.45708,
            24.0758
           ],
           "yaxis": "y"
          }
         ],
         "name": "48"
        },
        {
         "data": [
          {
           "hovertemplate": "MOMENT_NUM=49<br>LOC_X=%{x}<br>LOC_Y=%{y}<br>LOC_Z=%{marker.size}<br>TEAM_ID=%{marker.color}<extra></extra>",
           "ids": [
            -1,
            2594,
            200794,
            201143,
            201952,
            203145,
            101141,
            202704,
            202694,
            203484,
            203083
           ],
           "legendgroup": "",
           "marker": {
            "color": [
             -1,
             1610612737,
             1610612737,
             1610612737,
             1610612737,
             1610612737,
             1610612765,
             1610612765,
             1610612765,
             1610612765,
             1610612765
            ],
            "coloraxis": "coloraxis",
            "size": [
             7.25342,
             1,
             1,
             1,
             1,
             1,
             1,
             1,
             1,
             1,
             1
            ],
            "sizemode": "area",
            "sizeref": 0.029588299999999998,
            "symbol": "circle"
           },
           "mode": "markers",
           "name": "",
           "orientation": "v",
           "showlegend": false,
           "type": "scatter",
           "x": [
            54.9784,
            44.722,
            61.22229,
            44.53528,
            31.94976,
            39.98243,
            55.7815,
            72.32279,
            47.66618,
            45.89619,
            44.72867
           ],
           "xaxis": "x",
           "y": [
            28.17711,
            16.15193,
            28.90371,
            27.02799,
            23.82023,
            31.99489,
            28.72674,
            24.08441,
            37.26891,
            15.58888,
            24.00912
           ],
           "yaxis": "y"
          }
         ],
         "name": "49"
        },
        {
         "data": [
          {
           "hovertemplate": "MOMENT_NUM=50<br>LOC_X=%{x}<br>LOC_Y=%{y}<br>LOC_Z=%{marker.size}<br>TEAM_ID=%{marker.color}<extra></extra>",
           "ids": [
            -1,
            2594,
            200794,
            201143,
            201952,
            203145,
            101141,
            202704,
            202694,
            203484,
            203083
           ],
           "legendgroup": "",
           "marker": {
            "color": [
             -1,
             1610612737,
             1610612737,
             1610612737,
             1610612737,
             1610612737,
             1610612765,
             1610612765,
             1610612765,
             1610612765,
             1610612765
            ],
            "coloraxis": "coloraxis",
            "size": [
             7.2418,
             1,
             1,
             1,
             1,
             1,
             1,
             1,
             1,
             1,
             1
            ],
            "sizemode": "area",
            "sizeref": 0.029588299999999998,
            "symbol": "circle"
           },
           "mode": "markers",
           "name": "",
           "orientation": "v",
           "showlegend": false,
           "type": "scatter",
           "x": [
            54.87481,
            44.52024,
            61.20548,
            44.30628,
            32.01931,
            39.86647,
            55.74694,
            72.37063,
            47.48349,
            45.50721,
            44.54943
           ],
           "xaxis": "x",
           "y": [
            28.49582,
            16.19603,
            28.75581,
            27.24546,
            23.79175,
            32.0412,
            28.84775,
            23.81134,
            37.36794,
            15.72395,
            23.94805
           ],
           "yaxis": "y"
          }
         ],
         "name": "50"
        },
        {
         "data": [
          {
           "hovertemplate": "MOMENT_NUM=51<br>LOC_X=%{x}<br>LOC_Y=%{y}<br>LOC_Z=%{marker.size}<br>TEAM_ID=%{marker.color}<extra></extra>",
           "ids": [
            -1,
            2594,
            200794,
            201143,
            201952,
            203145,
            101141,
            202704,
            202694,
            203484,
            203083
           ],
           "legendgroup": "",
           "marker": {
            "color": [
             -1,
             1610612737,
             1610612737,
             1610612737,
             1610612737,
             1610612737,
             1610612765,
             1610612765,
             1610612765,
             1610612765,
             1610612765
            ],
            "coloraxis": "coloraxis",
            "size": [
             6.99361,
             1,
             1,
             1,
             1,
             1,
             1,
             1,
             1,
             1,
             1
            ],
            "sizemode": "area",
            "sizeref": 0.029588299999999998,
            "symbol": "circle"
           },
           "mode": "markers",
           "name": "",
           "orientation": "v",
           "showlegend": false,
           "type": "scatter",
           "x": [
            54.82205,
            44.3082,
            61.17903,
            44.02793,
            32.08423,
            39.74168,
            55.72001,
            72.42329,
            47.29743,
            45.10149,
            44.34387
           ],
           "xaxis": "x",
           "y": [
            29.23933,
            16.23867,
            28.59798,
            27.49704,
            23.75974,
            32.10202,
            28.96728,
            23.54362,
            37.46391,
            15.8604,
            23.86947
           ],
           "yaxis": "y"
          }
         ],
         "name": "51"
        },
        {
         "data": [
          {
           "hovertemplate": "MOMENT_NUM=52<br>LOC_X=%{x}<br>LOC_Y=%{y}<br>LOC_Z=%{marker.size}<br>TEAM_ID=%{marker.color}<extra></extra>",
           "ids": [
            -1,
            2594,
            200794,
            201143,
            201952,
            203145,
            101141,
            202704,
            202694,
            203484,
            203083
           ],
           "legendgroup": "",
           "marker": {
            "color": [
             -1,
             1610612737,
             1610612737,
             1610612737,
             1610612737,
             1610612737,
             1610612765,
             1610612765,
             1610612765,
             1610612765,
             1610612765
            ],
            "coloraxis": "coloraxis",
            "size": [
             6.98896,
             1,
             1,
             1,
             1,
             1,
             1,
             1,
             1,
             1,
             1
            ],
            "sizemode": "area",
            "sizeref": 0.029588299999999998,
            "symbol": "circle"
           },
           "mode": "markers",
           "name": "",
           "orientation": "v",
           "showlegend": false,
           "type": "scatter",
           "x": [
            54.70908,
            44.08577,
            61.14815,
            43.72873,
            32.14884,
            39.60657,
            55.69216,
            72.4727,
            47.10148,
            44.68637,
            44.14742
           ],
           "xaxis": "x",
           "y": [
            29.52729,
            16.27907,
            28.42654,
            27.66634,
            23.73279,
            32.17215,
            29.09256,
            23.27583,
            37.56432,
            15.98955,
            23.8054
           ],
           "yaxis": "y"
          }
         ],
         "name": "52"
        },
        {
         "data": [
          {
           "hovertemplate": "MOMENT_NUM=53<br>LOC_X=%{x}<br>LOC_Y=%{y}<br>LOC_Z=%{marker.size}<br>TEAM_ID=%{marker.color}<extra></extra>",
           "ids": [
            -1,
            2594,
            200794,
            201143,
            201952,
            203145,
            101141,
            202704,
            202694,
            203484,
            203083
           ],
           "legendgroup": "",
           "marker": {
            "color": [
             -1,
             1610612737,
             1610612737,
             1610612737,
             1610612737,
             1610612737,
             1610612765,
             1610612765,
             1610612765,
             1610612765,
             1610612765
            ],
            "coloraxis": "coloraxis",
            "size": [
             7.0856,
             1,
             1,
             1,
             1,
             1,
             1,
             1,
             1,
             1,
             1
            ],
            "sizemode": "area",
            "sizeref": 0.029588299999999998,
            "symbol": "circle"
           },
           "mode": "markers",
           "name": "",
           "orientation": "v",
           "showlegend": false,
           "type": "scatter",
           "x": [
            54.82535,
            43.84162,
            61.09772,
            43.41039,
            32.20986,
            39.46992,
            55.66498,
            72.52552,
            46.89391,
            44.24631,
            43.92271
           ],
           "xaxis": "x",
           "y": [
            29.85037,
            16.30961,
            28.25179,
            27.71322,
            23.70551,
            32.25398,
            29.20601,
            23.0153,
            37.65551,
            16.11415,
            23.73685
           ],
           "yaxis": "y"
          }
         ],
         "name": "53"
        },
        {
         "data": [
          {
           "hovertemplate": "MOMENT_NUM=54<br>LOC_X=%{x}<br>LOC_Y=%{y}<br>LOC_Z=%{marker.size}<br>TEAM_ID=%{marker.color}<extra></extra>",
           "ids": [
            -1,
            2594,
            200794,
            201143,
            201952,
            203145,
            101141,
            202704,
            202694,
            203484,
            203083
           ],
           "legendgroup": "",
           "marker": {
            "color": [
             -1,
             1610612737,
             1610612737,
             1610612737,
             1610612737,
             1610612737,
             1610612765,
             1610612765,
             1610612765,
             1610612765,
             1610612765
            ],
            "coloraxis": "coloraxis",
            "size": [
             6.82201,
             1,
             1,
             1,
             1,
             1,
             1,
             1,
             1,
             1,
             1
            ],
            "sizemode": "area",
            "sizeref": 0.029588299999999998,
            "symbol": "circle"
           },
           "mode": "markers",
           "name": "",
           "orientation": "v",
           "showlegend": false,
           "type": "scatter",
           "x": [
            54.84941,
            43.58635,
            61.03316,
            43.14528,
            32.26559,
            39.31962,
            55.63767,
            72.58307,
            46.67492,
            43.79315,
            43.7024
           ],
           "xaxis": "x",
           "y": [
            30.4908,
            16.33554,
            28.07414,
            27.73636,
            23.68484,
            32.3433,
            29.30732,
            22.76237,
            37.74258,
            16.23429,
            23.68841
           ],
           "yaxis": "y"
          }
         ],
         "name": "54"
        },
        {
         "data": [
          {
           "hovertemplate": "MOMENT_NUM=55<br>LOC_X=%{x}<br>LOC_Y=%{y}<br>LOC_Z=%{marker.size}<br>TEAM_ID=%{marker.color}<extra></extra>",
           "ids": [
            -1,
            2594,
            200794,
            201143,
            201952,
            203145,
            101141,
            202704,
            202694,
            203484,
            203083
           ],
           "legendgroup": "",
           "marker": {
            "color": [
             -1,
             1610612737,
             1610612737,
             1610612737,
             1610612737,
             1610612737,
             1610612765,
             1610612765,
             1610612765,
             1610612765,
             1610612765
            ],
            "coloraxis": "coloraxis",
            "size": [
             6.73047,
             1,
             1,
             1,
             1,
             1,
             1,
             1,
             1,
             1,
             1
            ],
            "sizemode": "area",
            "sizeref": 0.029588299999999998,
            "symbol": "circle"
           },
           "mode": "markers",
           "name": "",
           "orientation": "v",
           "showlegend": false,
           "type": "scatter",
           "x": [
            55.07244,
            43.31612,
            60.95598,
            42.84194,
            32.31871,
            39.16052,
            55.60225,
            72.64354,
            46.45152,
            43.38129,
            43.46849
           ],
           "xaxis": "x",
           "y": [
            30.82288,
            16.35472,
            27.89526,
            27.74319,
            23.67442,
            32.44321,
            29.39599,
            22.51766,
            37.82294,
            16.32236,
            23.63696
           ],
           "yaxis": "y"
          }
         ],
         "name": "55"
        },
        {
         "data": [
          {
           "hovertemplate": "MOMENT_NUM=56<br>LOC_X=%{x}<br>LOC_Y=%{y}<br>LOC_Z=%{marker.size}<br>TEAM_ID=%{marker.color}<extra></extra>",
           "ids": [
            -1,
            2594,
            200794,
            201143,
            201952,
            203145,
            101141,
            202704,
            202694,
            203484,
            203083
           ],
           "legendgroup": "",
           "marker": {
            "color": [
             -1,
             1610612737,
             1610612737,
             1610612737,
             1610612737,
             1610612737,
             1610612765,
             1610612765,
             1610612765,
             1610612765,
             1610612765
            ],
            "coloraxis": "coloraxis",
            "size": [
             6.65287,
             1,
             1,
             1,
             1,
             1,
             1,
             1,
             1,
             1,
             1
            ],
            "sizemode": "area",
            "sizeref": 0.029588299999999998,
            "symbol": "circle"
           },
           "mode": "markers",
           "name": "",
           "orientation": "v",
           "showlegend": false,
           "type": "scatter",
           "x": [
            55.27776,
            43.02766,
            60.86723,
            42.54928,
            32.367,
            38.99581,
            55.56287,
            72.70876,
            46.21737,
            43.09536,
            43.22725
           ],
           "xaxis": "x",
           "y": [
            31.08936,
            16.37688,
            27.71575,
            27.75163,
            23.67154,
            32.54868,
            29.4777,
            22.28046,
            37.91,
            16.36657,
            23.60106
           ],
           "yaxis": "y"
          }
         ],
         "name": "56"
        },
        {
         "data": [
          {
           "hovertemplate": "MOMENT_NUM=57<br>LOC_X=%{x}<br>LOC_Y=%{y}<br>LOC_Z=%{marker.size}<br>TEAM_ID=%{marker.color}<extra></extra>",
           "ids": [
            -1,
            2594,
            200794,
            201143,
            201952,
            203145,
            101141,
            202704,
            202694,
            203484,
            203083
           ],
           "legendgroup": "",
           "marker": {
            "color": [
             -1,
             1610612737,
             1610612737,
             1610612737,
             1610612737,
             1610612737,
             1610612765,
             1610612765,
             1610612765,
             1610612765,
             1610612765
            ],
            "coloraxis": "coloraxis",
            "size": [
             6.75846,
             1,
             1,
             1,
             1,
             1,
             1,
             1,
             1,
             1,
             1
            ],
            "sizemode": "area",
            "sizeref": 0.029588299999999998,
            "symbol": "circle"
           },
           "mode": "markers",
           "name": "",
           "orientation": "v",
           "showlegend": false,
           "type": "scatter",
           "x": [
            55.44446,
            42.72194,
            60.76503,
            42.22305,
            32.41028,
            38.82261,
            55.5231,
            72.78042,
            45.97354,
            42.93535,
            42.99185
           ],
           "xaxis": "x",
           "y": [
            31.20349,
            16.38788,
            27.53323,
            27.76442,
            23.66846,
            32.66398,
            29.55928,
            22.04204,
            37.98049,
            16.36691,
            23.58539
           ],
           "yaxis": "y"
          }
         ],
         "name": "57"
        },
        {
         "data": [
          {
           "hovertemplate": "MOMENT_NUM=58<br>LOC_X=%{x}<br>LOC_Y=%{y}<br>LOC_Z=%{marker.size}<br>TEAM_ID=%{marker.color}<extra></extra>",
           "ids": [
            -1,
            2594,
            200794,
            201143,
            201952,
            203145,
            101141,
            202704,
            202694,
            203484,
            203083
           ],
           "legendgroup": "",
           "marker": {
            "color": [
             -1,
             1610612737,
             1610612737,
             1610612737,
             1610612737,
             1610612737,
             1610612765,
             1610612765,
             1610612765,
             1610612765,
             1610612765
            ],
            "coloraxis": "coloraxis",
            "size": [
             7.01315,
             1,
             1,
             1,
             1,
             1,
             1,
             1,
             1,
             1,
             1
            ],
            "sizemode": "area",
            "sizeref": 0.029588299999999998,
            "symbol": "circle"
           },
           "mode": "markers",
           "name": "",
           "orientation": "v",
           "showlegend": false,
           "type": "scatter",
           "x": [
            55.67632,
            42.41513,
            60.65,
            41.89615,
            32.45359,
            38.6375,
            55.48334,
            72.85399,
            45.71454,
            42.85166,
            42.74871
           ],
           "xaxis": "x",
           "y": [
            31.1524,
            16.38636,
            27.35433,
            27.76785,
            23.67786,
            32.79045,
            29.6449,
            21.80793,
            38.04192,
            16.34657,
            23.57931
           ],
           "yaxis": "y"
          }
         ],
         "name": "58"
        },
        {
         "data": [
          {
           "hovertemplate": "MOMENT_NUM=59<br>LOC_X=%{x}<br>LOC_Y=%{y}<br>LOC_Z=%{marker.size}<br>TEAM_ID=%{marker.color}<extra></extra>",
           "ids": [
            -1,
            2594,
            200794,
            201143,
            201952,
            203145,
            101141,
            202704,
            202694,
            203484,
            203083
           ],
           "legendgroup": "",
           "marker": {
            "color": [
             -1,
             1610612737,
             1610612737,
             1610612737,
             1610612737,
             1610612737,
             1610612765,
             1610612765,
             1610612765,
             1610612765,
             1610612765
            ],
            "coloraxis": "coloraxis",
            "size": [
             7.16011,
             1,
             1,
             1,
             1,
             1,
             1,
             1,
             1,
             1,
             1
            ],
            "sizemode": "area",
            "sizeref": 0.029588299999999998,
            "symbol": "circle"
           },
           "mode": "markers",
           "name": "",
           "orientation": "v",
           "showlegend": false,
           "type": "scatter",
           "x": [
            55.95612,
            42.10311,
            60.52184,
            41.5575,
            32.4881,
            38.44251,
            55.44878,
            72.92687,
            45.45194,
            42.83757,
            42.48485
           ],
           "xaxis": "x",
           "y": [
            31.05029,
            16.38257,
            27.1735,
            27.78432,
            23.68884,
            32.92906,
            29.71674,
            21.57728,
            38.09651,
            16.31164,
            23.50494
           ],
           "yaxis": "y"
          }
         ],
         "name": "59"
        },
        {
         "data": [
          {
           "hovertemplate": "MOMENT_NUM=60<br>LOC_X=%{x}<br>LOC_Y=%{y}<br>LOC_Z=%{marker.size}<br>TEAM_ID=%{marker.color}<extra></extra>",
           "ids": [
            -1,
            2594,
            200794,
            201143,
            201952,
            203145,
            101141,
            202704,
            202694,
            203484,
            203083
           ],
           "legendgroup": "",
           "marker": {
            "color": [
             -1,
             1610612737,
             1610612737,
             1610612737,
             1610612737,
             1610612737,
             1610612765,
             1610612765,
             1610612765,
             1610612765,
             1610612765
            ],
            "coloraxis": "coloraxis",
            "size": [
             7.13465,
             1,
             1,
             1,
             1,
             1,
             1,
             1,
             1,
             1,
             1
            ],
            "sizemode": "area",
            "sizeref": 0.029588299999999998,
            "symbol": "circle"
           },
           "mode": "markers",
           "name": "",
           "orientation": "v",
           "showlegend": false,
           "type": "scatter",
           "x": [
            56.15669,
            41.79676,
            60.39013,
            41.19118,
            32.52409,
            38.23156,
            55.42375,
            72.99849,
            45.17463,
            42.89774,
            42.22301
           ],
           "xaxis": "x",
           "y": [
            31.06758,
            16.37417,
            26.99538,
            27.79987,
            23.70439,
            33.06712,
            29.78102,
            21.35535,
            38.14384,
            16.25944,
            23.4398
           ],
           "yaxis": "y"
          }
         ],
         "name": "60"
        },
        {
         "data": [
          {
           "hovertemplate": "MOMENT_NUM=61<br>LOC_X=%{x}<br>LOC_Y=%{y}<br>LOC_Z=%{marker.size}<br>TEAM_ID=%{marker.color}<extra></extra>",
           "ids": [
            -1,
            2594,
            200794,
            201143,
            201952,
            203145,
            101141,
            202704,
            202694,
            203484,
            203083
           ],
           "legendgroup": "",
           "marker": {
            "color": [
             -1,
             1610612737,
             1610612737,
             1610612737,
             1610612737,
             1610612737,
             1610612765,
             1610612765,
             1610612765,
             1610612765,
             1610612765
            ],
            "coloraxis": "coloraxis",
            "size": [
             7.38918,
             1,
             1,
             1,
             1,
             1,
             1,
             1,
             1,
             1,
             1
            ],
            "sizemode": "area",
            "sizeref": 0.029588299999999998,
            "symbol": "circle"
           },
           "mode": "markers",
           "name": "",
           "orientation": "v",
           "showlegend": false,
           "type": "scatter",
           "x": [
            56.28182,
            41.49208,
            60.24246,
            40.84445,
            32.55221,
            38.01046,
            55.40016,
            73.06472,
            44.88991,
            42.95945,
            41.951
           ],
           "xaxis": "x",
           "y": [
            30.95247,
            16.36876,
            26.8295,
            27.81,
            23.71571,
            33.20325,
            29.83793,
            21.14072,
            38.1743,
            16.21992,
            23.372
           ],
           "yaxis": "y"
          }
         ],
         "name": "61"
        },
        {
         "data": [
          {
           "hovertemplate": "MOMENT_NUM=62<br>LOC_X=%{x}<br>LOC_Y=%{y}<br>LOC_Z=%{marker.size}<br>TEAM_ID=%{marker.color}<extra></extra>",
           "ids": [
            -1,
            2594,
            200794,
            201143,
            201952,
            203145,
            101141,
            202704,
            202694,
            203484,
            203083
           ],
           "legendgroup": "",
           "marker": {
            "color": [
             -1,
             1610612737,
             1610612737,
             1610612737,
             1610612737,
             1610612737,
             1610612765,
             1610612765,
             1610612765,
             1610612765,
             1610612765
            ],
            "coloraxis": "coloraxis",
            "size": [
             7.63241,
             1,
             1,
             1,
             1,
             1,
             1,
             1,
             1,
             1,
             1
            ],
            "sizemode": "area",
            "sizeref": 0.029588299999999998,
            "symbol": "circle"
           },
           "mode": "markers",
           "name": "",
           "orientation": "v",
           "showlegend": false,
           "type": "scatter",
           "x": [
            56.37413,
            41.1867,
            60.08075,
            40.45302,
            32.58201,
            37.77571,
            55.38134,
            73.13034,
            44.58848,
            43.02403,
            41.66997
           ],
           "xaxis": "x",
           "y": [
            30.72655,
            16.36124,
            26.67162,
            27.85746,
            23.73561,
            33.33595,
            29.89178,
            20.93095,
            38.19676,
            16.1895,
            23.30075
           ],
           "yaxis": "y"
          }
         ],
         "name": "62"
        },
        {
         "data": [
          {
           "hovertemplate": "MOMENT_NUM=63<br>LOC_X=%{x}<br>LOC_Y=%{y}<br>LOC_Z=%{marker.size}<br>TEAM_ID=%{marker.color}<extra></extra>",
           "ids": [
            -1,
            2594,
            200794,
            201143,
            201952,
            203145,
            101141,
            202704,
            202694,
            203484,
            203083
           ],
           "legendgroup": "",
           "marker": {
            "color": [
             -1,
             1610612737,
             1610612737,
             1610612737,
             1610612737,
             1610612737,
             1610612765,
             1610612765,
             1610612765,
             1610612765,
             1610612765
            ],
            "coloraxis": "coloraxis",
            "size": [
             7.87934,
             1,
             1,
             1,
             1,
             1,
             1,
             1,
             1,
             1,
             1
            ],
            "sizemode": "area",
            "sizeref": 0.029588299999999998,
            "symbol": "circle"
           },
           "mode": "markers",
           "name": "",
           "orientation": "v",
           "showlegend": false,
           "type": "scatter",
           "x": [
            56.50786,
            40.87228,
            59.90903,
            40.03621,
            32.60982,
            37.52944,
            55.37145,
            73.19725,
            44.27882,
            43.0827,
            41.38633
           ],
           "xaxis": "x",
           "y": [
            30.64468,
            16.33762,
            26.52219,
            27.8581,
            23.75777,
            33.45852,
            29.95081,
            20.73051,
            38.19993,
            16.1648,
            23.23384
           ],
           "yaxis": "y"
          }
         ],
         "name": "63"
        },
        {
         "data": [
          {
           "hovertemplate": "MOMENT_NUM=64<br>LOC_X=%{x}<br>LOC_Y=%{y}<br>LOC_Z=%{marker.size}<br>TEAM_ID=%{marker.color}<extra></extra>",
           "ids": [
            -1,
            2594,
            200794,
            201143,
            201952,
            203145,
            101141,
            202704,
            202694,
            203484,
            203083
           ],
           "legendgroup": "",
           "marker": {
            "color": [
             -1,
             1610612737,
             1610612737,
             1610612737,
             1610612737,
             1610612737,
             1610612765,
             1610612765,
             1610612765,
             1610612765,
             1610612765
            ],
            "coloraxis": "coloraxis",
            "size": [
             8.0811,
             1,
             1,
             1,
             1,
             1,
             1,
             1,
             1,
             1,
             1
            ],
            "sizemode": "area",
            "sizeref": 0.029588299999999998,
            "symbol": "circle"
           },
           "mode": "markers",
           "name": "",
           "orientation": "v",
           "showlegend": false,
           "type": "scatter",
           "x": [
            56.82137,
            40.55464,
            59.7227,
            39.63972,
            32.63186,
            37.27666,
            55.36645,
            73.25444,
            43.96056,
            43.14108,
            41.10964
           ],
           "xaxis": "x",
           "y": [
            30.43778,
            16.31993,
            26.38215,
            27.79206,
            23.77372,
            33.57727,
            30.00617,
            20.53264,
            38.18828,
            16.15776,
            23.16634
           ],
           "yaxis": "y"
          }
         ],
         "name": "64"
        },
        {
         "data": [
          {
           "hovertemplate": "MOMENT_NUM=65<br>LOC_X=%{x}<br>LOC_Y=%{y}<br>LOC_Z=%{marker.size}<br>TEAM_ID=%{marker.color}<extra></extra>",
           "ids": [
            -1,
            2594,
            200794,
            201143,
            201952,
            203145,
            101141,
            202704,
            202694,
            203484,
            203083
           ],
           "legendgroup": "",
           "marker": {
            "color": [
             -1,
             1610612737,
             1610612737,
             1610612737,
             1610612737,
             1610612737,
             1610612765,
             1610612765,
             1610612765,
             1610612765,
             1610612765
            ],
            "coloraxis": "coloraxis",
            "size": [
             8.562619999999999,
             1,
             1,
             1,
             1,
             1,
             1,
             1,
             1,
             1,
             1
            ],
            "sizemode": "area",
            "sizeref": 0.029588299999999998,
            "symbol": "circle"
           },
           "mode": "markers",
           "name": "",
           "orientation": "v",
           "showlegend": false,
           "type": "scatter",
           "x": [
            57.55791,
            40.23202,
            59.53129,
            39.23714,
            32.65219,
            37.02092,
            55.35644,
            73.30304,
            43.64271,
            43.19901,
            40.84617
           ],
           "xaxis": "x",
           "y": [
            29.88348,
            16.30437,
            26.25819,
            27.72587,
            23.78684,
            33.6942,
            30.04617,
            20.34629,
            38.14652,
            16.16671,
            23.14123
           ],
           "yaxis": "y"
          }
         ],
         "name": "65"
        },
        {
         "data": [
          {
           "hovertemplate": "MOMENT_NUM=66<br>LOC_X=%{x}<br>LOC_Y=%{y}<br>LOC_Z=%{marker.size}<br>TEAM_ID=%{marker.color}<extra></extra>",
           "ids": [
            -1,
            2594,
            200794,
            201143,
            201952,
            203145,
            101141,
            202704,
            202694,
            203484,
            203083
           ],
           "legendgroup": "",
           "marker": {
            "color": [
             -1,
             1610612737,
             1610612737,
             1610612737,
             1610612737,
             1610612737,
             1610612765,
             1610612765,
             1610612765,
             1610612765,
             1610612765
            ],
            "coloraxis": "coloraxis",
            "size": [
             8.61863,
             1,
             1,
             1,
             1,
             1,
             1,
             1,
             1,
             1,
             1
            ],
            "sizemode": "area",
            "sizeref": 0.029588299999999998,
            "symbol": "circle"
           },
           "mode": "markers",
           "name": "",
           "orientation": "v",
           "showlegend": false,
           "type": "scatter",
           "x": [
            58.54231,
            39.90814,
            59.32687,
            38.84646,
            32.6747,
            36.75781,
            55.33762,
            73.34418,
            43.32722,
            43.25708,
            40.56249
           ],
           "xaxis": "x",
           "y": [
            29.39128,
            16.28344,
            26.14099,
            27.60391,
            23.80841,
            33.8075,
            30.09104,
            20.17276,
            38.09331,
            16.19329,
            23.07701
           ],
           "yaxis": "y"
          }
         ],
         "name": "66"
        },
        {
         "data": [
          {
           "hovertemplate": "MOMENT_NUM=67<br>LOC_X=%{x}<br>LOC_Y=%{y}<br>LOC_Z=%{marker.size}<br>TEAM_ID=%{marker.color}<extra></extra>",
           "ids": [
            -1,
            2594,
            200794,
            201143,
            201952,
            203145,
            101141,
            202704,
            202694,
            203484,
            203083
           ],
           "legendgroup": "",
           "marker": {
            "color": [
             -1,
             1610612737,
             1610612737,
             1610612737,
             1610612737,
             1610612737,
             1610612765,
             1610612765,
             1610612765,
             1610612765,
             1610612765
            ],
            "coloraxis": "coloraxis",
            "size": [
             8.98731,
             1,
             1,
             1,
             1,
             1,
             1,
             1,
             1,
             1,
             1
            ],
            "sizemode": "area",
            "sizeref": 0.029588299999999998,
            "symbol": "circle"
           },
           "mode": "markers",
           "name": "",
           "orientation": "v",
           "showlegend": false,
           "type": "scatter",
           "x": [
            59.52098,
            39.57467,
            59.10538,
            38.44686,
            32.69265,
            36.48847,
            55.31095,
            73.38062,
            43.0056,
            43.31855,
            40.29695
           ],
           "xaxis": "x",
           "y": [
            28.44402,
            16.25644,
            26.03518,
            27.48366,
            23.82613,
            33.92082,
            30.12775,
            20.01827,
            38.02088,
            16.23326,
            23.04019
           ],
           "yaxis": "y"
          }
         ],
         "name": "67"
        },
        {
         "data": [
          {
           "hovertemplate": "MOMENT_NUM=68<br>LOC_X=%{x}<br>LOC_Y=%{y}<br>LOC_Z=%{marker.size}<br>TEAM_ID=%{marker.color}<extra></extra>",
           "ids": [
            -1,
            2594,
            200794,
            201143,
            201952,
            203145,
            101141,
            202704,
            202694,
            203484,
            203083
           ],
           "legendgroup": "",
           "marker": {
            "color": [
             -1,
             1610612737,
             1610612737,
             1610612737,
             1610612737,
             1610612737,
             1610612765,
             1610612765,
             1610612765,
             1610612765,
             1610612765
            ],
            "coloraxis": "coloraxis",
            "size": [
             8.797889999999999,
             1,
             1,
             1,
             1,
             1,
             1,
             1,
             1,
             1,
             1
            ],
            "sizemode": "area",
            "sizeref": 0.029588299999999998,
            "symbol": "circle"
           },
           "mode": "markers",
           "name": "",
           "orientation": "v",
           "showlegend": false,
           "type": "scatter",
           "x": [
            60.61574,
            39.25054,
            58.86316,
            38.02826,
            32.71176,
            36.20924,
            55.28265,
            73.41603,
            42.68256,
            43.39396,
            40.04245
           ],
           "xaxis": "x",
           "y": [
            27.82734,
            16.25331,
            25.97739,
            27.40129,
            23.84813,
            34.03345,
            30.175,
            19.87496,
            37.94415,
            16.2965,
            23.01843
           ],
           "yaxis": "y"
          }
         ],
         "name": "68"
        },
        {
         "data": [
          {
           "hovertemplate": "MOMENT_NUM=69<br>LOC_X=%{x}<br>LOC_Y=%{y}<br>LOC_Z=%{marker.size}<br>TEAM_ID=%{marker.color}<extra></extra>",
           "ids": [
            -1,
            2594,
            200794,
            201143,
            201952,
            203145,
            101141,
            202704,
            202694,
            203484,
            203083
           ],
           "legendgroup": "",
           "marker": {
            "color": [
             -1,
             1610612737,
             1610612737,
             1610612737,
             1610612737,
             1610612737,
             1610612765,
             1610612765,
             1610612765,
             1610612765,
             1610612765
            ],
            "coloraxis": "coloraxis",
            "size": [
             8.90231,
             1,
             1,
             1,
             1,
             1,
             1,
             1,
             1,
             1,
             1
            ],
            "sizemode": "area",
            "sizeref": 0.029588299999999998,
            "symbol": "circle"
           },
           "mode": "markers",
           "name": "",
           "orientation": "v",
           "showlegend": false,
           "type": "scatter",
           "x": [
            61.49915,
            38.9136,
            58.60943,
            37.62257,
            32.7329,
            35.92222,
            55.24516,
            73.44491,
            42.35507,
            43.47843,
            39.80816
           ],
           "xaxis": "x",
           "y": [
            27.02279,
            16.24854,
            25.92642,
            27.32176,
            23.84207,
            34.14147,
            30.22583,
            19.74395,
            37.85682,
            16.37153,
            23.01606
           ],
           "yaxis": "y"
          }
         ],
         "name": "69"
        },
        {
         "data": [
          {
           "hovertemplate": "MOMENT_NUM=70<br>LOC_X=%{x}<br>LOC_Y=%{y}<br>LOC_Z=%{marker.size}<br>TEAM_ID=%{marker.color}<extra></extra>",
           "ids": [
            -1,
            2594,
            200794,
            201143,
            201952,
            203145,
            101141,
            202704,
            202694,
            203484,
            203083
           ],
           "legendgroup": "",
           "marker": {
            "color": [
             -1,
             1610612737,
             1610612737,
             1610612737,
             1610612737,
             1610612737,
             1610612765,
             1610612765,
             1610612765,
             1610612765,
             1610612765
            ],
            "coloraxis": "coloraxis",
            "size": [
             9.02537,
             1,
             1,
             1,
             1,
             1,
             1,
             1,
             1,
             1,
             1
            ],
            "sizemode": "area",
            "sizeref": 0.029588299999999998,
            "symbol": "circle"
           },
           "mode": "markers",
           "name": "",
           "orientation": "v",
           "showlegend": false,
           "type": "scatter",
           "x": [
            62.47283,
            38.57381,
            58.35215,
            37.18734,
            32.74519,
            35.62692,
            55.21289,
            73.46622,
            42.02053,
            43.57586,
            39.5851
           ],
           "xaxis": "x",
           "y": [
            26.24056,
            16.24982,
            25.82623,
            27.23426,
            23.86137,
            34.24966,
            30.28795,
            19.62443,
            37.75385,
            16.46225,
            23.03261
           ],
           "yaxis": "y"
          }
         ],
         "name": "70"
        },
        {
         "data": [
          {
           "hovertemplate": "MOMENT_NUM=71<br>LOC_X=%{x}<br>LOC_Y=%{y}<br>LOC_Z=%{marker.size}<br>TEAM_ID=%{marker.color}<extra></extra>",
           "ids": [
            -1,
            2594,
            200794,
            201143,
            201952,
            203145,
            101141,
            202704,
            202694,
            203484,
            203083
           ],
           "legendgroup": "",
           "marker": {
            "color": [
             -1,
             1610612737,
             1610612737,
             1610612737,
             1610612737,
             1610612737,
             1610612765,
             1610612765,
             1610612765,
             1610612765,
             1610612765
            ],
            "coloraxis": "coloraxis",
            "size": [
             8.84373,
             1,
             1,
             1,
             1,
             1,
             1,
             1,
             1,
             1,
             1
            ],
            "sizemode": "area",
            "sizeref": 0.029588299999999998,
            "symbol": "circle"
           },
           "mode": "markers",
           "name": "",
           "orientation": "v",
           "showlegend": false,
           "type": "scatter",
           "x": [
            63.46661,
            38.21982,
            58.09028,
            36.74778,
            32.75782,
            35.32196,
            55.18189,
            73.47363,
            41.67702,
            43.60432,
            39.36478
           ],
           "xaxis": "x",
           "y": [
            25.58293,
            16.25974,
            25.73401,
            27.14917,
            23.87998,
            34.35046,
            30.35114,
            19.51362,
            37.6291,
            16.58426,
            23.05414
           ],
           "yaxis": "y"
          }
         ],
         "name": "71"
        },
        {
         "data": [
          {
           "hovertemplate": "MOMENT_NUM=72<br>LOC_X=%{x}<br>LOC_Y=%{y}<br>LOC_Z=%{marker.size}<br>TEAM_ID=%{marker.color}<extra></extra>",
           "ids": [
            -1,
            2594,
            200794,
            201143,
            201952,
            203145,
            101141,
            202704,
            202694,
            203484,
            203083
           ],
           "legendgroup": "",
           "marker": {
            "color": [
             -1,
             1610612737,
             1610612737,
             1610612737,
             1610612737,
             1610612737,
             1610612765,
             1610612765,
             1610612765,
             1610612765,
             1610612765
            ],
            "coloraxis": "coloraxis",
            "size": [
             8.84429,
             1,
             1,
             1,
             1,
             1,
             1,
             1,
             1,
             1,
             1
            ],
            "sizemode": "area",
            "sizeref": 0.029588299999999998,
            "symbol": "circle"
           },
           "mode": "markers",
           "name": "",
           "orientation": "v",
           "showlegend": false,
           "type": "scatter",
           "x": [
            64.31545,
            37.87019,
            57.82101,
            36.31644,
            32.77268,
            35.00533,
            55.15221,
            73.45994,
            41.32765,
            43.561,
            39.13734
           ],
           "xaxis": "x",
           "y": [
            24.77869,
            16.28797,
            25.65405,
            27.07109,
            23.90079,
            34.44341,
            30.41196,
            19.41799,
            37.50004,
            16.73584,
            23.07799
           ],
           "yaxis": "y"
          }
         ],
         "name": "72"
        },
        {
         "data": [
          {
           "hovertemplate": "MOMENT_NUM=73<br>LOC_X=%{x}<br>LOC_Y=%{y}<br>LOC_Z=%{marker.size}<br>TEAM_ID=%{marker.color}<extra></extra>",
           "ids": [
            -1,
            2594,
            200794,
            201143,
            201952,
            203145,
            101141,
            202704,
            202694,
            203484,
            203083
           ],
           "legendgroup": "",
           "marker": {
            "color": [
             -1,
             1610612737,
             1610612737,
             1610612737,
             1610612737,
             1610612737,
             1610612765,
             1610612765,
             1610612765,
             1610612765,
             1610612765
            ],
            "coloraxis": "coloraxis",
            "size": [
             8.61811,
             1,
             1,
             1,
             1,
             1,
             1,
             1,
             1,
             1,
             1
            ],
            "sizemode": "area",
            "sizeref": 0.029588299999999998,
            "symbol": "circle"
           },
           "mode": "markers",
           "name": "",
           "orientation": "v",
           "showlegend": false,
           "type": "scatter",
           "x": [
            65.44193,
            37.5244,
            57.54206,
            35.87546,
            32.78399,
            34.68951,
            55.12109,
            73.42678,
            40.9809,
            43.44115,
            38.91052
           ],
           "xaxis": "x",
           "y": [
            24.10221,
            16.32665,
            25.58207,
            27.00447,
            23.91675,
            34.53011,
            30.45722,
            19.32721,
            37.37129,
            16.92353,
            23.10517
           ],
           "yaxis": "y"
          }
         ],
         "name": "73"
        },
        {
         "data": [
          {
           "hovertemplate": "MOMENT_NUM=74<br>LOC_X=%{x}<br>LOC_Y=%{y}<br>LOC_Z=%{marker.size}<br>TEAM_ID=%{marker.color}<extra></extra>",
           "ids": [
            -1,
            2594,
            200794,
            201143,
            201952,
            203145,
            101141,
            202704,
            202694,
            203484,
            203083
           ],
           "legendgroup": "",
           "marker": {
            "color": [
             -1,
             1610612737,
             1610612737,
             1610612737,
             1610612737,
             1610612737,
             1610612765,
             1610612765,
             1610612765,
             1610612765,
             1610612765
            ],
            "coloraxis": "coloraxis",
            "size": [
             8.59687,
             1,
             1,
             1,
             1,
             1,
             1,
             1,
             1,
             1,
             1
            ],
            "sizemode": "area",
            "sizeref": 0.029588299999999998,
            "symbol": "circle"
           },
           "mode": "markers",
           "name": "",
           "orientation": "v",
           "showlegend": false,
           "type": "scatter",
           "x": [
            66.31578,
            37.17963,
            57.25196,
            35.43185,
            32.78985,
            34.36893,
            55.0885,
            73.3784,
            40.6248,
            43.24992,
            38.6569
           ],
           "xaxis": "x",
           "y": [
            23.35678,
            16.3748,
            25.51183,
            26.91483,
            23.9339,
            34.58934,
            30.49614,
            19.23723,
            37.22959,
            17.14276,
            23.07712
           ],
           "yaxis": "y"
          }
         ],
         "name": "74"
        },
        {
         "data": [
          {
           "hovertemplate": "MOMENT_NUM=75<br>LOC_X=%{x}<br>LOC_Y=%{y}<br>LOC_Z=%{marker.size}<br>TEAM_ID=%{marker.color}<extra></extra>",
           "ids": [
            -1,
            2594,
            200794,
            201143,
            201952,
            203145,
            101141,
            202704,
            202694,
            203484,
            203083
           ],
           "legendgroup": "",
           "marker": {
            "color": [
             -1,
             1610612737,
             1610612737,
             1610612737,
             1610612737,
             1610612737,
             1610612765,
             1610612765,
             1610612765,
             1610612765,
             1610612765
            ],
            "coloraxis": "coloraxis",
            "size": [
             8.07447,
             1,
             1,
             1,
             1,
             1,
             1,
             1,
             1,
             1,
             1
            ],
            "sizemode": "area",
            "sizeref": 0.029588299999999998,
            "symbol": "circle"
           },
           "mode": "markers",
           "name": "",
           "orientation": "v",
           "showlegend": false,
           "type": "scatter",
           "x": [
            67.29549,
            36.83576,
            56.94638,
            35.00432,
            32.79317,
            34.04588,
            55.03925,
            73.31595,
            40.26827,
            42.9879,
            38.40099
           ],
           "xaxis": "x",
           "y": [
            22.87806,
            16.4295,
            25.4447,
            26.81479,
            23.95505,
            34.65152,
            30.52533,
            19.14877,
            37.06879,
            17.3938,
            23.04405
           ],
           "yaxis": "y"
          }
         ],
         "name": "75"
        },
        {
         "data": [
          {
           "hovertemplate": "MOMENT_NUM=76<br>LOC_X=%{x}<br>LOC_Y=%{y}<br>LOC_Z=%{marker.size}<br>TEAM_ID=%{marker.color}<extra></extra>",
           "ids": [
            -1,
            2594,
            200794,
            201143,
            201952,
            203145,
            101141,
            202704,
            202694,
            203484,
            203083
           ],
           "legendgroup": "",
           "marker": {
            "color": [
             -1,
             1610612737,
             1610612737,
             1610612737,
             1610612737,
             1610612737,
             1610612765,
             1610612765,
             1610612765,
             1610612765,
             1610612765
            ],
            "coloraxis": "coloraxis",
            "size": [
             8.16649,
             1,
             1,
             1,
             1,
             1,
             1,
             1,
             1,
             1,
             1
            ],
            "sizemode": "area",
            "sizeref": 0.029588299999999998,
            "symbol": "circle"
           },
           "mode": "markers",
           "name": "",
           "orientation": "v",
           "showlegend": false,
           "type": "scatter",
           "x": [
            68.29732,
            36.47822,
            56.638,
            34.55055,
            32.79429,
            33.7181,
            54.97451,
            73.23603,
            39.9062,
            42.72026,
            38.15425
           ],
           "xaxis": "x",
           "y": [
            21.80457,
            16.49618,
            25.37968,
            26.72842,
            23.98161,
            34.70829,
            30.54547,
            19.05597,
            36.90604,
            17.65342,
            23.02128
           ],
           "yaxis": "y"
          }
         ],
         "name": "76"
        },
        {
         "data": [
          {
           "hovertemplate": "MOMENT_NUM=77<br>LOC_X=%{x}<br>LOC_Y=%{y}<br>LOC_Z=%{marker.size}<br>TEAM_ID=%{marker.color}<extra></extra>",
           "ids": [
            -1,
            2594,
            200794,
            201143,
            201952,
            203145,
            101141,
            202704,
            202694,
            203484,
            203083
           ],
           "legendgroup": "",
           "marker": {
            "color": [
             -1,
             1610612737,
             1610612737,
             1610612737,
             1610612737,
             1610612737,
             1610612765,
             1610612765,
             1610612765,
             1610612765,
             1610612765
            ],
            "coloraxis": "coloraxis",
            "size": [
             7.58096,
             1,
             1,
             1,
             1,
             1,
             1,
             1,
             1,
             1,
             1
            ],
            "sizemode": "area",
            "sizeref": 0.029588299999999998,
            "symbol": "circle"
           },
           "mode": "markers",
           "name": "",
           "orientation": "v",
           "showlegend": false,
           "type": "scatter",
           "x": [
            69.15626,
            36.11229,
            56.3186,
            34.07843,
            32.8076,
            33.38955,
            54.88812,
            73.14894,
            39.54182,
            42.4492,
            37.90976
           ],
           "xaxis": "x",
           "y": [
            21.39781,
            16.5721,
            25.31906,
            26.65957,
            23.98256,
            34.75326,
            30.56499,
            18.96662,
            36.73726,
            17.91518,
            22.99329
           ],
           "yaxis": "y"
          }
         ],
         "name": "77"
        },
        {
         "data": [
          {
           "hovertemplate": "MOMENT_NUM=78<br>LOC_X=%{x}<br>LOC_Y=%{y}<br>LOC_Z=%{marker.size}<br>TEAM_ID=%{marker.color}<extra></extra>",
           "ids": [
            -1,
            2594,
            200794,
            201143,
            201952,
            203145,
            101141,
            202704,
            202694,
            203484,
            203083
           ],
           "legendgroup": "",
           "marker": {
            "color": [
             -1,
             1610612737,
             1610612737,
             1610612737,
             1610612737,
             1610612737,
             1610612765,
             1610612765,
             1610612765,
             1610612765,
             1610612765
            ],
            "coloraxis": "coloraxis",
            "size": [
             7.401,
             1,
             1,
             1,
             1,
             1,
             1,
             1,
             1,
             1,
             1
            ],
            "sizemode": "area",
            "sizeref": 0.029588299999999998,
            "symbol": "circle"
           },
           "mode": "markers",
           "name": "",
           "orientation": "v",
           "showlegend": false,
           "type": "scatter",
           "x": [
            70.07524,
            35.74886,
            55.99436,
            33.61606,
            32.81794,
            33.05931,
            54.7726,
            73.05653,
            39.17056,
            42.17854,
            37.67157
           ],
           "xaxis": "x",
           "y": [
            20.43421,
            16.65774,
            25.27049,
            26.60409,
            23.97804,
            34.7957,
            30.58119,
            18.87626,
            36.57437,
            18.1818,
            22.97558
           ],
           "yaxis": "y"
          }
         ],
         "name": "78"
        },
        {
         "data": [
          {
           "hovertemplate": "MOMENT_NUM=79<br>LOC_X=%{x}<br>LOC_Y=%{y}<br>LOC_Z=%{marker.size}<br>TEAM_ID=%{marker.color}<extra></extra>",
           "ids": [
            -1,
            2594,
            200794,
            201143,
            201952,
            203145,
            101141,
            202704,
            202694,
            203484,
            203083
           ],
           "legendgroup": "",
           "marker": {
            "color": [
             -1,
             1610612737,
             1610612737,
             1610612737,
             1610612737,
             1610612737,
             1610612765,
             1610612765,
             1610612765,
             1610612765,
             1610612765
            ],
            "coloraxis": "coloraxis",
            "size": [
             6.99146,
             1,
             1,
             1,
             1,
             1,
             1,
             1,
             1,
             1,
             1
            ],
            "sizemode": "area",
            "sizeref": 0.029588299999999998,
            "symbol": "circle"
           },
           "mode": "markers",
           "name": "",
           "orientation": "v",
           "showlegend": false,
           "type": "scatter",
           "x": [
            71.07846,
            35.37832,
            55.66114,
            33.17888,
            32.82772,
            32.72017,
            54.64044,
            72.95351,
            38.80206,
            41.90288,
            37.45564
           ],
           "xaxis": "x",
           "y": [
            19.87417,
            16.7379,
            25.22181,
            26.52255,
            23.99699,
            34.81312,
            30.59493,
            18.79962,
            36.40729,
            18.45363,
            23.02659
           ],
           "yaxis": "y"
          }
         ],
         "name": "79"
        },
        {
         "data": [
          {
           "hovertemplate": "MOMENT_NUM=80<br>LOC_X=%{x}<br>LOC_Y=%{y}<br>LOC_Z=%{marker.size}<br>TEAM_ID=%{marker.color}<extra></extra>",
           "ids": [
            -1,
            2594,
            200794,
            201143,
            201952,
            203145,
            101141,
            202704,
            202694,
            203484,
            203083
           ],
           "legendgroup": "",
           "marker": {
            "color": [
             -1,
             1610612737,
             1610612737,
             1610612737,
             1610612737,
             1610612737,
             1610612765,
             1610612765,
             1610612765,
             1610612765,
             1610612765
            ],
            "coloraxis": "coloraxis",
            "size": [
             6.51368,
             1,
             1,
             1,
             1,
             1,
             1,
             1,
             1,
             1,
             1
            ],
            "sizemode": "area",
            "sizeref": 0.029588299999999998,
            "symbol": "circle"
           },
           "mode": "markers",
           "name": "",
           "orientation": "v",
           "showlegend": false,
           "type": "scatter",
           "x": [
            71.62537,
            35.0105,
            55.31365,
            32.75156,
            32.83602,
            32.37395,
            54.49799,
            72.83378,
            38.42941,
            41.62199,
            37.22876
           ],
           "xaxis": "x",
           "y": [
            19.36981,
            16.82725,
            25.16192,
            26.43146,
            24.0156,
            34.81954,
            30.60395,
            18.73067,
            36.24558,
            18.73628,
            23.05365
           ],
           "yaxis": "y"
          }
         ],
         "name": "80"
        },
        {
         "data": [
          {
           "hovertemplate": "MOMENT_NUM=81<br>LOC_X=%{x}<br>LOC_Y=%{y}<br>LOC_Z=%{marker.size}<br>TEAM_ID=%{marker.color}<extra></extra>",
           "ids": [
            -1,
            2594,
            200794,
            201143,
            201952,
            203145,
            101141,
            202704,
            202694,
            203484,
            203083
           ],
           "legendgroup": "",
           "marker": {
            "color": [
             -1,
             1610612737,
             1610612737,
             1610612737,
             1610612737,
             1610612737,
             1610612765,
             1610612765,
             1610612765,
             1610612765,
             1610612765
            ],
            "coloraxis": "coloraxis",
            "size": [
             6.32596,
             1,
             1,
             1,
             1,
             1,
             1,
             1,
             1,
             1,
             1
            ],
            "sizemode": "area",
            "sizeref": 0.029588299999999998,
            "symbol": "circle"
           },
           "mode": "markers",
           "name": "",
           "orientation": "v",
           "showlegend": false,
           "type": "scatter",
           "x": [
            71.69003,
            34.62447,
            54.96024,
            32.32961,
            32.84279,
            32.03171,
            54.35152,
            72.69134,
            38.04556,
            41.33622,
            37.02648
           ],
           "xaxis": "x",
           "y": [
            19.19567,
            16.89716,
            25.11786,
            26.34638,
            24.03074,
            34.8204,
            30.61055,
            18.66844,
            36.07775,
            19.03114,
            23.14152
           ],
           "yaxis": "y"
          }
         ],
         "name": "81"
        },
        {
         "data": [
          {
           "hovertemplate": "MOMENT_NUM=82<br>LOC_X=%{x}<br>LOC_Y=%{y}<br>LOC_Z=%{marker.size}<br>TEAM_ID=%{marker.color}<extra></extra>",
           "ids": [
            -1,
            2594,
            200794,
            201143,
            201952,
            203145,
            101141,
            202704,
            202694,
            203484,
            203083
           ],
           "legendgroup": "",
           "marker": {
            "color": [
             -1,
             1610612737,
             1610612737,
             1610612737,
             1610612737,
             1610612737,
             1610612765,
             1610612765,
             1610612765,
             1610612765,
             1610612765
            ],
            "coloraxis": "coloraxis",
            "size": [
             5.93824,
             1,
             1,
             1,
             1,
             1,
             1,
             1,
             1,
             1,
             1
            ],
            "sizemode": "area",
            "sizeref": 0.029588299999999998,
            "symbol": "circle"
           },
           "mode": "markers",
           "name": "",
           "orientation": "v",
           "showlegend": false,
           "type": "scatter",
           "x": [
            71.58236,
            34.24121,
            54.60327,
            31.91957,
            32.85295,
            31.68902,
            54.20257,
            72.51852,
            37.65695,
            41.04679,
            36.81663
           ],
           "xaxis": "x",
           "y": [
            19.05504,
            16.99787,
            25.07241,
            26.29733,
            24.03961,
            34.80738,
            30.60957,
            18.60587,
            35.88968,
            19.3428,
            23.20903
           ],
           "yaxis": "y"
          }
         ],
         "name": "82"
        },
        {
         "data": [
          {
           "hovertemplate": "MOMENT_NUM=83<br>LOC_X=%{x}<br>LOC_Y=%{y}<br>LOC_Z=%{marker.size}<br>TEAM_ID=%{marker.color}<extra></extra>",
           "ids": [
            -1,
            2594,
            200794,
            201143,
            201952,
            203145,
            101141,
            202704,
            202694,
            203484,
            203083
           ],
           "legendgroup": "",
           "marker": {
            "color": [
             -1,
             1610612737,
             1610612737,
             1610612737,
             1610612737,
             1610612737,
             1610612765,
             1610612765,
             1610612765,
             1610612765,
             1610612765
            ],
            "coloraxis": "coloraxis",
            "size": [
             5.22036,
             1,
             1,
             1,
             1,
             1,
             1,
             1,
             1,
             1,
             1
            ],
            "sizemode": "area",
            "sizeref": 0.029588299999999998,
            "symbol": "circle"
           },
           "mode": "markers",
           "name": "",
           "orientation": "v",
           "showlegend": false,
           "type": "scatter",
           "x": [
            71.72192,
            33.84871,
            54.25551,
            31.52768,
            32.86291,
            31.34887,
            54.04838,
            72.32075,
            37.26501,
            40.75026,
            36.61263
           ],
           "xaxis": "x",
           "y": [
            18.97671,
            17.09538,
            24.98221,
            26.24423,
            24.05805,
            34.78962,
            30.59296,
            18.55444,
            35.68862,
            19.66018,
            23.27397
           ],
           "yaxis": "y"
          }
         ],
         "name": "83"
        },
        {
         "data": [
          {
           "hovertemplate": "MOMENT_NUM=84<br>LOC_X=%{x}<br>LOC_Y=%{y}<br>LOC_Z=%{marker.size}<br>TEAM_ID=%{marker.color}<extra></extra>",
           "ids": [
            -1,
            2594,
            200794,
            201143,
            201952,
            203145,
            101141,
            202704,
            202694,
            203484,
            203083
           ],
           "legendgroup": "",
           "marker": {
            "color": [
             -1,
             1610612737,
             1610612737,
             1610612737,
             1610612737,
             1610612737,
             1610612765,
             1610612765,
             1610612765,
             1610612765,
             1610612765
            ],
            "coloraxis": "coloraxis",
            "size": [
             4.89593,
             1,
             1,
             1,
             1,
             1,
             1,
             1,
             1,
             1,
             1
            ],
            "sizemode": "area",
            "sizeref": 0.029588299999999998,
            "symbol": "circle"
           },
           "mode": "markers",
           "name": "",
           "orientation": "v",
           "showlegend": false,
           "type": "scatter",
           "x": [
            71.63821,
            33.49262,
            53.91099,
            31.1067,
            32.86616,
            31.01279,
            53.88448,
            72.09427,
            36.87185,
            40.44531,
            36.38994
           ],
           "xaxis": "x",
           "y": [
            18.77993,
            17.26489,
            24.89529,
            26.12683,
            24.09478,
            34.76183,
            30.56809,
            18.51641,
            35.48224,
            20.00183,
            23.33231
           ],
           "yaxis": "y"
          }
         ],
         "name": "84"
        },
        {
         "data": [
          {
           "hovertemplate": "MOMENT_NUM=85<br>LOC_X=%{x}<br>LOC_Y=%{y}<br>LOC_Z=%{marker.size}<br>TEAM_ID=%{marker.color}<extra></extra>",
           "ids": [
            -1,
            2594,
            200794,
            201143,
            201952,
            203145,
            101141,
            202704,
            202694,
            203484,
            203083
           ],
           "legendgroup": "",
           "marker": {
            "color": [
             -1,
             1610612737,
             1610612737,
             1610612737,
             1610612737,
             1610612737,
             1610612765,
             1610612765,
             1610612765,
             1610612765,
             1610612765
            ],
            "coloraxis": "coloraxis",
            "size": [
             4.3444400000000005,
             1,
             1,
             1,
             1,
             1,
             1,
             1,
             1,
             1,
             1
            ],
            "sizemode": "area",
            "sizeref": 0.029588299999999998,
            "symbol": "circle"
           },
           "mode": "markers",
           "name": "",
           "orientation": "v",
           "showlegend": false,
           "type": "scatter",
           "x": [
            71.67733,
            33.13501,
            53.55061,
            30.71038,
            32.88048,
            30.67954,
            53.70516,
            71.84216,
            36.47491,
            40.10493,
            36.18079
           ],
           "xaxis": "x",
           "y": [
            18.72751,
            17.42909,
            24.8472,
            26.01617,
            24.11723,
            34.72148,
            30.53488,
            18.48889,
            35.25397,
            20.30702,
            23.39174
           ],
           "yaxis": "y"
          }
         ],
         "name": "85"
        },
        {
         "data": [
          {
           "hovertemplate": "MOMENT_NUM=86<br>LOC_X=%{x}<br>LOC_Y=%{y}<br>LOC_Z=%{marker.size}<br>TEAM_ID=%{marker.color}<extra></extra>",
           "ids": [
            -1,
            2594,
            200794,
            201143,
            201952,
            203145,
            101141,
            202704,
            202694,
            203484,
            203083
           ],
           "legendgroup": "",
           "marker": {
            "color": [
             -1,
             1610612737,
             1610612737,
             1610612737,
             1610612737,
             1610612737,
             1610612765,
             1610612765,
             1610612765,
             1610612765,
             1610612765
            ],
            "coloraxis": "coloraxis",
            "size": [
             4.09132,
             1,
             1,
             1,
             1,
             1,
             1,
             1,
             1,
             1,
             1
            ],
            "sizemode": "area",
            "sizeref": 0.029588299999999998,
            "symbol": "circle"
           },
           "mode": "markers",
           "name": "",
           "orientation": "v",
           "showlegend": false,
           "type": "scatter",
           "x": [
            71.58873,
            32.7721,
            53.18137,
            30.31884,
            32.87605,
            30.35019,
            53.5038,
            71.57249,
            36.07309,
            39.79373,
            35.95569
           ],
           "xaxis": "x",
           "y": [
            18.68398,
            17.58634,
            24.80494,
            25.89107,
            24.1023,
            34.66614,
            30.49278,
            18.47696,
            35.01562,
            20.66928,
            23.47824
           ],
           "yaxis": "y"
          }
         ],
         "name": "86"
        },
        {
         "data": [
          {
           "hovertemplate": "MOMENT_NUM=87<br>LOC_X=%{x}<br>LOC_Y=%{y}<br>LOC_Z=%{marker.size}<br>TEAM_ID=%{marker.color}<extra></extra>",
           "ids": [
            -1,
            2594,
            200794,
            201143,
            201952,
            203145,
            101141,
            202704,
            202694,
            203484,
            203083
           ],
           "legendgroup": "",
           "marker": {
            "color": [
             -1,
             1610612737,
             1610612737,
             1610612737,
             1610612737,
             1610612737,
             1610612765,
             1610612765,
             1610612765,
             1610612765,
             1610612765
            ],
            "coloraxis": "coloraxis",
            "size": [
             4.02043,
             1,
             1,
             1,
             1,
             1,
             1,
             1,
             1,
             1,
             1
            ],
            "sizemode": "area",
            "sizeref": 0.029588299999999998,
            "symbol": "circle"
           },
           "mode": "markers",
           "name": "",
           "orientation": "v",
           "showlegend": false,
           "type": "scatter",
           "x": [
            71.31276,
            32.41759,
            52.81789,
            29.92459,
            32.88829,
            30.0262,
            53.28413,
            71.28776,
            35.66891,
            39.48886,
            35.77395
           ],
           "xaxis": "x",
           "y": [
            18.71051,
            17.76795,
            24.73031,
            25.76141,
            24.1389,
            34.60446,
            30.44295,
            18.4604,
            34.77282,
            21.03744,
            23.54872
           ],
           "yaxis": "y"
          }
         ],
         "name": "87"
        },
        {
         "data": [
          {
           "hovertemplate": "MOMENT_NUM=88<br>LOC_X=%{x}<br>LOC_Y=%{y}<br>LOC_Z=%{marker.size}<br>TEAM_ID=%{marker.color}<extra></extra>",
           "ids": [
            -1,
            2594,
            200794,
            201143,
            201952,
            203145,
            101141,
            202704,
            202694,
            203484,
            203083
           ],
           "legendgroup": "",
           "marker": {
            "color": [
             -1,
             1610612737,
             1610612737,
             1610612737,
             1610612737,
             1610612737,
             1610612765,
             1610612765,
             1610612765,
             1610612765,
             1610612765
            ],
            "coloraxis": "coloraxis",
            "size": [
             4.02243,
             1,
             1,
             1,
             1,
             1,
             1,
             1,
             1,
             1,
             1
            ],
            "sizemode": "area",
            "sizeref": 0.029588299999999998,
            "symbol": "circle"
           },
           "mode": "markers",
           "name": "",
           "orientation": "v",
           "showlegend": false,
           "type": "scatter",
           "x": [
            71.08173,
            32.05304,
            52.43519,
            29.53635,
            32.89143,
            29.70037,
            53.05314,
            70.99354,
            35.24574,
            39.19263,
            35.59906
           ],
           "xaxis": "x",
           "y": [
            18.78274,
            17.96106,
            24.68692,
            25.62305,
            24.17215,
            34.53212,
            30.39034,
            18.45366,
            34.49242,
            21.41628,
            23.62312
           ],
           "yaxis": "y"
          }
         ],
         "name": "88"
        },
        {
         "data": [
          {
           "hovertemplate": "MOMENT_NUM=89<br>LOC_X=%{x}<br>LOC_Y=%{y}<br>LOC_Z=%{marker.size}<br>TEAM_ID=%{marker.color}<extra></extra>",
           "ids": [
            -1,
            2594,
            200794,
            201143,
            201952,
            203145,
            101141,
            202704,
            202694,
            203484,
            203083
           ],
           "legendgroup": "",
           "marker": {
            "color": [
             -1,
             1610612737,
             1610612737,
             1610612737,
             1610612737,
             1610612737,
             1610612765,
             1610612765,
             1610612765,
             1610612765,
             1610612765
            ],
            "coloraxis": "coloraxis",
            "size": [
             3.94001,
             1,
             1,
             1,
             1,
             1,
             1,
             1,
             1,
             1,
             1
            ],
            "sizemode": "area",
            "sizeref": 0.029588299999999998,
            "symbol": "circle"
           },
           "mode": "markers",
           "name": "",
           "orientation": "v",
           "showlegend": false,
           "type": "scatter",
           "x": [
            70.7851,
            31.69823,
            52.05954,
            29.14123,
            32.97347,
            29.3699,
            52.80309,
            70.6849,
            34.81591,
            38.88725,
            35.41475
           ],
           "xaxis": "x",
           "y": [
            19.0111,
            18.17185,
            24.64113,
            25.43848,
            24.22571,
            34.45626,
            30.33883,
            18.45443,
            34.22164,
            21.80701,
            23.77673
           ],
           "yaxis": "y"
          }
         ],
         "name": "89"
        },
        {
         "data": [
          {
           "hovertemplate": "MOMENT_NUM=90<br>LOC_X=%{x}<br>LOC_Y=%{y}<br>LOC_Z=%{marker.size}<br>TEAM_ID=%{marker.color}<extra></extra>",
           "ids": [
            -1,
            2594,
            200794,
            201143,
            201952,
            203145,
            101141,
            202704,
            202694,
            203484,
            203083
           ],
           "legendgroup": "",
           "marker": {
            "color": [
             -1,
             1610612737,
             1610612737,
             1610612737,
             1610612737,
             1610612737,
             1610612765,
             1610612765,
             1610612765,
             1610612765,
             1610612765
            ],
            "coloraxis": "coloraxis",
            "size": [
             4.22258,
             1,
             1,
             1,
             1,
             1,
             1,
             1,
             1,
             1,
             1
            ],
            "sizemode": "area",
            "sizeref": 0.029588299999999998,
            "symbol": "circle"
           },
           "mode": "markers",
           "name": "",
           "orientation": "v",
           "showlegend": false,
           "type": "scatter",
           "x": [
            70.22654,
            31.36939,
            51.68306,
            28.74566,
            33.06048,
            29.03232,
            52.54651,
            70.36543,
            34.38404,
            38.57817,
            35.24959
           ],
           "xaxis": "x",
           "y": [
            19.06026,
            18.36895,
            24.59173,
            25.27054,
            24.27895,
            34.3663,
            30.28727,
            18.46034,
            33.96536,
            22.1966,
            23.9352
           ],
           "yaxis": "y"
          }
         ],
         "name": "90"
        },
        {
         "data": [
          {
           "hovertemplate": "MOMENT_NUM=91<br>LOC_X=%{x}<br>LOC_Y=%{y}<br>LOC_Z=%{marker.size}<br>TEAM_ID=%{marker.color}<extra></extra>",
           "ids": [
            -1,
            2594,
            200794,
            201143,
            201952,
            203145,
            101141,
            202704,
            202694,
            203484,
            203083
           ],
           "legendgroup": "",
           "marker": {
            "color": [
             -1,
             1610612737,
             1610612737,
             1610612737,
             1610612737,
             1610612737,
             1610612765,
             1610612765,
             1610612765,
             1610612765,
             1610612765
            ],
            "coloraxis": "coloraxis",
            "size": [
             4.22057,
             1,
             1,
             1,
             1,
             1,
             1,
             1,
             1,
             1,
             1
            ],
            "sizemode": "area",
            "sizeref": 0.029588299999999998,
            "symbol": "circle"
           },
           "mode": "markers",
           "name": "",
           "orientation": "v",
           "showlegend": false,
           "type": "scatter",
           "x": [
            69.70963,
            31.05926,
            51.30305,
            28.359,
            33.2164,
            28.69746,
            52.28303,
            70.03448,
            33.95726,
            38.27865,
            35.16894
           ],
           "xaxis": "x",
           "y": [
            19.15471,
            18.56271,
            24.53289,
            25.08438,
            24.31127,
            34.26118,
            30.23687,
            18.47823,
            33.70552,
            22.64167,
            24.07515
           ],
           "yaxis": "y"
          }
         ],
         "name": "91"
        },
        {
         "data": [
          {
           "hovertemplate": "MOMENT_NUM=92<br>LOC_X=%{x}<br>LOC_Y=%{y}<br>LOC_Z=%{marker.size}<br>TEAM_ID=%{marker.color}<extra></extra>",
           "ids": [
            -1,
            2594,
            200794,
            201143,
            201952,
            203145,
            101141,
            202704,
            202694,
            203484,
            203083
           ],
           "legendgroup": "",
           "marker": {
            "color": [
             -1,
             1610612737,
             1610612737,
             1610612737,
             1610612737,
             1610612737,
             1610612765,
             1610612765,
             1610612765,
             1610612765,
             1610612765
            ],
            "coloraxis": "coloraxis",
            "size": [
             4.09415,
             1,
             1,
             1,
             1,
             1,
             1,
             1,
             1,
             1,
             1
            ],
            "sizemode": "area",
            "sizeref": 0.029588299999999998,
            "symbol": "circle"
           },
           "mode": "markers",
           "name": "",
           "orientation": "v",
           "showlegend": false,
           "type": "scatter",
           "x": [
            69.36036,
            30.75257,
            50.92064,
            28.0106,
            33.29399,
            28.36245,
            52.01502,
            69.68422,
            33.51484,
            37.96834,
            35.04075
           ],
           "xaxis": "x",
           "y": [
            19.29973,
            18.79928,
            24.467,
            24.93133,
            24.37673,
            34.15885,
            30.17935,
            18.5058,
            33.41853,
            23.06984,
            24.23392
           ],
           "yaxis": "y"
          }
         ],
         "name": "92"
        },
        {
         "data": [
          {
           "hovertemplate": "MOMENT_NUM=93<br>LOC_X=%{x}<br>LOC_Y=%{y}<br>LOC_Z=%{marker.size}<br>TEAM_ID=%{marker.color}<extra></extra>",
           "ids": [
            -1,
            2594,
            200794,
            201143,
            201952,
            203145,
            101141,
            202704,
            202694,
            203484,
            203083
           ],
           "legendgroup": "",
           "marker": {
            "color": [
             -1,
             1610612737,
             1610612737,
             1610612737,
             1610612737,
             1610612737,
             1610612765,
             1610612765,
             1610612765,
             1610612765,
             1610612765
            ],
            "coloraxis": "coloraxis",
            "size": [
             4.02835,
             1,
             1,
             1,
             1,
             1,
             1,
             1,
             1,
             1,
             1
            ],
            "sizemode": "area",
            "sizeref": 0.029588299999999998,
            "symbol": "circle"
           },
           "mode": "markers",
           "name": "",
           "orientation": "v",
           "showlegend": false,
           "type": "scatter",
           "x": [
            68.88334,
            30.46802,
            50.53243,
            27.65869,
            33.35955,
            28.03246,
            51.73885,
            69.31176,
            33.08771,
            37.66227,
            34.91538
           ],
           "xaxis": "x",
           "y": [
            19.40994,
            19.02858,
            24.39689,
            24.76653,
            24.44978,
            34.04436,
            30.11981,
            18.54263,
            33.13973,
            23.50596,
            24.38987
           ],
           "yaxis": "y"
          }
         ],
         "name": "93"
        },
        {
         "data": [
          {
           "hovertemplate": "MOMENT_NUM=94<br>LOC_X=%{x}<br>LOC_Y=%{y}<br>LOC_Z=%{marker.size}<br>TEAM_ID=%{marker.color}<extra></extra>",
           "ids": [
            -1,
            2594,
            200794,
            201143,
            201952,
            203145,
            101141,
            202704,
            202694,
            203484,
            203083
           ],
           "legendgroup": "",
           "marker": {
            "color": [
             -1,
             1610612737,
             1610612737,
             1610612737,
             1610612737,
             1610612737,
             1610612765,
             1610612765,
             1610612765,
             1610612765,
             1610612765
            ],
            "coloraxis": "coloraxis",
            "size": [
             3.845,
             1,
             1,
             1,
             1,
             1,
             1,
             1,
             1,
             1,
             1
            ],
            "sizemode": "area",
            "sizeref": 0.029588299999999998,
            "symbol": "circle"
           },
           "mode": "markers",
           "name": "",
           "orientation": "v",
           "showlegend": false,
           "type": "scatter",
           "x": [
            68.34631,
            30.15073,
            50.1444,
            27.30034,
            33.41422,
            27.70604,
            51.44818,
            68.92022,
            32.65588,
            37.3545,
            34.76768
           ],
           "xaxis": "x",
           "y": [
            19.58048,
            19.30932,
            24.33386,
            24.62399,
            24.50771,
            33.92152,
            30.05783,
            18.58493,
            32.85297,
            23.9401,
            24.48766
           ],
           "yaxis": "y"
          }
         ],
         "name": "94"
        },
        {
         "data": [
          {
           "hovertemplate": "MOMENT_NUM=95<br>LOC_X=%{x}<br>LOC_Y=%{y}<br>LOC_Z=%{marker.size}<br>TEAM_ID=%{marker.color}<extra></extra>",
           "ids": [
            -1,
            2594,
            200794,
            201143,
            201952,
            203145,
            101141,
            202704,
            202694,
            203484,
            203083
           ],
           "legendgroup": "",
           "marker": {
            "color": [
             -1,
             1610612737,
             1610612737,
             1610612737,
             1610612737,
             1610612737,
             1610612765,
             1610612765,
             1610612765,
             1610612765,
             1610612765
            ],
            "coloraxis": "coloraxis",
            "size": [
             3.46679,
             1,
             1,
             1,
             1,
             1,
             1,
             1,
             1,
             1,
             1
            ],
            "sizemode": "area",
            "sizeref": 0.029588299999999998,
            "symbol": "circle"
           },
           "mode": "markers",
           "name": "",
           "orientation": "v",
           "showlegend": false,
           "type": "scatter",
           "x": [
            67.90577,
            29.87794,
            49.75646,
            26.92148,
            33.44427,
            27.39276,
            51.14215,
            68.52088,
            32.22864,
            37.04289,
            34.60695
           ],
           "xaxis": "x",
           "y": [
            19.68306,
            19.61586,
            24.28379,
            24.52531,
            24.56432,
            33.80006,
            29.99623,
            18.63363,
            32.55196,
            24.36959,
            24.57928
           ],
           "yaxis": "y"
          }
         ],
         "name": "95"
        },
        {
         "data": [
          {
           "hovertemplate": "MOMENT_NUM=96<br>LOC_X=%{x}<br>LOC_Y=%{y}<br>LOC_Z=%{marker.size}<br>TEAM_ID=%{marker.color}<extra></extra>",
           "ids": [
            -1,
            2594,
            200794,
            201143,
            201952,
            203145,
            101141,
            202704,
            202694,
            203484,
            203083
           ],
           "legendgroup": "",
           "marker": {
            "color": [
             -1,
             1610612737,
             1610612737,
             1610612737,
             1610612737,
             1610612737,
             1610612765,
             1610612765,
             1610612765,
             1610612765,
             1610612765
            ],
            "coloraxis": "coloraxis",
            "size": [
             2.87663,
             1,
             1,
             1,
             1,
             1,
             1,
             1,
             1,
             1,
             1
            ],
            "sizemode": "area",
            "sizeref": 0.029588299999999998,
            "symbol": "circle"
           },
           "mode": "markers",
           "name": "",
           "orientation": "v",
           "showlegend": false,
           "type": "scatter",
           "x": [
            67.40044,
            29.66525,
            49.36693,
            26.56552,
            33.50027,
            27.07352,
            50.82545,
            68.11772,
            31.80201,
            36.7398,
            34.48644
           ],
           "xaxis": "x",
           "y": [
            19.81365,
            19.96212,
            24.2247,
            24.46817,
            24.69048,
            33.66522,
            29.93248,
            18.68464,
            32.2427,
            24.81132,
            24.72712
           ],
           "yaxis": "y"
          }
         ],
         "name": "96"
        },
        {
         "data": [
          {
           "hovertemplate": "MOMENT_NUM=97<br>LOC_X=%{x}<br>LOC_Y=%{y}<br>LOC_Z=%{marker.size}<br>TEAM_ID=%{marker.color}<extra></extra>",
           "ids": [
            -1,
            2594,
            200794,
            201143,
            201952,
            203145,
            101141,
            202704,
            202694,
            203484,
            203083
           ],
           "legendgroup": "",
           "marker": {
            "color": [
             -1,
             1610612737,
             1610612737,
             1610612737,
             1610612737,
             1610612737,
             1610612765,
             1610612765,
             1610612765,
             1610612765,
             1610612765
            ],
            "coloraxis": "coloraxis",
            "size": [
             2.06416,
             1,
             1,
             1,
             1,
             1,
             1,
             1,
             1,
             1,
             1
            ],
            "sizemode": "area",
            "sizeref": 0.029588299999999998,
            "symbol": "circle"
           },
           "mode": "markers",
           "name": "",
           "orientation": "v",
           "showlegend": false,
           "type": "scatter",
           "x": [
            66.95719,
            29.43427,
            48.97848,
            26.18797,
            33.51425,
            26.76367,
            50.49751,
            67.72183,
            31.38871,
            36.41998,
            34.33474
           ],
           "xaxis": "x",
           "y": [
            19.98401,
            20.30733,
            24.17419,
            24.36328,
            24.78557,
            33.51641,
            29.8692,
            18.74959,
            31.9383,
            25.22327,
            24.82968
           ],
           "yaxis": "y"
          }
         ],
         "name": "97"
        },
        {
         "data": [
          {
           "hovertemplate": "MOMENT_NUM=98<br>LOC_X=%{x}<br>LOC_Y=%{y}<br>LOC_Z=%{marker.size}<br>TEAM_ID=%{marker.color}<extra></extra>",
           "ids": [
            -1,
            2594,
            200794,
            201143,
            201952,
            203145,
            101141,
            202704,
            202694,
            203484,
            203083
           ],
           "legendgroup": "",
           "marker": {
            "color": [
             -1,
             1610612737,
             1610612737,
             1610612737,
             1610612737,
             1610612737,
             1610612765,
             1610612765,
             1610612765,
             1610612765,
             1610612765
            ],
            "coloraxis": "coloraxis",
            "size": [
             1.29344,
             1,
             1,
             1,
             1,
             1,
             1,
             1,
             1,
             1,
             1
            ],
            "sizemode": "area",
            "sizeref": 0.029588299999999998,
            "symbol": "circle"
           },
           "mode": "markers",
           "name": "",
           "orientation": "v",
           "showlegend": false,
           "type": "scatter",
           "x": [
            66.64147,
            29.26401,
            48.58555,
            25.83298,
            33.50931,
            26.44566,
            50.15799,
            67.32498,
            30.9668,
            36.09849,
            34.17185
           ],
           "xaxis": "x",
           "y": [
            20.14401,
            20.70275,
            24.12835,
            24.32339,
            24.86504,
            33.35235,
            29.8104,
            18.81737,
            31.62303,
            25.6297,
            24.92098
           ],
           "yaxis": "y"
          }
         ],
         "name": "98"
        },
        {
         "data": [
          {
           "hovertemplate": "MOMENT_NUM=99<br>LOC_X=%{x}<br>LOC_Y=%{y}<br>LOC_Z=%{marker.size}<br>TEAM_ID=%{marker.color}<extra></extra>",
           "ids": [
            -1,
            2594,
            200794,
            201143,
            201952,
            203145,
            101141,
            202704,
            202694,
            203484,
            203083
           ],
           "legendgroup": "",
           "marker": {
            "color": [
             -1,
             1610612737,
             1610612737,
             1610612737,
             1610612737,
             1610612737,
             1610612765,
             1610612765,
             1610612765,
             1610612765,
             1610612765
            ],
            "coloraxis": "coloraxis",
            "size": [
             1.71384,
             1,
             1,
             1,
             1,
             1,
             1,
             1,
             1,
             1,
             1
            ],
            "sizemode": "area",
            "sizeref": 0.029588299999999998,
            "symbol": "circle"
           },
           "mode": "markers",
           "name": "",
           "orientation": "v",
           "showlegend": false,
           "type": "scatter",
           "x": [
            66.48241,
            29.0351,
            48.17995,
            25.49091,
            33.50512,
            26.12209,
            49.8016,
            66.92291,
            30.56544,
            35.76621,
            34.02511
           ],
           "xaxis": "x",
           "y": [
            20.17188,
            21.02228,
            24.08027,
            24.28865,
            24.99291,
            33.16278,
            29.75607,
            18.89161,
            31.33446,
            26.04216,
            25.04733
           ],
           "yaxis": "y"
          }
         ],
         "name": "99"
        },
        {
         "data": [
          {
           "hovertemplate": "MOMENT_NUM=100<br>LOC_X=%{x}<br>LOC_Y=%{y}<br>LOC_Z=%{marker.size}<br>TEAM_ID=%{marker.color}<extra></extra>",
           "ids": [
            -1,
            2594,
            200794,
            201143,
            201952,
            203145,
            101141,
            202704,
            202694,
            203484,
            203083
           ],
           "legendgroup": "",
           "marker": {
            "color": [
             -1,
             1610612737,
             1610612737,
             1610612737,
             1610612737,
             1610612737,
             1610612765,
             1610612765,
             1610612765,
             1610612765,
             1610612765
            ],
            "coloraxis": "coloraxis",
            "size": [
             2.45606,
             1,
             1,
             1,
             1,
             1,
             1,
             1,
             1,
             1,
             1
            ],
            "sizemode": "area",
            "sizeref": 0.029588299999999998,
            "symbol": "circle"
           },
           "mode": "markers",
           "name": "",
           "orientation": "v",
           "showlegend": false,
           "type": "scatter",
           "x": [
            66.27602,
            28.79565,
            47.77631,
            25.17331,
            33.47277,
            25.80729,
            49.43772,
            66.52401,
            30.14948,
            35.45127,
            33.85173
           ],
           "xaxis": "x",
           "y": [
            20.28725,
            21.32316,
            24.05538,
            24.32893,
            25.09799,
            32.97604,
            29.69664,
            18.96758,
            31.02826,
            26.50607,
            25.15806
           ],
           "yaxis": "y"
          }
         ],
         "name": "100"
        },
        {
         "data": [
          {
           "hovertemplate": "MOMENT_NUM=101<br>LOC_X=%{x}<br>LOC_Y=%{y}<br>LOC_Z=%{marker.size}<br>TEAM_ID=%{marker.color}<extra></extra>",
           "ids": [
            -1,
            2594,
            200794,
            201143,
            201952,
            203145,
            101141,
            202704,
            202694,
            203484,
            203083
           ],
           "legendgroup": "",
           "marker": {
            "color": [
             -1,
             1610612737,
             1610612737,
             1610612737,
             1610612737,
             1610612737,
             1610612765,
             1610612765,
             1610612765,
             1610612765,
             1610612765
            ],
            "coloraxis": "coloraxis",
            "size": [
             2.94592,
             1,
             1,
             1,
             1,
             1,
             1,
             1,
             1,
             1,
             1
            ],
            "sizemode": "area",
            "sizeref": 0.029588299999999998,
            "symbol": "circle"
           },
           "mode": "markers",
           "name": "",
           "orientation": "v",
           "showlegend": false,
           "type": "scatter",
           "x": [
            66.19088,
            28.5862,
            47.37216,
            24.87104,
            33.45193,
            25.51108,
            49.06854,
            66.11508,
            29.75039,
            35.09886,
            33.69503
           ],
           "xaxis": "x",
           "y": [
            20.37273,
            21.64312,
            24.03445,
            24.38831,
            25.15548,
            32.80861,
            29.63809,
            19.05359,
            30.73939,
            26.92302,
            25.29581
           ],
           "yaxis": "y"
          }
         ],
         "name": "101"
        },
        {
         "data": [
          {
           "hovertemplate": "MOMENT_NUM=102<br>LOC_X=%{x}<br>LOC_Y=%{y}<br>LOC_Z=%{marker.size}<br>TEAM_ID=%{marker.color}<extra></extra>",
           "ids": [
            -1,
            2594,
            200794,
            201143,
            201952,
            203145,
            101141,
            202704,
            202694,
            203484,
            203083
           ],
           "legendgroup": "",
           "marker": {
            "color": [
             -1,
             1610612737,
             1610612737,
             1610612737,
             1610612737,
             1610612737,
             1610612765,
             1610612765,
             1610612765,
             1610612765,
             1610612765
            ],
            "coloraxis": "coloraxis",
            "size": [
             3.29823,
             1,
             1,
             1,
             1,
             1,
             1,
             1,
             1,
             1,
             1
            ],
            "sizemode": "area",
            "sizeref": 0.029588299999999998,
            "symbol": "circle"
           },
           "mode": "markers",
           "name": "",
           "orientation": "v",
           "showlegend": false,
           "type": "scatter",
           "x": [
            66.01261,
            28.43447,
            46.95033,
            24.56331,
            33.40307,
            25.18495,
            48.68985,
            65.69977,
            29.32868,
            34.72768,
            33.50527
           ],
           "xaxis": "x",
           "y": [
            20.43085,
            22.00489,
            24.04033,
            24.41702,
            25.11709,
            32.62304,
            29.58211,
            19.15132,
            30.40703,
            27.32228,
            25.43572
           ],
           "yaxis": "y"
          }
         ],
         "name": "102"
        },
        {
         "data": [
          {
           "hovertemplate": "MOMENT_NUM=103<br>LOC_X=%{x}<br>LOC_Y=%{y}<br>LOC_Z=%{marker.size}<br>TEAM_ID=%{marker.color}<extra></extra>",
           "ids": [
            -1,
            2594,
            200794,
            201143,
            201952,
            203145,
            101141,
            202704,
            202694,
            203484,
            203083
           ],
           "legendgroup": "",
           "marker": {
            "color": [
             -1,
             1610612737,
             1610612737,
             1610612737,
             1610612737,
             1610612737,
             1610612765,
             1610612765,
             1610612765,
             1610612765,
             1610612765
            ],
            "coloraxis": "coloraxis",
            "size": [
             3.66002,
             1,
             1,
             1,
             1,
             1,
             1,
             1,
             1,
             1,
             1
            ],
            "sizemode": "area",
            "sizeref": 0.029588299999999998,
            "symbol": "circle"
           },
           "mode": "markers",
           "name": "",
           "orientation": "v",
           "showlegend": false,
           "type": "scatter",
           "x": [
            65.69083,
            28.29376,
            46.54675,
            24.29185,
            33.34369,
            24.86938,
            48.29977,
            65.28051,
            28.97311,
            34.31801,
            33.33357
           ],
           "xaxis": "x",
           "y": [
            20.47676,
            22.36607,
            24.00085,
            24.5029,
            25.0202,
            32.38676,
            29.53183,
            19.26021,
            30.12944,
            27.67583,
            25.51744
           ],
           "yaxis": "y"
          }
         ],
         "name": "103"
        },
        {
         "data": [
          {
           "hovertemplate": "MOMENT_NUM=104<br>LOC_X=%{x}<br>LOC_Y=%{y}<br>LOC_Z=%{marker.size}<br>TEAM_ID=%{marker.color}<extra></extra>",
           "ids": [
            -1,
            2594,
            200794,
            201143,
            201952,
            203145,
            101141,
            202704,
            202694,
            203484,
            203083
           ],
           "legendgroup": "",
           "marker": {
            "color": [
             -1,
             1610612737,
             1610612737,
             1610612737,
             1610612737,
             1610612737,
             1610612765,
             1610612765,
             1610612765,
             1610612765,
             1610612765
            ],
            "coloraxis": "coloraxis",
            "size": [
             3.93251,
             1,
             1,
             1,
             1,
             1,
             1,
             1,
             1,
             1,
             1
            ],
            "sizemode": "area",
            "sizeref": 0.029588299999999998,
            "symbol": "circle"
           },
           "mode": "markers",
           "name": "",
           "orientation": "v",
           "showlegend": false,
           "type": "scatter",
           "x": [
            65.25718,
            28.14202,
            46.13705,
            24.04183,
            33.20565,
            24.56857,
            47.90375,
            64.85283,
            28.57259,
            33.94879,
            33.19776
           ],
           "xaxis": "x",
           "y": [
            20.64363,
            22.68853,
            23.97324,
            24.63454,
            24.91509,
            32.15345,
            29.477,
            19.38583,
            29.81748,
            28.06062,
            25.60114
           ],
           "yaxis": "y"
          }
         ],
         "name": "104"
        },
        {
         "data": [
          {
           "hovertemplate": "MOMENT_NUM=105<br>LOC_X=%{x}<br>LOC_Y=%{y}<br>LOC_Z=%{marker.size}<br>TEAM_ID=%{marker.color}<extra></extra>",
           "ids": [
            -1,
            2594,
            200794,
            201143,
            201952,
            203145,
            101141,
            202704,
            202694,
            203484,
            203083
           ],
           "legendgroup": "",
           "marker": {
            "color": [
             -1,
             1610612737,
             1610612737,
             1610612737,
             1610612737,
             1610612737,
             1610612765,
             1610612765,
             1610612765,
             1610612765,
             1610612765
            ],
            "coloraxis": "coloraxis",
            "size": [
             4.19247,
             1,
             1,
             1,
             1,
             1,
             1,
             1,
             1,
             1,
             1
            ],
            "sizemode": "area",
            "sizeref": 0.029588299999999998,
            "symbol": "circle"
           },
           "mode": "markers",
           "name": "",
           "orientation": "v",
           "showlegend": false,
           "type": "scatter",
           "x": [
            64.83039,
            28.00018,
            45.71838,
            23.81431,
            33.05493,
            24.27295,
            47.49301,
            64.41445,
            28.16088,
            33.58042,
            33.05826
           ],
           "xaxis": "x",
           "y": [
            20.70067,
            23.07225,
            23.95395,
            24.77727,
            24.80145,
            31.92254,
            29.42208,
            19.51801,
            29.4647,
            28.46762,
            25.66761
           ],
           "yaxis": "y"
          }
         ],
         "name": "105"
        },
        {
         "data": [
          {
           "hovertemplate": "MOMENT_NUM=106<br>LOC_X=%{x}<br>LOC_Y=%{y}<br>LOC_Z=%{marker.size}<br>TEAM_ID=%{marker.color}<extra></extra>",
           "ids": [
            -1,
            2594,
            200794,
            201143,
            201952,
            203145,
            101141,
            202704,
            202694,
            203484,
            203083
           ],
           "legendgroup": "",
           "marker": {
            "color": [
             -1,
             1610612737,
             1610612737,
             1610612737,
             1610612737,
             1610612737,
             1610612765,
             1610612765,
             1610612765,
             1610612765,
             1610612765
            ],
            "coloraxis": "coloraxis",
            "size": [
             4.35164,
             1,
             1,
             1,
             1,
             1,
             1,
             1,
             1,
             1,
             1
            ],
            "sizemode": "area",
            "sizeref": 0.029588299999999998,
            "symbol": "circle"
           },
           "mode": "markers",
           "name": "",
           "orientation": "v",
           "showlegend": false,
           "type": "scatter",
           "x": [
            64.38965,
            27.86977,
            45.29411,
            23.57843,
            32.83538,
            23.9662,
            47.07667,
            63.97463,
            27.73189,
            33.19425,
            32.84215
           ],
           "xaxis": "x",
           "y": [
            20.82601,
            23.48544,
            23.95513,
            24.93895,
            24.70535,
            31.69828,
            29.36473,
            19.65534,
            29.14665,
            28.83036,
            25.74504
           ],
           "yaxis": "y"
          }
         ],
         "name": "106"
        },
        {
         "data": [
          {
           "hovertemplate": "MOMENT_NUM=107<br>LOC_X=%{x}<br>LOC_Y=%{y}<br>LOC_Z=%{marker.size}<br>TEAM_ID=%{marker.color}<extra></extra>",
           "ids": [
            -1,
            2594,
            200794,
            201143,
            201952,
            203145,
            101141,
            202704,
            202694,
            203484,
            203083
           ],
           "legendgroup": "",
           "marker": {
            "color": [
             -1,
             1610612737,
             1610612737,
             1610612737,
             1610612737,
             1610612737,
             1610612765,
             1610612765,
             1610612765,
             1610612765,
             1610612765
            ],
            "coloraxis": "coloraxis",
            "size": [
             4.68175,
             1,
             1,
             1,
             1,
             1,
             1,
             1,
             1,
             1,
             1
            ],
            "sizemode": "area",
            "sizeref": 0.029588299999999998,
            "symbol": "circle"
           },
           "mode": "markers",
           "name": "",
           "orientation": "v",
           "showlegend": false,
           "type": "scatter",
           "x": [
            64.01697,
            27.71358,
            44.87149,
            23.43859,
            32.66636,
            23.68155,
            46.65766,
            63.52547,
            27.32592,
            32.81172,
            32.68055
           ],
           "xaxis": "x",
           "y": [
            21.06072,
            23.84881,
            23.95834,
            25.07047,
            24.60717,
            31.46146,
            29.30282,
            19.79159,
            28.84703,
            29.22117,
            25.81914
           ],
           "yaxis": "y"
          }
         ],
         "name": "107"
        },
        {
         "data": [
          {
           "hovertemplate": "MOMENT_NUM=108<br>LOC_X=%{x}<br>LOC_Y=%{y}<br>LOC_Z=%{marker.size}<br>TEAM_ID=%{marker.color}<extra></extra>",
           "ids": [
            -1,
            2594,
            200794,
            201143,
            201952,
            203145,
            101141,
            202704,
            202694,
            203484,
            203083
           ],
           "legendgroup": "",
           "marker": {
            "color": [
             -1,
             1610612737,
             1610612737,
             1610612737,
             1610612737,
             1610612737,
             1610612765,
             1610612765,
             1610612765,
             1610612765,
             1610612765
            ],
            "coloraxis": "coloraxis",
            "size": [
             4.657360000000001,
             1,
             1,
             1,
             1,
             1,
             1,
             1,
             1,
             1,
             1
            ],
            "sizemode": "area",
            "sizeref": 0.029588299999999998,
            "symbol": "circle"
           },
           "mode": "markers",
           "name": "",
           "orientation": "v",
           "showlegend": false,
           "type": "scatter",
           "x": [
            63.38681,
            27.57795,
            44.44643,
            23.37057,
            32.51186,
            23.38553,
            46.23726,
            63.08006,
            26.91647,
            32.42045,
            32.52197
           ],
           "xaxis": "x",
           "y": [
            20.97919,
            24.26045,
            23.97225,
            25.24176,
            24.49458,
            31.22595,
            29.24262,
            19.92147,
            28.52649,
            29.6136,
            25.91887
           ],
           "yaxis": "y"
          }
         ],
         "name": "108"
        },
        {
         "data": [
          {
           "hovertemplate": "MOMENT_NUM=109<br>LOC_X=%{x}<br>LOC_Y=%{y}<br>LOC_Z=%{marker.size}<br>TEAM_ID=%{marker.color}<extra></extra>",
           "ids": [
            -1,
            2594,
            200794,
            201143,
            201952,
            203145,
            101141,
            202704,
            202694,
            203484,
            203083
           ],
           "legendgroup": "",
           "marker": {
            "color": [
             -1,
             1610612737,
             1610612737,
             1610612737,
             1610612737,
             1610612737,
             1610612765,
             1610612765,
             1610612765,
             1610612765,
             1610612765
            ],
            "coloraxis": "coloraxis",
            "size": [
             4.64419,
             1,
             1,
             1,
             1,
             1,
             1,
             1,
             1,
             1,
             1
            ],
            "sizemode": "area",
            "sizeref": 0.029588299999999998,
            "symbol": "circle"
           },
           "mode": "markers",
           "name": "",
           "orientation": "v",
           "showlegend": false,
           "type": "scatter",
           "x": [
            62.95803,
            27.48205,
            44.0191,
            23.25669,
            32.35822,
            23.09086,
            45.80686,
            62.63495,
            26.5069,
            32.02613,
            32.36468
           ],
           "xaxis": "x",
           "y": [
            21.19373,
            24.64666,
            23.98088,
            25.42246,
            24.3907,
            30.9797,
            29.18654,
            20.04954,
            28.15081,
            30.0087,
            25.99844
           ],
           "yaxis": "y"
          }
         ],
         "name": "109"
        },
        {
         "data": [
          {
           "hovertemplate": "MOMENT_NUM=110<br>LOC_X=%{x}<br>LOC_Y=%{y}<br>LOC_Z=%{marker.size}<br>TEAM_ID=%{marker.color}<extra></extra>",
           "ids": [
            -1,
            2594,
            200794,
            201143,
            201952,
            203145,
            101141,
            202704,
            202694,
            203484,
            203083
           ],
           "legendgroup": "",
           "marker": {
            "color": [
             -1,
             1610612737,
             1610612737,
             1610612737,
             1610612737,
             1610612737,
             1610612765,
             1610612765,
             1610612765,
             1610612765,
             1610612765
            ],
            "coloraxis": "coloraxis",
            "size": [
             4.83736,
             1,
             1,
             1,
             1,
             1,
             1,
             1,
             1,
             1,
             1
            ],
            "sizemode": "area",
            "sizeref": 0.029588299999999998,
            "symbol": "circle"
           },
           "mode": "markers",
           "name": "",
           "orientation": "v",
           "showlegend": false,
           "type": "scatter",
           "x": [
            62.31395,
            27.34821,
            43.58809,
            23.10452,
            32.22828,
            22.76429,
            45.36982,
            62.18662,
            26.08716,
            31.6309,
            32.22239
           ],
           "xaxis": "x",
           "y": [
            21.30316,
            25.06604,
            23.98487,
            25.56699,
            24.28526,
            30.7175,
            29.1256,
            20.17586,
            27.72574,
            30.4036,
            26.08367
           ],
           "yaxis": "y"
          }
         ],
         "name": "110"
        },
        {
         "data": [
          {
           "hovertemplate": "MOMENT_NUM=111<br>LOC_X=%{x}<br>LOC_Y=%{y}<br>LOC_Z=%{marker.size}<br>TEAM_ID=%{marker.color}<extra></extra>",
           "ids": [
            -1,
            2594,
            200794,
            201143,
            201952,
            203145,
            101141,
            202704,
            202694,
            203484,
            203083
           ],
           "legendgroup": "",
           "marker": {
            "color": [
             -1,
             1610612737,
             1610612737,
             1610612737,
             1610612737,
             1610612737,
             1610612765,
             1610612765,
             1610612765,
             1610612765,
             1610612765
            ],
            "coloraxis": "coloraxis",
            "size": [
             4.91689,
             1,
             1,
             1,
             1,
             1,
             1,
             1,
             1,
             1,
             1
            ],
            "sizemode": "area",
            "sizeref": 0.029588299999999998,
            "symbol": "circle"
           },
           "mode": "markers",
           "name": "",
           "orientation": "v",
           "showlegend": false,
           "type": "scatter",
           "x": [
            61.63653,
            27.17051,
            43.15793,
            22.92177,
            32.07176,
            22.44275,
            44.92593,
            61.73797,
            25.68103,
            31.22252,
            32.04075
           ],
           "xaxis": "x",
           "y": [
            21.4863,
            25.4558,
            23.98831,
            25.68779,
            24.11774,
            30.46069,
            29.06517,
            20.30606,
            27.32674,
            30.7874,
            26.10715
           ],
           "yaxis": "y"
          }
         ],
         "name": "111"
        },
        {
         "data": [
          {
           "hovertemplate": "MOMENT_NUM=112<br>LOC_X=%{x}<br>LOC_Y=%{y}<br>LOC_Z=%{marker.size}<br>TEAM_ID=%{marker.color}<extra></extra>",
           "ids": [
            -1,
            2594,
            200794,
            201143,
            201952,
            203145,
            101141,
            202704,
            202694,
            203484,
            203083
           ],
           "legendgroup": "",
           "marker": {
            "color": [
             -1,
             1610612737,
             1610612737,
             1610612737,
             1610612737,
             1610612737,
             1610612765,
             1610612765,
             1610612765,
             1610612765,
             1610612765
            ],
            "coloraxis": "coloraxis",
            "size": [
             4.9366,
             1,
             1,
             1,
             1,
             1,
             1,
             1,
             1,
             1,
             1
            ],
            "sizemode": "area",
            "sizeref": 0.029588299999999998,
            "symbol": "circle"
           },
           "mode": "markers",
           "name": "",
           "orientation": "v",
           "showlegend": false,
           "type": "scatter",
           "x": [
            60.97304,
            27.04091,
            42.72633,
            22.71881,
            31.97843,
            22.11697,
            44.47267,
            61.28619,
            25.29208,
            30.82004,
            31.89507
           ],
           "xaxis": "x",
           "y": [
            21.61205,
            25.81933,
            23.98896,
            25.87308,
            23.98362,
            30.21276,
            29.00706,
            20.43791,
            26.93933,
            31.19578,
            26.19946
           ],
           "yaxis": "y"
          }
         ],
         "name": "112"
        },
        {
         "data": [
          {
           "hovertemplate": "MOMENT_NUM=113<br>LOC_X=%{x}<br>LOC_Y=%{y}<br>LOC_Z=%{marker.size}<br>TEAM_ID=%{marker.color}<extra></extra>",
           "ids": [
            -1,
            2594,
            200794,
            201143,
            201952,
            203145,
            101141,
            202704,
            202694,
            203484,
            203083
           ],
           "legendgroup": "",
           "marker": {
            "color": [
             -1,
             1610612737,
             1610612737,
             1610612737,
             1610612737,
             1610612737,
             1610612765,
             1610612765,
             1610612765,
             1610612765,
             1610612765
            ],
            "coloraxis": "coloraxis",
            "size": [
             4.84173,
             1,
             1,
             1,
             1,
             1,
             1,
             1,
             1,
             1,
             1
            ],
            "sizemode": "area",
            "sizeref": 0.029588299999999998,
            "symbol": "circle"
           },
           "mode": "markers",
           "name": "",
           "orientation": "v",
           "showlegend": false,
           "type": "scatter",
           "x": [
            60.24795,
            26.83816,
            42.29495,
            22.51467,
            31.89632,
            21.7905,
            44.01381,
            60.82379,
            24.91441,
            30.41015,
            31.74129
           ],
           "xaxis": "x",
           "y": [
            21.79511,
            26.18258,
            23.98834,
            25.9871,
            23.84032,
            29.96814,
            28.94749,
            20.56646,
            26.56499,
            31.56256,
            26.26232
           ],
           "yaxis": "y"
          }
         ],
         "name": "113"
        },
        {
         "data": [
          {
           "hovertemplate": "MOMENT_NUM=114<br>LOC_X=%{x}<br>LOC_Y=%{y}<br>LOC_Z=%{marker.size}<br>TEAM_ID=%{marker.color}<extra></extra>",
           "ids": [
            -1,
            2594,
            200794,
            201143,
            201952,
            203145,
            101141,
            202704,
            202694,
            203484,
            203083
           ],
           "legendgroup": "",
           "marker": {
            "color": [
             -1,
             1610612737,
             1610612737,
             1610612737,
             1610612737,
             1610612737,
             1610612765,
             1610612765,
             1610612765,
             1610612765,
             1610612765
            ],
            "coloraxis": "coloraxis",
            "size": [
             4.4758,
             1,
             1,
             1,
             1,
             1,
             1,
             1,
             1,
             1,
             1
            ],
            "sizemode": "area",
            "sizeref": 0.029588299999999998,
            "symbol": "circle"
           },
           "mode": "markers",
           "name": "",
           "orientation": "v",
           "showlegend": false,
           "type": "scatter",
           "x": [
            59.48083,
            26.67942,
            41.85627,
            22.35203,
            31.81688,
            21.47868,
            43.55471,
            60.36299,
            24.50243,
            29.99782,
            31.5995
           ],
           "xaxis": "x",
           "y": [
            21.87226,
            26.58239,
            23.98716,
            26.10338,
            23.65029,
            29.70967,
            28.88901,
            20.6858,
            26.16512,
            31.94695,
            26.33293
           ],
           "yaxis": "y"
          }
         ],
         "name": "114"
        },
        {
         "data": [
          {
           "hovertemplate": "MOMENT_NUM=115<br>LOC_X=%{x}<br>LOC_Y=%{y}<br>LOC_Z=%{marker.size}<br>TEAM_ID=%{marker.color}<extra></extra>",
           "ids": [
            -1,
            2594,
            200794,
            201143,
            201952,
            203145,
            101141,
            202704,
            202694,
            203484,
            203083
           ],
           "legendgroup": "",
           "marker": {
            "color": [
             -1,
             1610612737,
             1610612737,
             1610612737,
             1610612737,
             1610612737,
             1610612765,
             1610612765,
             1610612765,
             1610612765,
             1610612765
            ],
            "coloraxis": "coloraxis",
            "size": [
             3.88512,
             1,
             1,
             1,
             1,
             1,
             1,
             1,
             1,
             1,
             1
            ],
            "sizemode": "area",
            "sizeref": 0.029588299999999998,
            "symbol": "circle"
           },
           "mode": "markers",
           "name": "",
           "orientation": "v",
           "showlegend": false,
           "type": "scatter",
           "x": [
            58.68303,
            26.53921,
            41.43022,
            22.25832,
            31.75426,
            21.21569,
            43.09606,
            59.90007,
            24.11706,
            29.58094,
            31.46071
           ],
           "xaxis": "x",
           "y": [
            21.9889,
            27.01689,
            23.99537,
            26.2056,
            23.46486,
            29.42801,
            28.83558,
            20.79876,
            25.78337,
            32.35448,
            26.40501
           ],
           "yaxis": "y"
          }
         ],
         "name": "115"
        },
        {
         "data": [
          {
           "hovertemplate": "MOMENT_NUM=116<br>LOC_X=%{x}<br>LOC_Y=%{y}<br>LOC_Z=%{marker.size}<br>TEAM_ID=%{marker.color}<extra></extra>",
           "ids": [
            -1,
            2594,
            200794,
            201143,
            201952,
            203145,
            101141,
            202704,
            202694,
            203484,
            203083
           ],
           "legendgroup": "",
           "marker": {
            "color": [
             -1,
             1610612737,
             1610612737,
             1610612737,
             1610612737,
             1610612737,
             1610612765,
             1610612765,
             1610612765,
             1610612765,
             1610612765
            ],
            "coloraxis": "coloraxis",
            "size": [
             3.28562,
             1,
             1,
             1,
             1,
             1,
             1,
             1,
             1,
             1,
             1
            ],
            "sizemode": "area",
            "sizeref": 0.029588299999999998,
            "symbol": "circle"
           },
           "mode": "markers",
           "name": "",
           "orientation": "v",
           "showlegend": false,
           "type": "scatter",
           "x": [
            57.96745,
            26.39369,
            40.9637,
            22.1017,
            31.7017,
            20.87668,
            42.62292,
            59.44513,
            23.72032,
            29.15837,
            31.32519
           ],
           "xaxis": "x",
           "y": [
            21.96059,
            27.45953,
            23.94596,
            26.26088,
            23.36922,
            29.12125,
            28.78474,
            20.90803,
            25.38238,
            32.74752,
            26.41839
           ],
           "yaxis": "y"
          }
         ],
         "name": "116"
        },
        {
         "data": [
          {
           "hovertemplate": "MOMENT_NUM=117<br>LOC_X=%{x}<br>LOC_Y=%{y}<br>LOC_Z=%{marker.size}<br>TEAM_ID=%{marker.color}<extra></extra>",
           "ids": [
            -1,
            2594,
            200794,
            201143,
            201952,
            203145,
            101141,
            202704,
            202694,
            203484,
            203083
           ],
           "legendgroup": "",
           "marker": {
            "color": [
             -1,
             1610612737,
             1610612737,
             1610612737,
             1610612737,
             1610612737,
             1610612765,
             1610612765,
             1610612765,
             1610612765,
             1610612765
            ],
            "coloraxis": "coloraxis",
            "size": [
             2.59661,
             1,
             1,
             1,
             1,
             1,
             1,
             1,
             1,
             1,
             1
            ],
            "sizemode": "area",
            "sizeref": 0.029588299999999998,
            "symbol": "circle"
           },
           "mode": "markers",
           "name": "",
           "orientation": "v",
           "showlegend": false,
           "type": "scatter",
           "x": [
            57.21926,
            26.18593,
            40.50565,
            21.97008,
            31.65796,
            20.5421,
            42.14434,
            58.98857,
            23.36291,
            28.74929,
            31.18283
           ],
           "xaxis": "x",
           "y": [
            22.03619,
            27.8508,
            23.90396,
            26.33463,
            23.31958,
            28.79162,
            28.72682,
            21.01528,
            25.00817,
            33.10064,
            26.4521
           ],
           "yaxis": "y"
          }
         ],
         "name": "117"
        },
        {
         "data": [
          {
           "hovertemplate": "MOMENT_NUM=118<br>LOC_X=%{x}<br>LOC_Y=%{y}<br>LOC_Z=%{marker.size}<br>TEAM_ID=%{marker.color}<extra></extra>",
           "ids": [
            -1,
            2594,
            200794,
            201143,
            201952,
            203145,
            101141,
            202704,
            202694,
            203484,
            203083
           ],
           "legendgroup": "",
           "marker": {
            "color": [
             -1,
             1610612737,
             1610612737,
             1610612737,
             1610612737,
             1610612737,
             1610612765,
             1610612765,
             1610612765,
             1610612765,
             1610612765
            ],
            "coloraxis": "coloraxis",
            "size": [
             1.87801,
             1,
             1,
             1,
             1,
             1,
             1,
             1,
             1,
             1,
             1
            ],
            "sizemode": "area",
            "sizeref": 0.029588299999999998,
            "symbol": "circle"
           },
           "mode": "markers",
           "name": "",
           "orientation": "v",
           "showlegend": false,
           "type": "scatter",
           "x": [
            56.46481,
            25.97582,
            40.05786,
            21.82165,
            31.63759,
            20.22233,
            41.65999,
            58.51577,
            22.94281,
            28.35975,
            31.02037
           ],
           "xaxis": "x",
           "y": [
            22.03176,
            28.24368,
            23.9371,
            26.42174,
            23.33682,
            28.53476,
            28.66757,
            21.11667,
            24.58245,
            33.48978,
            26.5462
           ],
           "yaxis": "y"
          }
         ],
         "name": "118"
        },
        {
         "data": [
          {
           "hovertemplate": "MOMENT_NUM=119<br>LOC_X=%{x}<br>LOC_Y=%{y}<br>LOC_Z=%{marker.size}<br>TEAM_ID=%{marker.color}<extra></extra>",
           "ids": [
            -1,
            2594,
            200794,
            201143,
            201952,
            203145,
            101141,
            202704,
            202694,
            203484,
            203083
           ],
           "legendgroup": "",
           "marker": {
            "color": [
             -1,
             1610612737,
             1610612737,
             1610612737,
             1610612737,
             1610612737,
             1610612765,
             1610612765,
             1610612765,
             1610612765,
             1610612765
            ],
            "coloraxis": "coloraxis",
            "size": [
             1.48704,
             1,
             1,
             1,
             1,
             1,
             1,
             1,
             1,
             1,
             1
            ],
            "sizemode": "area",
            "sizeref": 0.029588299999999998,
            "symbol": "circle"
           },
           "mode": "markers",
           "name": "",
           "orientation": "v",
           "showlegend": false,
           "type": "scatter",
           "x": [
            55.94086,
            25.7687,
            39.60986,
            21.68606,
            31.622,
            19.89251,
            41.17851,
            58.04354,
            22.5782,
            27.93635,
            30.85878
           ],
           "xaxis": "x",
           "y": [
            22.13493,
            28.66518,
            24.01758,
            26.48446,
            23.33492,
            28.29641,
            28.60442,
            21.21666,
            24.16127,
            33.82524,
            26.61267
           ],
           "yaxis": "y"
          }
         ],
         "name": "119"
        },
        {
         "data": [
          {
           "hovertemplate": "MOMENT_NUM=120<br>LOC_X=%{x}<br>LOC_Y=%{y}<br>LOC_Z=%{marker.size}<br>TEAM_ID=%{marker.color}<extra></extra>",
           "ids": [
            -1,
            2594,
            200794,
            201143,
            201952,
            203145,
            101141,
            202704,
            202694,
            203484,
            203083
           ],
           "legendgroup": "",
           "marker": {
            "color": [
             -1,
             1610612737,
             1610612737,
             1610612737,
             1610612737,
             1610612737,
             1610612765,
             1610612765,
             1610612765,
             1610612765,
             1610612765
            ],
            "coloraxis": "coloraxis",
            "size": [
             2.16376,
             1,
             1,
             1,
             1,
             1,
             1,
             1,
             1,
             1,
             1
            ],
            "sizemode": "area",
            "sizeref": 0.029588299999999998,
            "symbol": "circle"
           },
           "mode": "markers",
           "name": "",
           "orientation": "v",
           "showlegend": false,
           "type": "scatter",
           "x": [
            55.46964,
            25.50932,
            39.17003,
            21.52638,
            31.59377,
            19.60325,
            40.69998,
            57.58075,
            22.22355,
            27.49684,
            30.68387
           ],
           "xaxis": "x",
           "y": [
            22.04937,
            29.03706,
            24.0409,
            26.50441,
            23.3248,
            28.02068,
            28.54723,
            21.31283,
            23.76047,
            34.18557,
            26.70192
           ],
           "yaxis": "y"
          }
         ],
         "name": "120"
        },
        {
         "data": [
          {
           "hovertemplate": "MOMENT_NUM=121<br>LOC_X=%{x}<br>LOC_Y=%{y}<br>LOC_Z=%{marker.size}<br>TEAM_ID=%{marker.color}<extra></extra>",
           "ids": [
            -1,
            2594,
            200794,
            201143,
            201952,
            203145,
            101141,
            202704,
            202694,
            203484,
            203083
           ],
           "legendgroup": "",
           "marker": {
            "color": [
             -1,
             1610612737,
             1610612737,
             1610612737,
             1610612737,
             1610612737,
             1610612765,
             1610612765,
             1610612765,
             1610612765,
             1610612765
            ],
            "coloraxis": "coloraxis",
            "size": [
             2.84729,
             1,
             1,
             1,
             1,
             1,
             1,
             1,
             1,
             1,
             1
            ],
            "sizemode": "area",
            "sizeref": 0.029588299999999998,
            "symbol": "circle"
           },
           "mode": "markers",
           "name": "",
           "orientation": "v",
           "showlegend": false,
           "type": "scatter",
           "x": [
            55.14074,
            25.22514,
            38.72433,
            21.37587,
            31.5681,
            19.31774,
            40.22296,
            57.13137,
            21.88102,
            27.06089,
            30.50838
           ],
           "xaxis": "x",
           "y": [
            22.25386,
            29.40024,
            24.10418,
            26.51976,
            23.31418,
            27.74887,
            28.49093,
            21.40585,
            23.30936,
            34.54217,
            26.80919
           ],
           "yaxis": "y"
          }
         ],
         "name": "121"
        },
        {
         "data": [
          {
           "hovertemplate": "MOMENT_NUM=122<br>LOC_X=%{x}<br>LOC_Y=%{y}<br>LOC_Z=%{marker.size}<br>TEAM_ID=%{marker.color}<extra></extra>",
           "ids": [
            -1,
            2594,
            200794,
            201143,
            201952,
            203145,
            101141,
            202704,
            202694,
            203484,
            203083
           ],
           "legendgroup": "",
           "marker": {
            "color": [
             -1,
             1610612737,
             1610612737,
             1610612737,
             1610612737,
             1610612737,
             1610612765,
             1610612765,
             1610612765,
             1610612765,
             1610612765
            ],
            "coloraxis": "coloraxis",
            "size": [
             3.18159,
             1,
             1,
             1,
             1,
             1,
             1,
             1,
             1,
             1,
             1
            ],
            "sizemode": "area",
            "sizeref": 0.029588299999999998,
            "symbol": "circle"
           },
           "mode": "markers",
           "name": "",
           "orientation": "v",
           "showlegend": false,
           "type": "scatter",
           "x": [
            54.81253,
            24.96274,
            38.3015,
            21.13845,
            31.56204,
            19.00844,
            39.74909,
            56.68299,
            21.52684,
            26.62679,
            30.33297
           ],
           "xaxis": "x",
           "y": [
            22.05684,
            29.77812,
            24.16726,
            26.52267,
            23.30451,
            27.48589,
            28.4323,
            21.50725,
            22.83199,
            34.90055,
            26.90047
           ],
           "yaxis": "y"
          }
         ],
         "name": "122"
        },
        {
         "data": [
          {
           "hovertemplate": "MOMENT_NUM=123<br>LOC_X=%{x}<br>LOC_Y=%{y}<br>LOC_Z=%{marker.size}<br>TEAM_ID=%{marker.color}<extra></extra>",
           "ids": [
            -1,
            2594,
            200794,
            201143,
            201952,
            203145,
            101141,
            202704,
            202694,
            203484,
            203083
           ],
           "legendgroup": "",
           "marker": {
            "color": [
             -1,
             1610612737,
             1610612737,
             1610612737,
             1610612737,
             1610612737,
             1610612765,
             1610612765,
             1610612765,
             1610612765,
             1610612765
            ],
            "coloraxis": "coloraxis",
            "size": [
             3.58916,
             1,
             1,
             1,
             1,
             1,
             1,
             1,
             1,
             1,
             1
            ],
            "sizemode": "area",
            "sizeref": 0.029588299999999998,
            "symbol": "circle"
           },
           "mode": "markers",
           "name": "",
           "orientation": "v",
           "showlegend": false,
           "type": "scatter",
           "x": [
            54.52903,
            24.65585,
            37.86657,
            20.85486,
            31.57432,
            18.71725,
            39.27227,
            56.22614,
            21.16261,
            26.18074,
            30.12903
           ],
           "xaxis": "x",
           "y": [
            22.13307,
            30.12936,
            24.17075,
            26.52242,
            23.30432,
            27.1978,
            28.36891,
            21.61335,
            22.35168,
            35.2443,
            26.88782
           ],
           "yaxis": "y"
          }
         ],
         "name": "123"
        },
        {
         "data": [
          {
           "hovertemplate": "MOMENT_NUM=124<br>LOC_X=%{x}<br>LOC_Y=%{y}<br>LOC_Z=%{marker.size}<br>TEAM_ID=%{marker.color}<extra></extra>",
           "ids": [
            -1,
            2594,
            200794,
            201143,
            201952,
            203145,
            101141,
            202704,
            202694,
            203484,
            203083
           ],
           "legendgroup": "",
           "marker": {
            "color": [
             -1,
             1610612737,
             1610612737,
             1610612737,
             1610612737,
             1610612737,
             1610612765,
             1610612765,
             1610612765,
             1610612765,
             1610612765
            ],
            "coloraxis": "coloraxis",
            "size": [
             4.24356,
             1,
             1,
             1,
             1,
             1,
             1,
             1,
             1,
             1,
             1
            ],
            "sizemode": "area",
            "sizeref": 0.029588299999999998,
            "symbol": "circle"
           },
           "mode": "markers",
           "name": "",
           "orientation": "v",
           "showlegend": false,
           "type": "scatter",
           "x": [
            54.0529,
            24.3481,
            37.43687,
            20.62289,
            31.57807,
            18.42891,
            38.76979,
            55.77514,
            20.80242,
            25.73375,
            29.92223
           ],
           "xaxis": "x",
           "y": [
            22.14849,
            30.46966,
            24.17512,
            26.53564,
            23.27961,
            26.92366,
            28.25266,
            21.71919,
            21.93326,
            35.5886,
            26.89371
           ],
           "yaxis": "y"
          }
         ],
         "name": "124"
        },
        {
         "data": [
          {
           "hovertemplate": "MOMENT_NUM=125<br>LOC_X=%{x}<br>LOC_Y=%{y}<br>LOC_Z=%{marker.size}<br>TEAM_ID=%{marker.color}<extra></extra>",
           "ids": [
            -1,
            2594,
            200794,
            201143,
            201952,
            203145,
            101141,
            202704,
            202694,
            203484,
            203083
           ],
           "legendgroup": "",
           "marker": {
            "color": [
             -1,
             1610612737,
             1610612737,
             1610612737,
             1610612737,
             1610612737,
             1610612765,
             1610612765,
             1610612765,
             1610612765,
             1610612765
            ],
            "coloraxis": "coloraxis",
            "size": [
             4.4688,
             1,
             1,
             1,
             1,
             1,
             1,
             1,
             1,
             1,
             1
            ],
            "sizemode": "area",
            "sizeref": 0.029588299999999998,
            "symbol": "circle"
           },
           "mode": "markers",
           "name": "",
           "orientation": "v",
           "showlegend": false,
           "type": "scatter",
           "x": [
            53.73763,
            24.02888,
            37.01622,
            20.46567,
            31.65506,
            18.16402,
            38.29059,
            55.331,
            20.44783,
            25.28455,
            29.69756
           ],
           "xaxis": "x",
           "y": [
            21.9134,
            30.75129,
            24.21296,
            26.60114,
            23.25899,
            26.64087,
            28.17381,
            21.82599,
            21.55121,
            35.94398,
            26.83403
           ],
           "yaxis": "y"
          }
         ],
         "name": "125"
        },
        {
         "data": [
          {
           "hovertemplate": "MOMENT_NUM=126<br>LOC_X=%{x}<br>LOC_Y=%{y}<br>LOC_Z=%{marker.size}<br>TEAM_ID=%{marker.color}<extra></extra>",
           "ids": [
            -1,
            2594,
            200794,
            201143,
            201952,
            203145,
            101141,
            202704,
            202694,
            203484,
            203083
           ],
           "legendgroup": "",
           "marker": {
            "color": [
             -1,
             1610612737,
             1610612737,
             1610612737,
             1610612737,
             1610612737,
             1610612765,
             1610612765,
             1610612765,
             1610612765,
             1610612765
            ],
            "coloraxis": "coloraxis",
            "size": [
             4.93224,
             1,
             1,
             1,
             1,
             1,
             1,
             1,
             1,
             1,
             1
            ],
            "sizemode": "area",
            "sizeref": 0.029588299999999998,
            "symbol": "circle"
           },
           "mode": "markers",
           "name": "",
           "orientation": "v",
           "showlegend": false,
           "type": "scatter",
           "x": [
            53.45454,
            23.70438,
            36.59453,
            20.33969,
            31.71307,
            17.89651,
            37.81835,
            54.88534,
            20.08097,
            24.83856,
            29.4839
           ],
           "xaxis": "x",
           "y": [
            21.98235,
            31.06317,
            24.24591,
            26.67321,
            23.20641,
            26.34642,
            28.0926,
            21.92876,
            21.12963,
            36.27036,
            26.77296
           ],
           "yaxis": "y"
          }
         ],
         "name": "126"
        },
        {
         "data": [
          {
           "hovertemplate": "MOMENT_NUM=127<br>LOC_X=%{x}<br>LOC_Y=%{y}<br>LOC_Z=%{marker.size}<br>TEAM_ID=%{marker.color}<extra></extra>",
           "ids": [
            -1,
            2594,
            200794,
            201143,
            201952,
            203145,
            101141,
            202704,
            202694,
            203484,
            203083
           ],
           "legendgroup": "",
           "marker": {
            "color": [
             -1,
             1610612737,
             1610612737,
             1610612737,
             1610612737,
             1610612737,
             1610612765,
             1610612765,
             1610612765,
             1610612765,
             1610612765
            ],
            "coloraxis": "coloraxis",
            "size": [
             5.08876,
             1,
             1,
             1,
             1,
             1,
             1,
             1,
             1,
             1,
             1
            ],
            "sizemode": "area",
            "sizeref": 0.029588299999999998,
            "symbol": "circle"
           },
           "mode": "markers",
           "name": "",
           "orientation": "v",
           "showlegend": false,
           "type": "scatter",
           "x": [
            53.07838,
            23.35219,
            36.17441,
            20.26842,
            31.72011,
            17.63256,
            37.35247,
            54.4378,
            19.69557,
            24.39222,
            29.26871
           ],
           "xaxis": "x",
           "y": [
            21.76723,
            31.39788,
            24.28713,
            26.68936,
            23.16434,
            26.03572,
            28.0044,
            22.02292,
            20.70446,
            36.58588,
            26.68574
           ],
           "yaxis": "y"
          }
         ],
         "name": "127"
        },
        {
         "data": [
          {
           "hovertemplate": "MOMENT_NUM=128<br>LOC_X=%{x}<br>LOC_Y=%{y}<br>LOC_Z=%{marker.size}<br>TEAM_ID=%{marker.color}<extra></extra>",
           "ids": [
            -1,
            2594,
            200794,
            201143,
            201952,
            203145,
            101141,
            202704,
            202694,
            203484,
            203083
           ],
           "legendgroup": "",
           "marker": {
            "color": [
             -1,
             1610612737,
             1610612737,
             1610612737,
             1610612737,
             1610612737,
             1610612765,
             1610612765,
             1610612765,
             1610612765,
             1610612765
            ],
            "coloraxis": "coloraxis",
            "size": [
             5.21559,
             1,
             1,
             1,
             1,
             1,
             1,
             1,
             1,
             1,
             1
            ],
            "sizemode": "area",
            "sizeref": 0.029588299999999998,
            "symbol": "circle"
           },
           "mode": "markers",
           "name": "",
           "orientation": "v",
           "showlegend": false,
           "type": "scatter",
           "x": [
            52.71479,
            23.02031,
            35.74921,
            20.18457,
            31.73811,
            17.37607,
            36.89455,
            53.99035,
            19.30483,
            23.95171,
            29.07568
           ],
           "xaxis": "x",
           "y": [
            21.74916,
            31.67749,
            24.32691,
            26.722,
            23.12542,
            25.71899,
            27.92176,
            22.11719,
            20.27175,
            36.94508,
            26.63948
           ],
           "yaxis": "y"
          }
         ],
         "name": "128"
        },
        {
         "data": [
          {
           "hovertemplate": "MOMENT_NUM=129<br>LOC_X=%{x}<br>LOC_Y=%{y}<br>LOC_Z=%{marker.size}<br>TEAM_ID=%{marker.color}<extra></extra>",
           "ids": [
            -1,
            2594,
            200794,
            201143,
            201952,
            203145,
            101141,
            202704,
            202694,
            203484,
            203083
           ],
           "legendgroup": "",
           "marker": {
            "color": [
             -1,
             1610612737,
             1610612737,
             1610612737,
             1610612737,
             1610612737,
             1610612765,
             1610612765,
             1610612765,
             1610612765,
             1610612765
            ],
            "coloraxis": "coloraxis",
            "size": [
             5.4165,
             1,
             1,
             1,
             1,
             1,
             1,
             1,
             1,
             1,
             1
            ],
            "sizemode": "area",
            "sizeref": 0.029588299999999998,
            "symbol": "circle"
           },
           "mode": "markers",
           "name": "",
           "orientation": "v",
           "showlegend": false,
           "type": "scatter",
           "x": [
            52.32561,
            22.68052,
            35.33747,
            20.07056,
            31.73167,
            17.11708,
            36.4532,
            53.54599,
            18.9333,
            23.49306,
            28.86809
           ],
           "xaxis": "x",
           "y": [
            21.85995,
            31.94101,
            24.37803,
            26.76277,
            23.10334,
            25.42217,
            27.83732,
            22.21222,
            19.82584,
            37.30492,
            26.55111
           ],
           "yaxis": "y"
          }
         ],
         "name": "129"
        },
        {
         "data": [
          {
           "hovertemplate": "MOMENT_NUM=130<br>LOC_X=%{x}<br>LOC_Y=%{y}<br>LOC_Z=%{marker.size}<br>TEAM_ID=%{marker.color}<extra></extra>",
           "ids": [
            -1,
            2594,
            200794,
            201143,
            201952,
            203145,
            101141,
            202704,
            202694,
            203484,
            203083
           ],
           "legendgroup": "",
           "marker": {
            "color": [
             -1,
             1610612737,
             1610612737,
             1610612737,
             1610612737,
             1610612737,
             1610612765,
             1610612765,
             1610612765,
             1610612765,
             1610612765
            ],
            "coloraxis": "coloraxis",
            "size": [
             5.51017,
             1,
             1,
             1,
             1,
             1,
             1,
             1,
             1,
             1,
             1
            ],
            "sizemode": "area",
            "sizeref": 0.029588299999999998,
            "symbol": "circle"
           },
           "mode": "markers",
           "name": "",
           "orientation": "v",
           "showlegend": false,
           "type": "scatter",
           "x": [
            52.01751,
            22.33801,
            34.88769,
            19.88218,
            31.7442,
            16.80773,
            36.01608,
            53.09933,
            18.56475,
            23.04658,
            28.67324
           ],
           "xaxis": "x",
           "y": [
            21.77848,
            32.19575,
            24.35904,
            26.75792,
            23.14661,
            25.13461,
            27.76907,
            22.31443,
            19.37557,
            37.61168,
            26.47771
           ],
           "yaxis": "y"
          }
         ],
         "name": "130"
        },
        {
         "data": [
          {
           "hovertemplate": "MOMENT_NUM=131<br>LOC_X=%{x}<br>LOC_Y=%{y}<br>LOC_Z=%{marker.size}<br>TEAM_ID=%{marker.color}<extra></extra>",
           "ids": [
            -1,
            2594,
            200794,
            201143,
            201952,
            203145,
            101141,
            202704,
            202694,
            203484,
            203083
           ],
           "legendgroup": "",
           "marker": {
            "color": [
             -1,
             1610612737,
             1610612737,
             1610612737,
             1610612737,
             1610612737,
             1610612765,
             1610612765,
             1610612765,
             1610612765,
             1610612765
            ],
            "coloraxis": "coloraxis",
            "size": [
             5.5497,
             1,
             1,
             1,
             1,
             1,
             1,
             1,
             1,
             1,
             1
            ],
            "sizemode": "area",
            "sizeref": 0.029588299999999998,
            "symbol": "circle"
           },
           "mode": "markers",
           "name": "",
           "orientation": "v",
           "showlegend": false,
           "type": "scatter",
           "x": [
            51.62809,
            21.98451,
            34.48869,
            19.75967,
            31.73793,
            16.56401,
            35.59567,
            52.65365,
            18.18587,
            22.60912,
            28.4773
           ],
           "xaxis": "x",
           "y": [
            21.71481,
            32.43446,
            24.38432,
            26.79492,
            23.17598,
            24.85028,
            27.66789,
            22.41365,
            18.8961,
            37.92921,
            26.46588
           ],
           "yaxis": "y"
          }
         ],
         "name": "131"
        },
        {
         "data": [
          {
           "hovertemplate": "MOMENT_NUM=132<br>LOC_X=%{x}<br>LOC_Y=%{y}<br>LOC_Z=%{marker.size}<br>TEAM_ID=%{marker.color}<extra></extra>",
           "ids": [
            -1,
            2594,
            200794,
            201143,
            201952,
            203145,
            101141,
            202704,
            202694,
            203484,
            203083
           ],
           "legendgroup": "",
           "marker": {
            "color": [
             -1,
             1610612737,
             1610612737,
             1610612737,
             1610612737,
             1610612737,
             1610612765,
             1610612765,
             1610612765,
             1610612765,
             1610612765
            ],
            "coloraxis": "coloraxis",
            "size": [
             5.49049,
             1,
             1,
             1,
             1,
             1,
             1,
             1,
             1,
             1,
             1
            ],
            "sizemode": "area",
            "sizeref": 0.029588299999999998,
            "symbol": "circle"
           },
           "mode": "markers",
           "name": "",
           "orientation": "v",
           "showlegend": false,
           "type": "scatter",
           "x": [
            51.3626,
            21.62762,
            34.10473,
            19.65283,
            31.75633,
            16.35486,
            35.15004,
            52.21126,
            17.80137,
            22.16071,
            28.28097
           ],
           "xaxis": "x",
           "y": [
            21.73286,
            32.6617,
            24.41076,
            26.8983,
            23.23256,
            24.59076,
            27.56998,
            22.51518,
            18.4392,
            38.30743,
            26.45056
           ],
           "yaxis": "y"
          }
         ],
         "name": "132"
        },
        {
         "data": [
          {
           "hovertemplate": "MOMENT_NUM=133<br>LOC_X=%{x}<br>LOC_Y=%{y}<br>LOC_Z=%{marker.size}<br>TEAM_ID=%{marker.color}<extra></extra>",
           "ids": [
            -1,
            2594,
            200794,
            201143,
            201952,
            203145,
            101141,
            202704,
            202694,
            203484,
            203083
           ],
           "legendgroup": "",
           "marker": {
            "color": [
             -1,
             1610612737,
             1610612737,
             1610612737,
             1610612737,
             1610612737,
             1610612765,
             1610612765,
             1610612765,
             1610612765,
             1610612765
            ],
            "coloraxis": "coloraxis",
            "size": [
             5.3774,
             1,
             1,
             1,
             1,
             1,
             1,
             1,
             1,
             1,
             1
            ],
            "sizemode": "area",
            "sizeref": 0.029588299999999998,
            "symbol": "circle"
           },
           "mode": "markers",
           "name": "",
           "orientation": "v",
           "showlegend": false,
           "type": "scatter",
           "x": [
            50.9578,
            21.26386,
            33.69942,
            19.55071,
            31.76009,
            16.12728,
            34.72238,
            51.78415,
            17.42667,
            21.72222,
            28.08461
           ],
           "xaxis": "x",
           "y": [
            21.89622,
            32.89887,
            24.43767,
            26.93567,
            23.20611,
            24.29653,
            27.49271,
            22.61852,
            17.99105,
            38.65955,
            26.42898
           ],
           "yaxis": "y"
          }
         ],
         "name": "133"
        },
        {
         "data": [
          {
           "hovertemplate": "MOMENT_NUM=134<br>LOC_X=%{x}<br>LOC_Y=%{y}<br>LOC_Z=%{marker.size}<br>TEAM_ID=%{marker.color}<extra></extra>",
           "ids": [
            -1,
            2594,
            200794,
            201143,
            201952,
            203145,
            101141,
            202704,
            202694,
            203484,
            203083
           ],
           "legendgroup": "",
           "marker": {
            "color": [
             -1,
             1610612737,
             1610612737,
             1610612737,
             1610612737,
             1610612737,
             1610612765,
             1610612765,
             1610612765,
             1610612765,
             1610612765
            ],
            "coloraxis": "coloraxis",
            "size": [
             5.38966,
             1,
             1,
             1,
             1,
             1,
             1,
             1,
             1,
             1,
             1
            ],
            "sizemode": "area",
            "sizeref": 0.029588299999999998,
            "symbol": "circle"
           },
           "mode": "markers",
           "name": "",
           "orientation": "v",
           "showlegend": false,
           "type": "scatter",
           "x": [
            50.63687,
            20.89135,
            33.33073,
            19.43133,
            31.7512,
            15.90254,
            34.28896,
            51.37076,
            17.04985,
            21.28771,
            27.91713
           ],
           "xaxis": "x",
           "y": [
            21.99115,
            33.13039,
            24.36923,
            26.95485,
            23.26069,
            23.97164,
            27.41111,
            22.71681,
            17.55952,
            38.95384,
            26.37927
           ],
           "yaxis": "y"
          }
         ],
         "name": "134"
        },
        {
         "data": [
          {
           "hovertemplate": "MOMENT_NUM=135<br>LOC_X=%{x}<br>LOC_Y=%{y}<br>LOC_Z=%{marker.size}<br>TEAM_ID=%{marker.color}<extra></extra>",
           "ids": [
            -1,
            2594,
            200794,
            201143,
            201952,
            203145,
            101141,
            202704,
            202694,
            203484,
            203083
           ],
           "legendgroup": "",
           "marker": {
            "color": [
             -1,
             1610612737,
             1610612737,
             1610612737,
             1610612737,
             1610612737,
             1610612765,
             1610612765,
             1610612765,
             1610612765,
             1610612765
            ],
            "coloraxis": "coloraxis",
            "size": [
             5.31488,
             1,
             1,
             1,
             1,
             1,
             1,
             1,
             1,
             1,
             1
            ],
            "sizemode": "area",
            "sizeref": 0.029588299999999998,
            "symbol": "circle"
           },
           "mode": "markers",
           "name": "",
           "orientation": "v",
           "showlegend": false,
           "type": "scatter",
           "x": [
            50.22286,
            20.52864,
            32.93628,
            19.33203,
            31.77905,
            15.65358,
            33.88157,
            50.97229,
            16.6752,
            20.86415,
            27.72565
           ],
           "xaxis": "x",
           "y": [
            22.01535,
            33.36244,
            24.41384,
            27.0045,
            23.25367,
            23.67154,
            27.35222,
            22.82836,
            17.13467,
            39.24162,
            26.36546
           ],
           "yaxis": "y"
          }
         ],
         "name": "135"
        },
        {
         "data": [
          {
           "hovertemplate": "MOMENT_NUM=136<br>LOC_X=%{x}<br>LOC_Y=%{y}<br>LOC_Z=%{marker.size}<br>TEAM_ID=%{marker.color}<extra></extra>",
           "ids": [
            -1,
            2594,
            200794,
            201143,
            201952,
            203145,
            101141,
            202704,
            202694,
            203484,
            203083
           ],
           "legendgroup": "",
           "marker": {
            "color": [
             -1,
             1610612737,
             1610612737,
             1610612737,
             1610612737,
             1610612737,
             1610612765,
             1610612765,
             1610612765,
             1610612765,
             1610612765
            ],
            "coloraxis": "coloraxis",
            "size": [
             5.18625,
             1,
             1,
             1,
             1,
             1,
             1,
             1,
             1,
             1,
             1
            ],
            "sizemode": "area",
            "sizeref": 0.029588299999999998,
            "symbol": "circle"
           },
           "mode": "markers",
           "name": "",
           "orientation": "v",
           "showlegend": false,
           "type": "scatter",
           "x": [
            49.81496,
            20.16817,
            32.55611,
            19.25576,
            31.80284,
            15.42727,
            33.48607,
            50.56879,
            16.30411,
            20.4151,
            27.53216
           ],
           "xaxis": "x",
           "y": [
            22.06637,
            33.57189,
            24.40474,
            27.11975,
            23.24709,
            23.35567,
            27.29327,
            22.94498,
            16.71192,
            39.53759,
            26.3912
           ],
           "yaxis": "y"
          }
         ],
         "name": "136"
        },
        {
         "data": [
          {
           "hovertemplate": "MOMENT_NUM=137<br>LOC_X=%{x}<br>LOC_Y=%{y}<br>LOC_Z=%{marker.size}<br>TEAM_ID=%{marker.color}<extra></extra>",
           "ids": [
            -1,
            2594,
            200794,
            201143,
            201952,
            203145,
            101141,
            202704,
            202694,
            203484,
            203083
           ],
           "legendgroup": "",
           "marker": {
            "color": [
             -1,
             1610612737,
             1610612737,
             1610612737,
             1610612737,
             1610612737,
             1610612765,
             1610612765,
             1610612765,
             1610612765,
             1610612765
            ],
            "coloraxis": "coloraxis",
            "size": [
             5.15026,
             1,
             1,
             1,
             1,
             1,
             1,
             1,
             1,
             1,
             1
            ],
            "sizemode": "area",
            "sizeref": 0.029588299999999998,
            "symbol": "circle"
           },
           "mode": "markers",
           "name": "",
           "orientation": "v",
           "showlegend": false,
           "type": "scatter",
           "x": [
            49.34189,
            19.81605,
            32.16154,
            19.17701,
            31.82367,
            15.20727,
            33.10132,
            50.1731,
            15.93819,
            19.97274,
            27.33787
           ],
           "xaxis": "x",
           "y": [
            22.23278,
            33.77882,
            24.40803,
            27.23717,
            23.23566,
            23.01923,
            27.24989,
            23.05329,
            16.31644,
            39.8298,
            26.38871
           ],
           "yaxis": "y"
          }
         ],
         "name": "137"
        },
        {
         "data": [
          {
           "hovertemplate": "MOMENT_NUM=138<br>LOC_X=%{x}<br>LOC_Y=%{y}<br>LOC_Z=%{marker.size}<br>TEAM_ID=%{marker.color}<extra></extra>",
           "ids": [
            -1,
            2594,
            200794,
            201143,
            201952,
            203145,
            101141,
            202704,
            202694,
            203484,
            203083
           ],
           "legendgroup": "",
           "marker": {
            "color": [
             -1,
             1610612737,
             1610612737,
             1610612737,
             1610612737,
             1610612737,
             1610612765,
             1610612765,
             1610612765,
             1610612765,
             1610612765
            ],
            "coloraxis": "coloraxis",
            "size": [
             5.06865,
             1,
             1,
             1,
             1,
             1,
             1,
             1,
             1,
             1,
             1
            ],
            "sizemode": "area",
            "sizeref": 0.029588299999999998,
            "symbol": "circle"
           },
           "mode": "markers",
           "name": "",
           "orientation": "v",
           "showlegend": false,
           "type": "scatter",
           "x": [
            48.86916,
            19.46326,
            31.79309,
            19.10366,
            31.82202,
            14.9861,
            32.7372,
            49.78253,
            15.57728,
            19.5502,
            27.17103
           ],
           "xaxis": "x",
           "y": [
            22.41855,
            33.9776,
            24.46487,
            27.31557,
            23.22778,
            22.69275,
            27.19544,
            23.16158,
            15.91745,
            40.12321,
            26.45429
           ],
           "yaxis": "y"
          }
         ],
         "name": "138"
        },
        {
         "data": [
          {
           "hovertemplate": "MOMENT_NUM=139<br>LOC_X=%{x}<br>LOC_Y=%{y}<br>LOC_Z=%{marker.size}<br>TEAM_ID=%{marker.color}<extra></extra>",
           "ids": [
            -1,
            2594,
            200794,
            201143,
            201952,
            203145,
            101141,
            202704,
            202694,
            203484,
            203083
           ],
           "legendgroup": "",
           "marker": {
            "color": [
             -1,
             1610612737,
             1610612737,
             1610612737,
             1610612737,
             1610612737,
             1610612765,
             1610612765,
             1610612765,
             1610612765,
             1610612765
            ],
            "coloraxis": "coloraxis",
            "size": [
             5.04152,
             1,
             1,
             1,
             1,
             1,
             1,
             1,
             1,
             1,
             1
            ],
            "sizemode": "area",
            "sizeref": 0.029588299999999998,
            "symbol": "circle"
           },
           "mode": "markers",
           "name": "",
           "orientation": "v",
           "showlegend": false,
           "type": "scatter",
           "x": [
            48.43738,
            19.10999,
            31.41706,
            19.02737,
            31.84751,
            14.76623,
            32.37897,
            49.3986,
            15.21596,
            19.12842,
            27.00954
           ],
           "xaxis": "x",
           "y": [
            22.63947,
            34.17577,
            24.52252,
            27.3991,
            23.2385,
            22.3615,
            27.15252,
            23.27759,
            15.49503,
            40.43749,
            26.51521
           ],
           "yaxis": "y"
          }
         ],
         "name": "139"
        },
        {
         "data": [
          {
           "hovertemplate": "MOMENT_NUM=140<br>LOC_X=%{x}<br>LOC_Y=%{y}<br>LOC_Z=%{marker.size}<br>TEAM_ID=%{marker.color}<extra></extra>",
           "ids": [
            -1,
            2594,
            200794,
            201143,
            201952,
            203145,
            101141,
            202704,
            202694,
            203484,
            203083
           ],
           "legendgroup": "",
           "marker": {
            "color": [
             -1,
             1610612737,
             1610612737,
             1610612737,
             1610612737,
             1610612737,
             1610612765,
             1610612765,
             1610612765,
             1610612765,
             1610612765
            ],
            "coloraxis": "coloraxis",
            "size": [
             4.8344000000000005,
             1,
             1,
             1,
             1,
             1,
             1,
             1,
             1,
             1,
             1
            ],
            "sizemode": "area",
            "sizeref": 0.029588299999999998,
            "symbol": "circle"
           },
           "mode": "markers",
           "name": "",
           "orientation": "v",
           "showlegend": false,
           "type": "scatter",
           "x": [
            47.94889,
            18.75631,
            31.02891,
            18.94891,
            31.79395,
            14.5541,
            31.98377,
            49.01583,
            14.861,
            18.70124,
            26.867
           ],
           "xaxis": "x",
           "y": [
            22.69258,
            34.36769,
            24.54128,
            27.45244,
            23.24237,
            22.04215,
            27.04368,
            23.38483,
            15.08347,
            40.73531,
            26.64602
           ],
           "yaxis": "y"
          }
         ],
         "name": "140"
        },
        {
         "data": [
          {
           "hovertemplate": "MOMENT_NUM=141<br>LOC_X=%{x}<br>LOC_Y=%{y}<br>LOC_Z=%{marker.size}<br>TEAM_ID=%{marker.color}<extra></extra>",
           "ids": [
            -1,
            2594,
            200794,
            201143,
            201952,
            203145,
            101141,
            202704,
            202694,
            203484,
            203083
           ],
           "legendgroup": "",
           "marker": {
            "color": [
             -1,
             1610612737,
             1610612737,
             1610612737,
             1610612737,
             1610612737,
             1610612765,
             1610612765,
             1610612765,
             1610612765,
             1610612765
            ],
            "coloraxis": "coloraxis",
            "size": [
             4.54535,
             1,
             1,
             1,
             1,
             1,
             1,
             1,
             1,
             1,
             1
            ],
            "sizemode": "area",
            "sizeref": 0.029588299999999998,
            "symbol": "circle"
           },
           "mode": "markers",
           "name": "",
           "orientation": "v",
           "showlegend": false,
           "type": "scatter",
           "x": [
            47.48328,
            18.40557,
            30.64582,
            18.87019,
            31.76756,
            14.34923,
            31.60468,
            48.63831,
            14.51228,
            18.26853,
            26.71546
           ],
           "xaxis": "x",
           "y": [
            22.85204,
            34.55474,
            24.56723,
            27.50125,
            23.28183,
            21.7248,
            26.94302,
            23.49353,
            14.68274,
            41.04523,
            26.7803
           ],
           "yaxis": "y"
          }
         ],
         "name": "141"
        },
        {
         "data": [
          {
           "hovertemplate": "MOMENT_NUM=142<br>LOC_X=%{x}<br>LOC_Y=%{y}<br>LOC_Z=%{marker.size}<br>TEAM_ID=%{marker.color}<extra></extra>",
           "ids": [
            -1,
            2594,
            200794,
            201143,
            201952,
            203145,
            101141,
            202704,
            202694,
            203484,
            203083
           ],
           "legendgroup": "",
           "marker": {
            "color": [
             -1,
             1610612737,
             1610612737,
             1610612737,
             1610612737,
             1610612737,
             1610612765,
             1610612765,
             1610612765,
             1610612765,
             1610612765
            ],
            "coloraxis": "coloraxis",
            "size": [
             4.26562,
             1,
             1,
             1,
             1,
             1,
             1,
             1,
             1,
             1,
             1
            ],
            "sizemode": "area",
            "sizeref": 0.029588299999999998,
            "symbol": "circle"
           },
           "mode": "markers",
           "name": "",
           "orientation": "v",
           "showlegend": false,
           "type": "scatter",
           "x": [
            46.96407,
            18.05029,
            30.26581,
            18.79666,
            31.77515,
            14.14536,
            31.26136,
            48.26837,
            14.15756,
            17.83498,
            26.54548
           ],
           "xaxis": "x",
           "y": [
            23.15002,
            34.72721,
            24.59088,
            27.55338,
            23.31555,
            21.4132,
            26.85481,
            23.60727,
            14.2645,
            41.35732,
            26.92802
           ],
           "yaxis": "y"
          }
         ],
         "name": "142"
        },
        {
         "data": [
          {
           "hovertemplate": "MOMENT_NUM=143<br>LOC_X=%{x}<br>LOC_Y=%{y}<br>LOC_Z=%{marker.size}<br>TEAM_ID=%{marker.color}<extra></extra>",
           "ids": [
            -1,
            2594,
            200794,
            201143,
            201952,
            203145,
            101141,
            202704,
            202694,
            203484,
            203083
           ],
           "legendgroup": "",
           "marker": {
            "color": [
             -1,
             1610612737,
             1610612737,
             1610612737,
             1610612737,
             1610612737,
             1610612765,
             1610612765,
             1610612765,
             1610612765,
             1610612765
            ],
            "coloraxis": "coloraxis",
            "size": [
             3.70872,
             1,
             1,
             1,
             1,
             1,
             1,
             1,
             1,
             1,
             1
            ],
            "sizemode": "area",
            "sizeref": 0.029588299999999998,
            "symbol": "circle"
           },
           "mode": "markers",
           "name": "",
           "orientation": "v",
           "showlegend": false,
           "type": "scatter",
           "x": [
            46.37986,
            17.69326,
            29.89859,
            18.73391,
            31.77795,
            13.95251,
            30.9345,
            47.90987,
            13.80501,
            17.39869,
            26.38917
           ],
           "xaxis": "x",
           "y": [
            23.36731,
            34.90102,
            24.61577,
            27.60668,
            23.36961,
            21.10398,
            26.80367,
            23.71938,
            13.8527,
            41.6558,
            27.03885
           ],
           "yaxis": "y"
          }
         ],
         "name": "143"
        },
        {
         "data": [
          {
           "hovertemplate": "MOMENT_NUM=144<br>LOC_X=%{x}<br>LOC_Y=%{y}<br>LOC_Z=%{marker.size}<br>TEAM_ID=%{marker.color}<extra></extra>",
           "ids": [
            -1,
            2594,
            200794,
            201143,
            201952,
            203145,
            101141,
            202704,
            202694,
            203484,
            203083
           ],
           "legendgroup": "",
           "marker": {
            "color": [
             -1,
             1610612737,
             1610612737,
             1610612737,
             1610612737,
             1610612737,
             1610612765,
             1610612765,
             1610612765,
             1610612765,
             1610612765
            ],
            "coloraxis": "coloraxis",
            "size": [
             3.09181,
             1,
             1,
             1,
             1,
             1,
             1,
             1,
             1,
             1,
             1
            ],
            "sizemode": "area",
            "sizeref": 0.029588299999999998,
            "symbol": "circle"
           },
           "mode": "markers",
           "name": "",
           "orientation": "v",
           "showlegend": false,
           "type": "scatter",
           "x": [
            45.82734,
            17.3308,
            29.53814,
            18.68646,
            31.80666,
            13.75656,
            30.59259,
            47.5586,
            13.45237,
            16.99349,
            26.21134
           ],
           "xaxis": "x",
           "y": [
            23.77446,
            35.07605,
            24.63078,
            27.71255,
            23.41968,
            20.80601,
            26.69648,
            23.83551,
            13.45923,
            41.91424,
            27.1894
           ],
           "yaxis": "y"
          }
         ],
         "name": "144"
        },
        {
         "data": [
          {
           "hovertemplate": "MOMENT_NUM=145<br>LOC_X=%{x}<br>LOC_Y=%{y}<br>LOC_Z=%{marker.size}<br>TEAM_ID=%{marker.color}<extra></extra>",
           "ids": [
            -1,
            2594,
            200794,
            201143,
            201952,
            203145,
            101141,
            202704,
            202694,
            203484,
            203083
           ],
           "legendgroup": "",
           "marker": {
            "color": [
             -1,
             1610612737,
             1610612737,
             1610612737,
             1610612737,
             1610612737,
             1610612765,
             1610612765,
             1610612765,
             1610612765,
             1610612765
            ],
            "coloraxis": "coloraxis",
            "size": [
             2.9958299999999998,
             1,
             1,
             1,
             1,
             1,
             1,
             1,
             1,
             1,
             1
            ],
            "sizemode": "area",
            "sizeref": 0.029588299999999998,
            "symbol": "circle"
           },
           "mode": "markers",
           "name": "",
           "orientation": "v",
           "showlegend": false,
           "type": "scatter",
           "x": [
            45.29107,
            16.97046,
            29.21599,
            18.6412,
            31.80901,
            13.55743,
            30.23216,
            47.21399,
            13.08752,
            16.5889,
            26.07622
           ],
           "xaxis": "x",
           "y": [
            24.49481,
            35.2491,
            24.69147,
            27.80954,
            23.4092,
            20.50162,
            26.57563,
            23.9473,
            13.06243,
            42.18427,
            27.30588
           ],
           "yaxis": "y"
          }
         ],
         "name": "145"
        },
        {
         "data": [
          {
           "hovertemplate": "MOMENT_NUM=146<br>LOC_X=%{x}<br>LOC_Y=%{y}<br>LOC_Z=%{marker.size}<br>TEAM_ID=%{marker.color}<extra></extra>",
           "ids": [
            -1,
            2594,
            200794,
            201143,
            201952,
            203145,
            101141,
            202704,
            202694,
            203484,
            203083
           ],
           "legendgroup": "",
           "marker": {
            "color": [
             -1,
             1610612737,
             1610612737,
             1610612737,
             1610612737,
             1610612737,
             1610612765,
             1610612765,
             1610612765,
             1610612765,
             1610612765
            ],
            "coloraxis": "coloraxis",
            "size": [
             2.36794,
             1,
             1,
             1,
             1,
             1,
             1,
             1,
             1,
             1,
             1
            ],
            "sizemode": "area",
            "sizeref": 0.029588299999999998,
            "symbol": "circle"
           },
           "mode": "markers",
           "name": "",
           "orientation": "v",
           "showlegend": false,
           "type": "scatter",
           "x": [
            44.91206,
            16.61475,
            28.88969,
            18.60346,
            31.82795,
            13.34826,
            29.89973,
            46.86255,
            12.74044,
            16.17208,
            25.89179
           ],
           "xaxis": "x",
           "y": [
            24.82267,
            35.42155,
            24.75537,
            27.91173,
            23.41495,
            20.22746,
            26.48464,
            24.0616,
            12.70056,
            42.49904,
            27.3995
           ],
           "yaxis": "y"
          }
         ],
         "name": "146"
        },
        {
         "data": [
          {
           "hovertemplate": "MOMENT_NUM=147<br>LOC_X=%{x}<br>LOC_Y=%{y}<br>LOC_Z=%{marker.size}<br>TEAM_ID=%{marker.color}<extra></extra>",
           "ids": [
            -1,
            2594,
            200794,
            201143,
            201952,
            203145,
            101141,
            202704,
            202694,
            203484,
            203083
           ],
           "legendgroup": "",
           "marker": {
            "color": [
             -1,
             1610612737,
             1610612737,
             1610612737,
             1610612737,
             1610612737,
             1610612765,
             1610612765,
             1610612765,
             1610612765,
             1610612765
            ],
            "coloraxis": "coloraxis",
            "size": [
             1.75335,
             1,
             1,
             1,
             1,
             1,
             1,
             1,
             1,
             1,
             1
            ],
            "sizemode": "area",
            "sizeref": 0.029588299999999998,
            "symbol": "circle"
           },
           "mode": "markers",
           "name": "",
           "orientation": "v",
           "showlegend": false,
           "type": "scatter",
           "x": [
            44.64394,
            16.26491,
            28.55513,
            18.55461,
            31.83231,
            13.14403,
            29.60239,
            46.51329,
            12.39515,
            15.76579,
            25.71568
           ],
           "xaxis": "x",
           "y": [
            24.44229,
            35.59725,
            24.81524,
            27.9562,
            23.40522,
            19.92283,
            26.3891,
            24.18093,
            12.3185,
            42.74881,
            27.47639
           ],
           "yaxis": "y"
          }
         ],
         "name": "147"
        },
        {
         "data": [
          {
           "hovertemplate": "MOMENT_NUM=148<br>LOC_X=%{x}<br>LOC_Y=%{y}<br>LOC_Z=%{marker.size}<br>TEAM_ID=%{marker.color}<extra></extra>",
           "ids": [
            -1,
            2594,
            200794,
            201143,
            201952,
            203145,
            101141,
            202704,
            202694,
            203484,
            203083
           ],
           "legendgroup": "",
           "marker": {
            "color": [
             -1,
             1610612737,
             1610612737,
             1610612737,
             1610612737,
             1610612737,
             1610612765,
             1610612765,
             1610612765,
             1610612765,
             1610612765
            ],
            "coloraxis": "coloraxis",
            "size": [
             2.28535,
             1,
             1,
             1,
             1,
             1,
             1,
             1,
             1,
             1,
             1
            ],
            "sizemode": "area",
            "sizeref": 0.029588299999999998,
            "symbol": "circle"
           },
           "mode": "markers",
           "name": "",
           "orientation": "v",
           "showlegend": false,
           "type": "scatter",
           "x": [
            44.42157,
            15.92732,
            28.23036,
            18.50993,
            31.85052,
            12.93365,
            29.29914,
            46.16954,
            12.05381,
            15.36456,
            25.54632
           ],
           "xaxis": "x",
           "y": [
            24.58253,
            35.7593,
            24.811,
            28.004,
            23.48005,
            19.60978,
            26.26678,
            24.30099,
            11.93029,
            43.00819,
            27.55394
           ],
           "yaxis": "y"
          }
         ],
         "name": "148"
        },
        {
         "data": [
          {
           "hovertemplate": "MOMENT_NUM=149<br>LOC_X=%{x}<br>LOC_Y=%{y}<br>LOC_Z=%{marker.size}<br>TEAM_ID=%{marker.color}<extra></extra>",
           "ids": [
            -1,
            2594,
            200794,
            201143,
            201952,
            203145,
            101141,
            202704,
            202694,
            203484,
            203083
           ],
           "legendgroup": "",
           "marker": {
            "color": [
             -1,
             1610612737,
             1610612737,
             1610612737,
             1610612737,
             1610612737,
             1610612765,
             1610612765,
             1610612765,
             1610612765,
             1610612765
            ],
            "coloraxis": "coloraxis",
            "size": [
             2.89189,
             1,
             1,
             1,
             1,
             1,
             1,
             1,
             1,
             1,
             1
            ],
            "sizemode": "area",
            "sizeref": 0.029588299999999998,
            "symbol": "circle"
           },
           "mode": "markers",
           "name": "",
           "orientation": "v",
           "showlegend": false,
           "type": "scatter",
           "x": [
            44.1401,
            15.59779,
            27.87204,
            18.48452,
            31.87976,
            12.73548,
            29.00077,
            45.8245,
            11.7164,
            14.96213,
            25.35477
           ],
           "xaxis": "x",
           "y": [
            24.72994,
            35.92412,
            24.85858,
            28.09708,
            23.48099,
            19.3074,
            26.1497,
            24.41839,
            11.53789,
            43.27336,
            27.65264
           ],
           "yaxis": "y"
          }
         ],
         "name": "149"
        },
        {
         "data": [
          {
           "hovertemplate": "MOMENT_NUM=150<br>LOC_X=%{x}<br>LOC_Y=%{y}<br>LOC_Z=%{marker.size}<br>TEAM_ID=%{marker.color}<extra></extra>",
           "ids": [
            -1,
            2594,
            200794,
            201143,
            201952,
            203145,
            101141,
            202704,
            202694,
            203484,
            203083
           ],
           "legendgroup": "",
           "marker": {
            "color": [
             -1,
             1610612737,
             1610612737,
             1610612737,
             1610612737,
             1610612737,
             1610612765,
             1610612765,
             1610612765,
             1610612765,
             1610612765
            ],
            "coloraxis": "coloraxis",
            "size": [
             3.36031,
             1,
             1,
             1,
             1,
             1,
             1,
             1,
             1,
             1,
             1
            ],
            "sizemode": "area",
            "sizeref": 0.029588299999999998,
            "symbol": "circle"
           },
           "mode": "markers",
           "name": "",
           "orientation": "v",
           "showlegend": false,
           "type": "scatter",
           "x": [
            43.91289,
            15.2764,
            27.54525,
            18.4598,
            31.89566,
            12.53488,
            28.68532,
            45.46978,
            11.38633,
            14.56702,
            25.19071
           ],
           "xaxis": "x",
           "y": [
            24.99891,
            36.09033,
            24.84218,
            28.18066,
            23.56022,
            19.01999,
            26.00971,
            24.52299,
            11.14297,
            43.49165,
            27.68948
           ],
           "yaxis": "y"
          }
         ],
         "name": "150"
        }
       ],
       "layout": {
        "coloraxis": {
         "colorbar": {
          "title": {
           "text": "TEAM_ID"
          }
         },
         "colorscale": [
          [
           0,
           "#0d0887"
          ],
          [
           0.1111111111111111,
           "#46039f"
          ],
          [
           0.2222222222222222,
           "#7201a8"
          ],
          [
           0.3333333333333333,
           "#9c179e"
          ],
          [
           0.4444444444444444,
           "#bd3786"
          ],
          [
           0.5555555555555556,
           "#d8576b"
          ],
          [
           0.6666666666666666,
           "#ed7953"
          ],
          [
           0.7777777777777778,
           "#fb9f3a"
          ],
          [
           0.8888888888888888,
           "#fdca26"
          ],
          [
           1,
           "#f0f921"
          ]
         ]
        },
        "legend": {
         "itemsizing": "constant",
         "tracegroupgap": 0
        },
        "margin": {
         "t": 60
        },
        "sliders": [
         {
          "active": 0,
          "currentvalue": {
           "prefix": "MOMENT_NUM="
          },
          "len": 0.9,
          "pad": {
           "b": 10,
           "t": 60
          },
          "steps": [
           {
            "args": [
             [
              "1"
             ],
             {
              "frame": {
               "duration": 0,
               "redraw": false
              },
              "fromcurrent": true,
              "mode": "immediate",
              "transition": {
               "duration": 0,
               "easing": "linear"
              }
             }
            ],
            "label": "1",
            "method": "animate"
           },
           {
            "args": [
             [
              "2"
             ],
             {
              "frame": {
               "duration": 0,
               "redraw": false
              },
              "fromcurrent": true,
              "mode": "immediate",
              "transition": {
               "duration": 0,
               "easing": "linear"
              }
             }
            ],
            "label": "2",
            "method": "animate"
           },
           {
            "args": [
             [
              "3"
             ],
             {
              "frame": {
               "duration": 0,
               "redraw": false
              },
              "fromcurrent": true,
              "mode": "immediate",
              "transition": {
               "duration": 0,
               "easing": "linear"
              }
             }
            ],
            "label": "3",
            "method": "animate"
           },
           {
            "args": [
             [
              "4"
             ],
             {
              "frame": {
               "duration": 0,
               "redraw": false
              },
              "fromcurrent": true,
              "mode": "immediate",
              "transition": {
               "duration": 0,
               "easing": "linear"
              }
             }
            ],
            "label": "4",
            "method": "animate"
           },
           {
            "args": [
             [
              "5"
             ],
             {
              "frame": {
               "duration": 0,
               "redraw": false
              },
              "fromcurrent": true,
              "mode": "immediate",
              "transition": {
               "duration": 0,
               "easing": "linear"
              }
             }
            ],
            "label": "5",
            "method": "animate"
           },
           {
            "args": [
             [
              "6"
             ],
             {
              "frame": {
               "duration": 0,
               "redraw": false
              },
              "fromcurrent": true,
              "mode": "immediate",
              "transition": {
               "duration": 0,
               "easing": "linear"
              }
             }
            ],
            "label": "6",
            "method": "animate"
           },
           {
            "args": [
             [
              "7"
             ],
             {
              "frame": {
               "duration": 0,
               "redraw": false
              },
              "fromcurrent": true,
              "mode": "immediate",
              "transition": {
               "duration": 0,
               "easing": "linear"
              }
             }
            ],
            "label": "7",
            "method": "animate"
           },
           {
            "args": [
             [
              "8"
             ],
             {
              "frame": {
               "duration": 0,
               "redraw": false
              },
              "fromcurrent": true,
              "mode": "immediate",
              "transition": {
               "duration": 0,
               "easing": "linear"
              }
             }
            ],
            "label": "8",
            "method": "animate"
           },
           {
            "args": [
             [
              "9"
             ],
             {
              "frame": {
               "duration": 0,
               "redraw": false
              },
              "fromcurrent": true,
              "mode": "immediate",
              "transition": {
               "duration": 0,
               "easing": "linear"
              }
             }
            ],
            "label": "9",
            "method": "animate"
           },
           {
            "args": [
             [
              "10"
             ],
             {
              "frame": {
               "duration": 0,
               "redraw": false
              },
              "fromcurrent": true,
              "mode": "immediate",
              "transition": {
               "duration": 0,
               "easing": "linear"
              }
             }
            ],
            "label": "10",
            "method": "animate"
           },
           {
            "args": [
             [
              "11"
             ],
             {
              "frame": {
               "duration": 0,
               "redraw": false
              },
              "fromcurrent": true,
              "mode": "immediate",
              "transition": {
               "duration": 0,
               "easing": "linear"
              }
             }
            ],
            "label": "11",
            "method": "animate"
           },
           {
            "args": [
             [
              "12"
             ],
             {
              "frame": {
               "duration": 0,
               "redraw": false
              },
              "fromcurrent": true,
              "mode": "immediate",
              "transition": {
               "duration": 0,
               "easing": "linear"
              }
             }
            ],
            "label": "12",
            "method": "animate"
           },
           {
            "args": [
             [
              "13"
             ],
             {
              "frame": {
               "duration": 0,
               "redraw": false
              },
              "fromcurrent": true,
              "mode": "immediate",
              "transition": {
               "duration": 0,
               "easing": "linear"
              }
             }
            ],
            "label": "13",
            "method": "animate"
           },
           {
            "args": [
             [
              "14"
             ],
             {
              "frame": {
               "duration": 0,
               "redraw": false
              },
              "fromcurrent": true,
              "mode": "immediate",
              "transition": {
               "duration": 0,
               "easing": "linear"
              }
             }
            ],
            "label": "14",
            "method": "animate"
           },
           {
            "args": [
             [
              "15"
             ],
             {
              "frame": {
               "duration": 0,
               "redraw": false
              },
              "fromcurrent": true,
              "mode": "immediate",
              "transition": {
               "duration": 0,
               "easing": "linear"
              }
             }
            ],
            "label": "15",
            "method": "animate"
           },
           {
            "args": [
             [
              "16"
             ],
             {
              "frame": {
               "duration": 0,
               "redraw": false
              },
              "fromcurrent": true,
              "mode": "immediate",
              "transition": {
               "duration": 0,
               "easing": "linear"
              }
             }
            ],
            "label": "16",
            "method": "animate"
           },
           {
            "args": [
             [
              "17"
             ],
             {
              "frame": {
               "duration": 0,
               "redraw": false
              },
              "fromcurrent": true,
              "mode": "immediate",
              "transition": {
               "duration": 0,
               "easing": "linear"
              }
             }
            ],
            "label": "17",
            "method": "animate"
           },
           {
            "args": [
             [
              "18"
             ],
             {
              "frame": {
               "duration": 0,
               "redraw": false
              },
              "fromcurrent": true,
              "mode": "immediate",
              "transition": {
               "duration": 0,
               "easing": "linear"
              }
             }
            ],
            "label": "18",
            "method": "animate"
           },
           {
            "args": [
             [
              "19"
             ],
             {
              "frame": {
               "duration": 0,
               "redraw": false
              },
              "fromcurrent": true,
              "mode": "immediate",
              "transition": {
               "duration": 0,
               "easing": "linear"
              }
             }
            ],
            "label": "19",
            "method": "animate"
           },
           {
            "args": [
             [
              "20"
             ],
             {
              "frame": {
               "duration": 0,
               "redraw": false
              },
              "fromcurrent": true,
              "mode": "immediate",
              "transition": {
               "duration": 0,
               "easing": "linear"
              }
             }
            ],
            "label": "20",
            "method": "animate"
           },
           {
            "args": [
             [
              "21"
             ],
             {
              "frame": {
               "duration": 0,
               "redraw": false
              },
              "fromcurrent": true,
              "mode": "immediate",
              "transition": {
               "duration": 0,
               "easing": "linear"
              }
             }
            ],
            "label": "21",
            "method": "animate"
           },
           {
            "args": [
             [
              "22"
             ],
             {
              "frame": {
               "duration": 0,
               "redraw": false
              },
              "fromcurrent": true,
              "mode": "immediate",
              "transition": {
               "duration": 0,
               "easing": "linear"
              }
             }
            ],
            "label": "22",
            "method": "animate"
           },
           {
            "args": [
             [
              "23"
             ],
             {
              "frame": {
               "duration": 0,
               "redraw": false
              },
              "fromcurrent": true,
              "mode": "immediate",
              "transition": {
               "duration": 0,
               "easing": "linear"
              }
             }
            ],
            "label": "23",
            "method": "animate"
           },
           {
            "args": [
             [
              "24"
             ],
             {
              "frame": {
               "duration": 0,
               "redraw": false
              },
              "fromcurrent": true,
              "mode": "immediate",
              "transition": {
               "duration": 0,
               "easing": "linear"
              }
             }
            ],
            "label": "24",
            "method": "animate"
           },
           {
            "args": [
             [
              "25"
             ],
             {
              "frame": {
               "duration": 0,
               "redraw": false
              },
              "fromcurrent": true,
              "mode": "immediate",
              "transition": {
               "duration": 0,
               "easing": "linear"
              }
             }
            ],
            "label": "25",
            "method": "animate"
           },
           {
            "args": [
             [
              "26"
             ],
             {
              "frame": {
               "duration": 0,
               "redraw": false
              },
              "fromcurrent": true,
              "mode": "immediate",
              "transition": {
               "duration": 0,
               "easing": "linear"
              }
             }
            ],
            "label": "26",
            "method": "animate"
           },
           {
            "args": [
             [
              "27"
             ],
             {
              "frame": {
               "duration": 0,
               "redraw": false
              },
              "fromcurrent": true,
              "mode": "immediate",
              "transition": {
               "duration": 0,
               "easing": "linear"
              }
             }
            ],
            "label": "27",
            "method": "animate"
           },
           {
            "args": [
             [
              "28"
             ],
             {
              "frame": {
               "duration": 0,
               "redraw": false
              },
              "fromcurrent": true,
              "mode": "immediate",
              "transition": {
               "duration": 0,
               "easing": "linear"
              }
             }
            ],
            "label": "28",
            "method": "animate"
           },
           {
            "args": [
             [
              "29"
             ],
             {
              "frame": {
               "duration": 0,
               "redraw": false
              },
              "fromcurrent": true,
              "mode": "immediate",
              "transition": {
               "duration": 0,
               "easing": "linear"
              }
             }
            ],
            "label": "29",
            "method": "animate"
           },
           {
            "args": [
             [
              "30"
             ],
             {
              "frame": {
               "duration": 0,
               "redraw": false
              },
              "fromcurrent": true,
              "mode": "immediate",
              "transition": {
               "duration": 0,
               "easing": "linear"
              }
             }
            ],
            "label": "30",
            "method": "animate"
           },
           {
            "args": [
             [
              "31"
             ],
             {
              "frame": {
               "duration": 0,
               "redraw": false
              },
              "fromcurrent": true,
              "mode": "immediate",
              "transition": {
               "duration": 0,
               "easing": "linear"
              }
             }
            ],
            "label": "31",
            "method": "animate"
           },
           {
            "args": [
             [
              "32"
             ],
             {
              "frame": {
               "duration": 0,
               "redraw": false
              },
              "fromcurrent": true,
              "mode": "immediate",
              "transition": {
               "duration": 0,
               "easing": "linear"
              }
             }
            ],
            "label": "32",
            "method": "animate"
           },
           {
            "args": [
             [
              "33"
             ],
             {
              "frame": {
               "duration": 0,
               "redraw": false
              },
              "fromcurrent": true,
              "mode": "immediate",
              "transition": {
               "duration": 0,
               "easing": "linear"
              }
             }
            ],
            "label": "33",
            "method": "animate"
           },
           {
            "args": [
             [
              "34"
             ],
             {
              "frame": {
               "duration": 0,
               "redraw": false
              },
              "fromcurrent": true,
              "mode": "immediate",
              "transition": {
               "duration": 0,
               "easing": "linear"
              }
             }
            ],
            "label": "34",
            "method": "animate"
           },
           {
            "args": [
             [
              "35"
             ],
             {
              "frame": {
               "duration": 0,
               "redraw": false
              },
              "fromcurrent": true,
              "mode": "immediate",
              "transition": {
               "duration": 0,
               "easing": "linear"
              }
             }
            ],
            "label": "35",
            "method": "animate"
           },
           {
            "args": [
             [
              "36"
             ],
             {
              "frame": {
               "duration": 0,
               "redraw": false
              },
              "fromcurrent": true,
              "mode": "immediate",
              "transition": {
               "duration": 0,
               "easing": "linear"
              }
             }
            ],
            "label": "36",
            "method": "animate"
           },
           {
            "args": [
             [
              "37"
             ],
             {
              "frame": {
               "duration": 0,
               "redraw": false
              },
              "fromcurrent": true,
              "mode": "immediate",
              "transition": {
               "duration": 0,
               "easing": "linear"
              }
             }
            ],
            "label": "37",
            "method": "animate"
           },
           {
            "args": [
             [
              "38"
             ],
             {
              "frame": {
               "duration": 0,
               "redraw": false
              },
              "fromcurrent": true,
              "mode": "immediate",
              "transition": {
               "duration": 0,
               "easing": "linear"
              }
             }
            ],
            "label": "38",
            "method": "animate"
           },
           {
            "args": [
             [
              "39"
             ],
             {
              "frame": {
               "duration": 0,
               "redraw": false
              },
              "fromcurrent": true,
              "mode": "immediate",
              "transition": {
               "duration": 0,
               "easing": "linear"
              }
             }
            ],
            "label": "39",
            "method": "animate"
           },
           {
            "args": [
             [
              "40"
             ],
             {
              "frame": {
               "duration": 0,
               "redraw": false
              },
              "fromcurrent": true,
              "mode": "immediate",
              "transition": {
               "duration": 0,
               "easing": "linear"
              }
             }
            ],
            "label": "40",
            "method": "animate"
           },
           {
            "args": [
             [
              "41"
             ],
             {
              "frame": {
               "duration": 0,
               "redraw": false
              },
              "fromcurrent": true,
              "mode": "immediate",
              "transition": {
               "duration": 0,
               "easing": "linear"
              }
             }
            ],
            "label": "41",
            "method": "animate"
           },
           {
            "args": [
             [
              "42"
             ],
             {
              "frame": {
               "duration": 0,
               "redraw": false
              },
              "fromcurrent": true,
              "mode": "immediate",
              "transition": {
               "duration": 0,
               "easing": "linear"
              }
             }
            ],
            "label": "42",
            "method": "animate"
           },
           {
            "args": [
             [
              "43"
             ],
             {
              "frame": {
               "duration": 0,
               "redraw": false
              },
              "fromcurrent": true,
              "mode": "immediate",
              "transition": {
               "duration": 0,
               "easing": "linear"
              }
             }
            ],
            "label": "43",
            "method": "animate"
           },
           {
            "args": [
             [
              "44"
             ],
             {
              "frame": {
               "duration": 0,
               "redraw": false
              },
              "fromcurrent": true,
              "mode": "immediate",
              "transition": {
               "duration": 0,
               "easing": "linear"
              }
             }
            ],
            "label": "44",
            "method": "animate"
           },
           {
            "args": [
             [
              "45"
             ],
             {
              "frame": {
               "duration": 0,
               "redraw": false
              },
              "fromcurrent": true,
              "mode": "immediate",
              "transition": {
               "duration": 0,
               "easing": "linear"
              }
             }
            ],
            "label": "45",
            "method": "animate"
           },
           {
            "args": [
             [
              "46"
             ],
             {
              "frame": {
               "duration": 0,
               "redraw": false
              },
              "fromcurrent": true,
              "mode": "immediate",
              "transition": {
               "duration": 0,
               "easing": "linear"
              }
             }
            ],
            "label": "46",
            "method": "animate"
           },
           {
            "args": [
             [
              "47"
             ],
             {
              "frame": {
               "duration": 0,
               "redraw": false
              },
              "fromcurrent": true,
              "mode": "immediate",
              "transition": {
               "duration": 0,
               "easing": "linear"
              }
             }
            ],
            "label": "47",
            "method": "animate"
           },
           {
            "args": [
             [
              "48"
             ],
             {
              "frame": {
               "duration": 0,
               "redraw": false
              },
              "fromcurrent": true,
              "mode": "immediate",
              "transition": {
               "duration": 0,
               "easing": "linear"
              }
             }
            ],
            "label": "48",
            "method": "animate"
           },
           {
            "args": [
             [
              "49"
             ],
             {
              "frame": {
               "duration": 0,
               "redraw": false
              },
              "fromcurrent": true,
              "mode": "immediate",
              "transition": {
               "duration": 0,
               "easing": "linear"
              }
             }
            ],
            "label": "49",
            "method": "animate"
           },
           {
            "args": [
             [
              "50"
             ],
             {
              "frame": {
               "duration": 0,
               "redraw": false
              },
              "fromcurrent": true,
              "mode": "immediate",
              "transition": {
               "duration": 0,
               "easing": "linear"
              }
             }
            ],
            "label": "50",
            "method": "animate"
           },
           {
            "args": [
             [
              "51"
             ],
             {
              "frame": {
               "duration": 0,
               "redraw": false
              },
              "fromcurrent": true,
              "mode": "immediate",
              "transition": {
               "duration": 0,
               "easing": "linear"
              }
             }
            ],
            "label": "51",
            "method": "animate"
           },
           {
            "args": [
             [
              "52"
             ],
             {
              "frame": {
               "duration": 0,
               "redraw": false
              },
              "fromcurrent": true,
              "mode": "immediate",
              "transition": {
               "duration": 0,
               "easing": "linear"
              }
             }
            ],
            "label": "52",
            "method": "animate"
           },
           {
            "args": [
             [
              "53"
             ],
             {
              "frame": {
               "duration": 0,
               "redraw": false
              },
              "fromcurrent": true,
              "mode": "immediate",
              "transition": {
               "duration": 0,
               "easing": "linear"
              }
             }
            ],
            "label": "53",
            "method": "animate"
           },
           {
            "args": [
             [
              "54"
             ],
             {
              "frame": {
               "duration": 0,
               "redraw": false
              },
              "fromcurrent": true,
              "mode": "immediate",
              "transition": {
               "duration": 0,
               "easing": "linear"
              }
             }
            ],
            "label": "54",
            "method": "animate"
           },
           {
            "args": [
             [
              "55"
             ],
             {
              "frame": {
               "duration": 0,
               "redraw": false
              },
              "fromcurrent": true,
              "mode": "immediate",
              "transition": {
               "duration": 0,
               "easing": "linear"
              }
             }
            ],
            "label": "55",
            "method": "animate"
           },
           {
            "args": [
             [
              "56"
             ],
             {
              "frame": {
               "duration": 0,
               "redraw": false
              },
              "fromcurrent": true,
              "mode": "immediate",
              "transition": {
               "duration": 0,
               "easing": "linear"
              }
             }
            ],
            "label": "56",
            "method": "animate"
           },
           {
            "args": [
             [
              "57"
             ],
             {
              "frame": {
               "duration": 0,
               "redraw": false
              },
              "fromcurrent": true,
              "mode": "immediate",
              "transition": {
               "duration": 0,
               "easing": "linear"
              }
             }
            ],
            "label": "57",
            "method": "animate"
           },
           {
            "args": [
             [
              "58"
             ],
             {
              "frame": {
               "duration": 0,
               "redraw": false
              },
              "fromcurrent": true,
              "mode": "immediate",
              "transition": {
               "duration": 0,
               "easing": "linear"
              }
             }
            ],
            "label": "58",
            "method": "animate"
           },
           {
            "args": [
             [
              "59"
             ],
             {
              "frame": {
               "duration": 0,
               "redraw": false
              },
              "fromcurrent": true,
              "mode": "immediate",
              "transition": {
               "duration": 0,
               "easing": "linear"
              }
             }
            ],
            "label": "59",
            "method": "animate"
           },
           {
            "args": [
             [
              "60"
             ],
             {
              "frame": {
               "duration": 0,
               "redraw": false
              },
              "fromcurrent": true,
              "mode": "immediate",
              "transition": {
               "duration": 0,
               "easing": "linear"
              }
             }
            ],
            "label": "60",
            "method": "animate"
           },
           {
            "args": [
             [
              "61"
             ],
             {
              "frame": {
               "duration": 0,
               "redraw": false
              },
              "fromcurrent": true,
              "mode": "immediate",
              "transition": {
               "duration": 0,
               "easing": "linear"
              }
             }
            ],
            "label": "61",
            "method": "animate"
           },
           {
            "args": [
             [
              "62"
             ],
             {
              "frame": {
               "duration": 0,
               "redraw": false
              },
              "fromcurrent": true,
              "mode": "immediate",
              "transition": {
               "duration": 0,
               "easing": "linear"
              }
             }
            ],
            "label": "62",
            "method": "animate"
           },
           {
            "args": [
             [
              "63"
             ],
             {
              "frame": {
               "duration": 0,
               "redraw": false
              },
              "fromcurrent": true,
              "mode": "immediate",
              "transition": {
               "duration": 0,
               "easing": "linear"
              }
             }
            ],
            "label": "63",
            "method": "animate"
           },
           {
            "args": [
             [
              "64"
             ],
             {
              "frame": {
               "duration": 0,
               "redraw": false
              },
              "fromcurrent": true,
              "mode": "immediate",
              "transition": {
               "duration": 0,
               "easing": "linear"
              }
             }
            ],
            "label": "64",
            "method": "animate"
           },
           {
            "args": [
             [
              "65"
             ],
             {
              "frame": {
               "duration": 0,
               "redraw": false
              },
              "fromcurrent": true,
              "mode": "immediate",
              "transition": {
               "duration": 0,
               "easing": "linear"
              }
             }
            ],
            "label": "65",
            "method": "animate"
           },
           {
            "args": [
             [
              "66"
             ],
             {
              "frame": {
               "duration": 0,
               "redraw": false
              },
              "fromcurrent": true,
              "mode": "immediate",
              "transition": {
               "duration": 0,
               "easing": "linear"
              }
             }
            ],
            "label": "66",
            "method": "animate"
           },
           {
            "args": [
             [
              "67"
             ],
             {
              "frame": {
               "duration": 0,
               "redraw": false
              },
              "fromcurrent": true,
              "mode": "immediate",
              "transition": {
               "duration": 0,
               "easing": "linear"
              }
             }
            ],
            "label": "67",
            "method": "animate"
           },
           {
            "args": [
             [
              "68"
             ],
             {
              "frame": {
               "duration": 0,
               "redraw": false
              },
              "fromcurrent": true,
              "mode": "immediate",
              "transition": {
               "duration": 0,
               "easing": "linear"
              }
             }
            ],
            "label": "68",
            "method": "animate"
           },
           {
            "args": [
             [
              "69"
             ],
             {
              "frame": {
               "duration": 0,
               "redraw": false
              },
              "fromcurrent": true,
              "mode": "immediate",
              "transition": {
               "duration": 0,
               "easing": "linear"
              }
             }
            ],
            "label": "69",
            "method": "animate"
           },
           {
            "args": [
             [
              "70"
             ],
             {
              "frame": {
               "duration": 0,
               "redraw": false
              },
              "fromcurrent": true,
              "mode": "immediate",
              "transition": {
               "duration": 0,
               "easing": "linear"
              }
             }
            ],
            "label": "70",
            "method": "animate"
           },
           {
            "args": [
             [
              "71"
             ],
             {
              "frame": {
               "duration": 0,
               "redraw": false
              },
              "fromcurrent": true,
              "mode": "immediate",
              "transition": {
               "duration": 0,
               "easing": "linear"
              }
             }
            ],
            "label": "71",
            "method": "animate"
           },
           {
            "args": [
             [
              "72"
             ],
             {
              "frame": {
               "duration": 0,
               "redraw": false
              },
              "fromcurrent": true,
              "mode": "immediate",
              "transition": {
               "duration": 0,
               "easing": "linear"
              }
             }
            ],
            "label": "72",
            "method": "animate"
           },
           {
            "args": [
             [
              "73"
             ],
             {
              "frame": {
               "duration": 0,
               "redraw": false
              },
              "fromcurrent": true,
              "mode": "immediate",
              "transition": {
               "duration": 0,
               "easing": "linear"
              }
             }
            ],
            "label": "73",
            "method": "animate"
           },
           {
            "args": [
             [
              "74"
             ],
             {
              "frame": {
               "duration": 0,
               "redraw": false
              },
              "fromcurrent": true,
              "mode": "immediate",
              "transition": {
               "duration": 0,
               "easing": "linear"
              }
             }
            ],
            "label": "74",
            "method": "animate"
           },
           {
            "args": [
             [
              "75"
             ],
             {
              "frame": {
               "duration": 0,
               "redraw": false
              },
              "fromcurrent": true,
              "mode": "immediate",
              "transition": {
               "duration": 0,
               "easing": "linear"
              }
             }
            ],
            "label": "75",
            "method": "animate"
           },
           {
            "args": [
             [
              "76"
             ],
             {
              "frame": {
               "duration": 0,
               "redraw": false
              },
              "fromcurrent": true,
              "mode": "immediate",
              "transition": {
               "duration": 0,
               "easing": "linear"
              }
             }
            ],
            "label": "76",
            "method": "animate"
           },
           {
            "args": [
             [
              "77"
             ],
             {
              "frame": {
               "duration": 0,
               "redraw": false
              },
              "fromcurrent": true,
              "mode": "immediate",
              "transition": {
               "duration": 0,
               "easing": "linear"
              }
             }
            ],
            "label": "77",
            "method": "animate"
           },
           {
            "args": [
             [
              "78"
             ],
             {
              "frame": {
               "duration": 0,
               "redraw": false
              },
              "fromcurrent": true,
              "mode": "immediate",
              "transition": {
               "duration": 0,
               "easing": "linear"
              }
             }
            ],
            "label": "78",
            "method": "animate"
           },
           {
            "args": [
             [
              "79"
             ],
             {
              "frame": {
               "duration": 0,
               "redraw": false
              },
              "fromcurrent": true,
              "mode": "immediate",
              "transition": {
               "duration": 0,
               "easing": "linear"
              }
             }
            ],
            "label": "79",
            "method": "animate"
           },
           {
            "args": [
             [
              "80"
             ],
             {
              "frame": {
               "duration": 0,
               "redraw": false
              },
              "fromcurrent": true,
              "mode": "immediate",
              "transition": {
               "duration": 0,
               "easing": "linear"
              }
             }
            ],
            "label": "80",
            "method": "animate"
           },
           {
            "args": [
             [
              "81"
             ],
             {
              "frame": {
               "duration": 0,
               "redraw": false
              },
              "fromcurrent": true,
              "mode": "immediate",
              "transition": {
               "duration": 0,
               "easing": "linear"
              }
             }
            ],
            "label": "81",
            "method": "animate"
           },
           {
            "args": [
             [
              "82"
             ],
             {
              "frame": {
               "duration": 0,
               "redraw": false
              },
              "fromcurrent": true,
              "mode": "immediate",
              "transition": {
               "duration": 0,
               "easing": "linear"
              }
             }
            ],
            "label": "82",
            "method": "animate"
           },
           {
            "args": [
             [
              "83"
             ],
             {
              "frame": {
               "duration": 0,
               "redraw": false
              },
              "fromcurrent": true,
              "mode": "immediate",
              "transition": {
               "duration": 0,
               "easing": "linear"
              }
             }
            ],
            "label": "83",
            "method": "animate"
           },
           {
            "args": [
             [
              "84"
             ],
             {
              "frame": {
               "duration": 0,
               "redraw": false
              },
              "fromcurrent": true,
              "mode": "immediate",
              "transition": {
               "duration": 0,
               "easing": "linear"
              }
             }
            ],
            "label": "84",
            "method": "animate"
           },
           {
            "args": [
             [
              "85"
             ],
             {
              "frame": {
               "duration": 0,
               "redraw": false
              },
              "fromcurrent": true,
              "mode": "immediate",
              "transition": {
               "duration": 0,
               "easing": "linear"
              }
             }
            ],
            "label": "85",
            "method": "animate"
           },
           {
            "args": [
             [
              "86"
             ],
             {
              "frame": {
               "duration": 0,
               "redraw": false
              },
              "fromcurrent": true,
              "mode": "immediate",
              "transition": {
               "duration": 0,
               "easing": "linear"
              }
             }
            ],
            "label": "86",
            "method": "animate"
           },
           {
            "args": [
             [
              "87"
             ],
             {
              "frame": {
               "duration": 0,
               "redraw": false
              },
              "fromcurrent": true,
              "mode": "immediate",
              "transition": {
               "duration": 0,
               "easing": "linear"
              }
             }
            ],
            "label": "87",
            "method": "animate"
           },
           {
            "args": [
             [
              "88"
             ],
             {
              "frame": {
               "duration": 0,
               "redraw": false
              },
              "fromcurrent": true,
              "mode": "immediate",
              "transition": {
               "duration": 0,
               "easing": "linear"
              }
             }
            ],
            "label": "88",
            "method": "animate"
           },
           {
            "args": [
             [
              "89"
             ],
             {
              "frame": {
               "duration": 0,
               "redraw": false
              },
              "fromcurrent": true,
              "mode": "immediate",
              "transition": {
               "duration": 0,
               "easing": "linear"
              }
             }
            ],
            "label": "89",
            "method": "animate"
           },
           {
            "args": [
             [
              "90"
             ],
             {
              "frame": {
               "duration": 0,
               "redraw": false
              },
              "fromcurrent": true,
              "mode": "immediate",
              "transition": {
               "duration": 0,
               "easing": "linear"
              }
             }
            ],
            "label": "90",
            "method": "animate"
           },
           {
            "args": [
             [
              "91"
             ],
             {
              "frame": {
               "duration": 0,
               "redraw": false
              },
              "fromcurrent": true,
              "mode": "immediate",
              "transition": {
               "duration": 0,
               "easing": "linear"
              }
             }
            ],
            "label": "91",
            "method": "animate"
           },
           {
            "args": [
             [
              "92"
             ],
             {
              "frame": {
               "duration": 0,
               "redraw": false
              },
              "fromcurrent": true,
              "mode": "immediate",
              "transition": {
               "duration": 0,
               "easing": "linear"
              }
             }
            ],
            "label": "92",
            "method": "animate"
           },
           {
            "args": [
             [
              "93"
             ],
             {
              "frame": {
               "duration": 0,
               "redraw": false
              },
              "fromcurrent": true,
              "mode": "immediate",
              "transition": {
               "duration": 0,
               "easing": "linear"
              }
             }
            ],
            "label": "93",
            "method": "animate"
           },
           {
            "args": [
             [
              "94"
             ],
             {
              "frame": {
               "duration": 0,
               "redraw": false
              },
              "fromcurrent": true,
              "mode": "immediate",
              "transition": {
               "duration": 0,
               "easing": "linear"
              }
             }
            ],
            "label": "94",
            "method": "animate"
           },
           {
            "args": [
             [
              "95"
             ],
             {
              "frame": {
               "duration": 0,
               "redraw": false
              },
              "fromcurrent": true,
              "mode": "immediate",
              "transition": {
               "duration": 0,
               "easing": "linear"
              }
             }
            ],
            "label": "95",
            "method": "animate"
           },
           {
            "args": [
             [
              "96"
             ],
             {
              "frame": {
               "duration": 0,
               "redraw": false
              },
              "fromcurrent": true,
              "mode": "immediate",
              "transition": {
               "duration": 0,
               "easing": "linear"
              }
             }
            ],
            "label": "96",
            "method": "animate"
           },
           {
            "args": [
             [
              "97"
             ],
             {
              "frame": {
               "duration": 0,
               "redraw": false
              },
              "fromcurrent": true,
              "mode": "immediate",
              "transition": {
               "duration": 0,
               "easing": "linear"
              }
             }
            ],
            "label": "97",
            "method": "animate"
           },
           {
            "args": [
             [
              "98"
             ],
             {
              "frame": {
               "duration": 0,
               "redraw": false
              },
              "fromcurrent": true,
              "mode": "immediate",
              "transition": {
               "duration": 0,
               "easing": "linear"
              }
             }
            ],
            "label": "98",
            "method": "animate"
           },
           {
            "args": [
             [
              "99"
             ],
             {
              "frame": {
               "duration": 0,
               "redraw": false
              },
              "fromcurrent": true,
              "mode": "immediate",
              "transition": {
               "duration": 0,
               "easing": "linear"
              }
             }
            ],
            "label": "99",
            "method": "animate"
           },
           {
            "args": [
             [
              "100"
             ],
             {
              "frame": {
               "duration": 0,
               "redraw": false
              },
              "fromcurrent": true,
              "mode": "immediate",
              "transition": {
               "duration": 0,
               "easing": "linear"
              }
             }
            ],
            "label": "100",
            "method": "animate"
           },
           {
            "args": [
             [
              "101"
             ],
             {
              "frame": {
               "duration": 0,
               "redraw": false
              },
              "fromcurrent": true,
              "mode": "immediate",
              "transition": {
               "duration": 0,
               "easing": "linear"
              }
             }
            ],
            "label": "101",
            "method": "animate"
           },
           {
            "args": [
             [
              "102"
             ],
             {
              "frame": {
               "duration": 0,
               "redraw": false
              },
              "fromcurrent": true,
              "mode": "immediate",
              "transition": {
               "duration": 0,
               "easing": "linear"
              }
             }
            ],
            "label": "102",
            "method": "animate"
           },
           {
            "args": [
             [
              "103"
             ],
             {
              "frame": {
               "duration": 0,
               "redraw": false
              },
              "fromcurrent": true,
              "mode": "immediate",
              "transition": {
               "duration": 0,
               "easing": "linear"
              }
             }
            ],
            "label": "103",
            "method": "animate"
           },
           {
            "args": [
             [
              "104"
             ],
             {
              "frame": {
               "duration": 0,
               "redraw": false
              },
              "fromcurrent": true,
              "mode": "immediate",
              "transition": {
               "duration": 0,
               "easing": "linear"
              }
             }
            ],
            "label": "104",
            "method": "animate"
           },
           {
            "args": [
             [
              "105"
             ],
             {
              "frame": {
               "duration": 0,
               "redraw": false
              },
              "fromcurrent": true,
              "mode": "immediate",
              "transition": {
               "duration": 0,
               "easing": "linear"
              }
             }
            ],
            "label": "105",
            "method": "animate"
           },
           {
            "args": [
             [
              "106"
             ],
             {
              "frame": {
               "duration": 0,
               "redraw": false
              },
              "fromcurrent": true,
              "mode": "immediate",
              "transition": {
               "duration": 0,
               "easing": "linear"
              }
             }
            ],
            "label": "106",
            "method": "animate"
           },
           {
            "args": [
             [
              "107"
             ],
             {
              "frame": {
               "duration": 0,
               "redraw": false
              },
              "fromcurrent": true,
              "mode": "immediate",
              "transition": {
               "duration": 0,
               "easing": "linear"
              }
             }
            ],
            "label": "107",
            "method": "animate"
           },
           {
            "args": [
             [
              "108"
             ],
             {
              "frame": {
               "duration": 0,
               "redraw": false
              },
              "fromcurrent": true,
              "mode": "immediate",
              "transition": {
               "duration": 0,
               "easing": "linear"
              }
             }
            ],
            "label": "108",
            "method": "animate"
           },
           {
            "args": [
             [
              "109"
             ],
             {
              "frame": {
               "duration": 0,
               "redraw": false
              },
              "fromcurrent": true,
              "mode": "immediate",
              "transition": {
               "duration": 0,
               "easing": "linear"
              }
             }
            ],
            "label": "109",
            "method": "animate"
           },
           {
            "args": [
             [
              "110"
             ],
             {
              "frame": {
               "duration": 0,
               "redraw": false
              },
              "fromcurrent": true,
              "mode": "immediate",
              "transition": {
               "duration": 0,
               "easing": "linear"
              }
             }
            ],
            "label": "110",
            "method": "animate"
           },
           {
            "args": [
             [
              "111"
             ],
             {
              "frame": {
               "duration": 0,
               "redraw": false
              },
              "fromcurrent": true,
              "mode": "immediate",
              "transition": {
               "duration": 0,
               "easing": "linear"
              }
             }
            ],
            "label": "111",
            "method": "animate"
           },
           {
            "args": [
             [
              "112"
             ],
             {
              "frame": {
               "duration": 0,
               "redraw": false
              },
              "fromcurrent": true,
              "mode": "immediate",
              "transition": {
               "duration": 0,
               "easing": "linear"
              }
             }
            ],
            "label": "112",
            "method": "animate"
           },
           {
            "args": [
             [
              "113"
             ],
             {
              "frame": {
               "duration": 0,
               "redraw": false
              },
              "fromcurrent": true,
              "mode": "immediate",
              "transition": {
               "duration": 0,
               "easing": "linear"
              }
             }
            ],
            "label": "113",
            "method": "animate"
           },
           {
            "args": [
             [
              "114"
             ],
             {
              "frame": {
               "duration": 0,
               "redraw": false
              },
              "fromcurrent": true,
              "mode": "immediate",
              "transition": {
               "duration": 0,
               "easing": "linear"
              }
             }
            ],
            "label": "114",
            "method": "animate"
           },
           {
            "args": [
             [
              "115"
             ],
             {
              "frame": {
               "duration": 0,
               "redraw": false
              },
              "fromcurrent": true,
              "mode": "immediate",
              "transition": {
               "duration": 0,
               "easing": "linear"
              }
             }
            ],
            "label": "115",
            "method": "animate"
           },
           {
            "args": [
             [
              "116"
             ],
             {
              "frame": {
               "duration": 0,
               "redraw": false
              },
              "fromcurrent": true,
              "mode": "immediate",
              "transition": {
               "duration": 0,
               "easing": "linear"
              }
             }
            ],
            "label": "116",
            "method": "animate"
           },
           {
            "args": [
             [
              "117"
             ],
             {
              "frame": {
               "duration": 0,
               "redraw": false
              },
              "fromcurrent": true,
              "mode": "immediate",
              "transition": {
               "duration": 0,
               "easing": "linear"
              }
             }
            ],
            "label": "117",
            "method": "animate"
           },
           {
            "args": [
             [
              "118"
             ],
             {
              "frame": {
               "duration": 0,
               "redraw": false
              },
              "fromcurrent": true,
              "mode": "immediate",
              "transition": {
               "duration": 0,
               "easing": "linear"
              }
             }
            ],
            "label": "118",
            "method": "animate"
           },
           {
            "args": [
             [
              "119"
             ],
             {
              "frame": {
               "duration": 0,
               "redraw": false
              },
              "fromcurrent": true,
              "mode": "immediate",
              "transition": {
               "duration": 0,
               "easing": "linear"
              }
             }
            ],
            "label": "119",
            "method": "animate"
           },
           {
            "args": [
             [
              "120"
             ],
             {
              "frame": {
               "duration": 0,
               "redraw": false
              },
              "fromcurrent": true,
              "mode": "immediate",
              "transition": {
               "duration": 0,
               "easing": "linear"
              }
             }
            ],
            "label": "120",
            "method": "animate"
           },
           {
            "args": [
             [
              "121"
             ],
             {
              "frame": {
               "duration": 0,
               "redraw": false
              },
              "fromcurrent": true,
              "mode": "immediate",
              "transition": {
               "duration": 0,
               "easing": "linear"
              }
             }
            ],
            "label": "121",
            "method": "animate"
           },
           {
            "args": [
             [
              "122"
             ],
             {
              "frame": {
               "duration": 0,
               "redraw": false
              },
              "fromcurrent": true,
              "mode": "immediate",
              "transition": {
               "duration": 0,
               "easing": "linear"
              }
             }
            ],
            "label": "122",
            "method": "animate"
           },
           {
            "args": [
             [
              "123"
             ],
             {
              "frame": {
               "duration": 0,
               "redraw": false
              },
              "fromcurrent": true,
              "mode": "immediate",
              "transition": {
               "duration": 0,
               "easing": "linear"
              }
             }
            ],
            "label": "123",
            "method": "animate"
           },
           {
            "args": [
             [
              "124"
             ],
             {
              "frame": {
               "duration": 0,
               "redraw": false
              },
              "fromcurrent": true,
              "mode": "immediate",
              "transition": {
               "duration": 0,
               "easing": "linear"
              }
             }
            ],
            "label": "124",
            "method": "animate"
           },
           {
            "args": [
             [
              "125"
             ],
             {
              "frame": {
               "duration": 0,
               "redraw": false
              },
              "fromcurrent": true,
              "mode": "immediate",
              "transition": {
               "duration": 0,
               "easing": "linear"
              }
             }
            ],
            "label": "125",
            "method": "animate"
           },
           {
            "args": [
             [
              "126"
             ],
             {
              "frame": {
               "duration": 0,
               "redraw": false
              },
              "fromcurrent": true,
              "mode": "immediate",
              "transition": {
               "duration": 0,
               "easing": "linear"
              }
             }
            ],
            "label": "126",
            "method": "animate"
           },
           {
            "args": [
             [
              "127"
             ],
             {
              "frame": {
               "duration": 0,
               "redraw": false
              },
              "fromcurrent": true,
              "mode": "immediate",
              "transition": {
               "duration": 0,
               "easing": "linear"
              }
             }
            ],
            "label": "127",
            "method": "animate"
           },
           {
            "args": [
             [
              "128"
             ],
             {
              "frame": {
               "duration": 0,
               "redraw": false
              },
              "fromcurrent": true,
              "mode": "immediate",
              "transition": {
               "duration": 0,
               "easing": "linear"
              }
             }
            ],
            "label": "128",
            "method": "animate"
           },
           {
            "args": [
             [
              "129"
             ],
             {
              "frame": {
               "duration": 0,
               "redraw": false
              },
              "fromcurrent": true,
              "mode": "immediate",
              "transition": {
               "duration": 0,
               "easing": "linear"
              }
             }
            ],
            "label": "129",
            "method": "animate"
           },
           {
            "args": [
             [
              "130"
             ],
             {
              "frame": {
               "duration": 0,
               "redraw": false
              },
              "fromcurrent": true,
              "mode": "immediate",
              "transition": {
               "duration": 0,
               "easing": "linear"
              }
             }
            ],
            "label": "130",
            "method": "animate"
           },
           {
            "args": [
             [
              "131"
             ],
             {
              "frame": {
               "duration": 0,
               "redraw": false
              },
              "fromcurrent": true,
              "mode": "immediate",
              "transition": {
               "duration": 0,
               "easing": "linear"
              }
             }
            ],
            "label": "131",
            "method": "animate"
           },
           {
            "args": [
             [
              "132"
             ],
             {
              "frame": {
               "duration": 0,
               "redraw": false
              },
              "fromcurrent": true,
              "mode": "immediate",
              "transition": {
               "duration": 0,
               "easing": "linear"
              }
             }
            ],
            "label": "132",
            "method": "animate"
           },
           {
            "args": [
             [
              "133"
             ],
             {
              "frame": {
               "duration": 0,
               "redraw": false
              },
              "fromcurrent": true,
              "mode": "immediate",
              "transition": {
               "duration": 0,
               "easing": "linear"
              }
             }
            ],
            "label": "133",
            "method": "animate"
           },
           {
            "args": [
             [
              "134"
             ],
             {
              "frame": {
               "duration": 0,
               "redraw": false
              },
              "fromcurrent": true,
              "mode": "immediate",
              "transition": {
               "duration": 0,
               "easing": "linear"
              }
             }
            ],
            "label": "134",
            "method": "animate"
           },
           {
            "args": [
             [
              "135"
             ],
             {
              "frame": {
               "duration": 0,
               "redraw": false
              },
              "fromcurrent": true,
              "mode": "immediate",
              "transition": {
               "duration": 0,
               "easing": "linear"
              }
             }
            ],
            "label": "135",
            "method": "animate"
           },
           {
            "args": [
             [
              "136"
             ],
             {
              "frame": {
               "duration": 0,
               "redraw": false
              },
              "fromcurrent": true,
              "mode": "immediate",
              "transition": {
               "duration": 0,
               "easing": "linear"
              }
             }
            ],
            "label": "136",
            "method": "animate"
           },
           {
            "args": [
             [
              "137"
             ],
             {
              "frame": {
               "duration": 0,
               "redraw": false
              },
              "fromcurrent": true,
              "mode": "immediate",
              "transition": {
               "duration": 0,
               "easing": "linear"
              }
             }
            ],
            "label": "137",
            "method": "animate"
           },
           {
            "args": [
             [
              "138"
             ],
             {
              "frame": {
               "duration": 0,
               "redraw": false
              },
              "fromcurrent": true,
              "mode": "immediate",
              "transition": {
               "duration": 0,
               "easing": "linear"
              }
             }
            ],
            "label": "138",
            "method": "animate"
           },
           {
            "args": [
             [
              "139"
             ],
             {
              "frame": {
               "duration": 0,
               "redraw": false
              },
              "fromcurrent": true,
              "mode": "immediate",
              "transition": {
               "duration": 0,
               "easing": "linear"
              }
             }
            ],
            "label": "139",
            "method": "animate"
           },
           {
            "args": [
             [
              "140"
             ],
             {
              "frame": {
               "duration": 0,
               "redraw": false
              },
              "fromcurrent": true,
              "mode": "immediate",
              "transition": {
               "duration": 0,
               "easing": "linear"
              }
             }
            ],
            "label": "140",
            "method": "animate"
           },
           {
            "args": [
             [
              "141"
             ],
             {
              "frame": {
               "duration": 0,
               "redraw": false
              },
              "fromcurrent": true,
              "mode": "immediate",
              "transition": {
               "duration": 0,
               "easing": "linear"
              }
             }
            ],
            "label": "141",
            "method": "animate"
           },
           {
            "args": [
             [
              "142"
             ],
             {
              "frame": {
               "duration": 0,
               "redraw": false
              },
              "fromcurrent": true,
              "mode": "immediate",
              "transition": {
               "duration": 0,
               "easing": "linear"
              }
             }
            ],
            "label": "142",
            "method": "animate"
           },
           {
            "args": [
             [
              "143"
             ],
             {
              "frame": {
               "duration": 0,
               "redraw": false
              },
              "fromcurrent": true,
              "mode": "immediate",
              "transition": {
               "duration": 0,
               "easing": "linear"
              }
             }
            ],
            "label": "143",
            "method": "animate"
           },
           {
            "args": [
             [
              "144"
             ],
             {
              "frame": {
               "duration": 0,
               "redraw": false
              },
              "fromcurrent": true,
              "mode": "immediate",
              "transition": {
               "duration": 0,
               "easing": "linear"
              }
             }
            ],
            "label": "144",
            "method": "animate"
           },
           {
            "args": [
             [
              "145"
             ],
             {
              "frame": {
               "duration": 0,
               "redraw": false
              },
              "fromcurrent": true,
              "mode": "immediate",
              "transition": {
               "duration": 0,
               "easing": "linear"
              }
             }
            ],
            "label": "145",
            "method": "animate"
           },
           {
            "args": [
             [
              "146"
             ],
             {
              "frame": {
               "duration": 0,
               "redraw": false
              },
              "fromcurrent": true,
              "mode": "immediate",
              "transition": {
               "duration": 0,
               "easing": "linear"
              }
             }
            ],
            "label": "146",
            "method": "animate"
           },
           {
            "args": [
             [
              "147"
             ],
             {
              "frame": {
               "duration": 0,
               "redraw": false
              },
              "fromcurrent": true,
              "mode": "immediate",
              "transition": {
               "duration": 0,
               "easing": "linear"
              }
             }
            ],
            "label": "147",
            "method": "animate"
           },
           {
            "args": [
             [
              "148"
             ],
             {
              "frame": {
               "duration": 0,
               "redraw": false
              },
              "fromcurrent": true,
              "mode": "immediate",
              "transition": {
               "duration": 0,
               "easing": "linear"
              }
             }
            ],
            "label": "148",
            "method": "animate"
           },
           {
            "args": [
             [
              "149"
             ],
             {
              "frame": {
               "duration": 0,
               "redraw": false
              },
              "fromcurrent": true,
              "mode": "immediate",
              "transition": {
               "duration": 0,
               "easing": "linear"
              }
             }
            ],
            "label": "149",
            "method": "animate"
           },
           {
            "args": [
             [
              "150"
             ],
             {
              "frame": {
               "duration": 0,
               "redraw": false
              },
              "fromcurrent": true,
              "mode": "immediate",
              "transition": {
               "duration": 0,
               "easing": "linear"
              }
             }
            ],
            "label": "150",
            "method": "animate"
           }
          ],
          "x": 0.1,
          "xanchor": "left",
          "y": 0,
          "yanchor": "top"
         }
        ],
        "template": {
         "data": {
          "bar": [
           {
            "error_x": {
             "color": "#2a3f5f"
            },
            "error_y": {
             "color": "#2a3f5f"
            },
            "marker": {
             "line": {
              "color": "#E5ECF6",
              "width": 0.5
             },
             "pattern": {
              "fillmode": "overlay",
              "size": 10,
              "solidity": 0.2
             }
            },
            "type": "bar"
           }
          ],
          "barpolar": [
           {
            "marker": {
             "line": {
              "color": "#E5ECF6",
              "width": 0.5
             },
             "pattern": {
              "fillmode": "overlay",
              "size": 10,
              "solidity": 0.2
             }
            },
            "type": "barpolar"
           }
          ],
          "carpet": [
           {
            "aaxis": {
             "endlinecolor": "#2a3f5f",
             "gridcolor": "white",
             "linecolor": "white",
             "minorgridcolor": "white",
             "startlinecolor": "#2a3f5f"
            },
            "baxis": {
             "endlinecolor": "#2a3f5f",
             "gridcolor": "white",
             "linecolor": "white",
             "minorgridcolor": "white",
             "startlinecolor": "#2a3f5f"
            },
            "type": "carpet"
           }
          ],
          "choropleth": [
           {
            "colorbar": {
             "outlinewidth": 0,
             "ticks": ""
            },
            "type": "choropleth"
           }
          ],
          "contour": [
           {
            "colorbar": {
             "outlinewidth": 0,
             "ticks": ""
            },
            "colorscale": [
             [
              0,
              "#0d0887"
             ],
             [
              0.1111111111111111,
              "#46039f"
             ],
             [
              0.2222222222222222,
              "#7201a8"
             ],
             [
              0.3333333333333333,
              "#9c179e"
             ],
             [
              0.4444444444444444,
              "#bd3786"
             ],
             [
              0.5555555555555556,
              "#d8576b"
             ],
             [
              0.6666666666666666,
              "#ed7953"
             ],
             [
              0.7777777777777778,
              "#fb9f3a"
             ],
             [
              0.8888888888888888,
              "#fdca26"
             ],
             [
              1,
              "#f0f921"
             ]
            ],
            "type": "contour"
           }
          ],
          "contourcarpet": [
           {
            "colorbar": {
             "outlinewidth": 0,
             "ticks": ""
            },
            "type": "contourcarpet"
           }
          ],
          "heatmap": [
           {
            "colorbar": {
             "outlinewidth": 0,
             "ticks": ""
            },
            "colorscale": [
             [
              0,
              "#0d0887"
             ],
             [
              0.1111111111111111,
              "#46039f"
             ],
             [
              0.2222222222222222,
              "#7201a8"
             ],
             [
              0.3333333333333333,
              "#9c179e"
             ],
             [
              0.4444444444444444,
              "#bd3786"
             ],
             [
              0.5555555555555556,
              "#d8576b"
             ],
             [
              0.6666666666666666,
              "#ed7953"
             ],
             [
              0.7777777777777778,
              "#fb9f3a"
             ],
             [
              0.8888888888888888,
              "#fdca26"
             ],
             [
              1,
              "#f0f921"
             ]
            ],
            "type": "heatmap"
           }
          ],
          "heatmapgl": [
           {
            "colorbar": {
             "outlinewidth": 0,
             "ticks": ""
            },
            "colorscale": [
             [
              0,
              "#0d0887"
             ],
             [
              0.1111111111111111,
              "#46039f"
             ],
             [
              0.2222222222222222,
              "#7201a8"
             ],
             [
              0.3333333333333333,
              "#9c179e"
             ],
             [
              0.4444444444444444,
              "#bd3786"
             ],
             [
              0.5555555555555556,
              "#d8576b"
             ],
             [
              0.6666666666666666,
              "#ed7953"
             ],
             [
              0.7777777777777778,
              "#fb9f3a"
             ],
             [
              0.8888888888888888,
              "#fdca26"
             ],
             [
              1,
              "#f0f921"
             ]
            ],
            "type": "heatmapgl"
           }
          ],
          "histogram": [
           {
            "marker": {
             "pattern": {
              "fillmode": "overlay",
              "size": 10,
              "solidity": 0.2
             }
            },
            "type": "histogram"
           }
          ],
          "histogram2d": [
           {
            "colorbar": {
             "outlinewidth": 0,
             "ticks": ""
            },
            "colorscale": [
             [
              0,
              "#0d0887"
             ],
             [
              0.1111111111111111,
              "#46039f"
             ],
             [
              0.2222222222222222,
              "#7201a8"
             ],
             [
              0.3333333333333333,
              "#9c179e"
             ],
             [
              0.4444444444444444,
              "#bd3786"
             ],
             [
              0.5555555555555556,
              "#d8576b"
             ],
             [
              0.6666666666666666,
              "#ed7953"
             ],
             [
              0.7777777777777778,
              "#fb9f3a"
             ],
             [
              0.8888888888888888,
              "#fdca26"
             ],
             [
              1,
              "#f0f921"
             ]
            ],
            "type": "histogram2d"
           }
          ],
          "histogram2dcontour": [
           {
            "colorbar": {
             "outlinewidth": 0,
             "ticks": ""
            },
            "colorscale": [
             [
              0,
              "#0d0887"
             ],
             [
              0.1111111111111111,
              "#46039f"
             ],
             [
              0.2222222222222222,
              "#7201a8"
             ],
             [
              0.3333333333333333,
              "#9c179e"
             ],
             [
              0.4444444444444444,
              "#bd3786"
             ],
             [
              0.5555555555555556,
              "#d8576b"
             ],
             [
              0.6666666666666666,
              "#ed7953"
             ],
             [
              0.7777777777777778,
              "#fb9f3a"
             ],
             [
              0.8888888888888888,
              "#fdca26"
             ],
             [
              1,
              "#f0f921"
             ]
            ],
            "type": "histogram2dcontour"
           }
          ],
          "mesh3d": [
           {
            "colorbar": {
             "outlinewidth": 0,
             "ticks": ""
            },
            "type": "mesh3d"
           }
          ],
          "parcoords": [
           {
            "line": {
             "colorbar": {
              "outlinewidth": 0,
              "ticks": ""
             }
            },
            "type": "parcoords"
           }
          ],
          "pie": [
           {
            "automargin": true,
            "type": "pie"
           }
          ],
          "scatter": [
           {
            "fillpattern": {
             "fillmode": "overlay",
             "size": 10,
             "solidity": 0.2
            },
            "type": "scatter"
           }
          ],
          "scatter3d": [
           {
            "line": {
             "colorbar": {
              "outlinewidth": 0,
              "ticks": ""
             }
            },
            "marker": {
             "colorbar": {
              "outlinewidth": 0,
              "ticks": ""
             }
            },
            "type": "scatter3d"
           }
          ],
          "scattercarpet": [
           {
            "marker": {
             "colorbar": {
              "outlinewidth": 0,
              "ticks": ""
             }
            },
            "type": "scattercarpet"
           }
          ],
          "scattergeo": [
           {
            "marker": {
             "colorbar": {
              "outlinewidth": 0,
              "ticks": ""
             }
            },
            "type": "scattergeo"
           }
          ],
          "scattergl": [
           {
            "marker": {
             "colorbar": {
              "outlinewidth": 0,
              "ticks": ""
             }
            },
            "type": "scattergl"
           }
          ],
          "scattermapbox": [
           {
            "marker": {
             "colorbar": {
              "outlinewidth": 0,
              "ticks": ""
             }
            },
            "type": "scattermapbox"
           }
          ],
          "scatterpolar": [
           {
            "marker": {
             "colorbar": {
              "outlinewidth": 0,
              "ticks": ""
             }
            },
            "type": "scatterpolar"
           }
          ],
          "scatterpolargl": [
           {
            "marker": {
             "colorbar": {
              "outlinewidth": 0,
              "ticks": ""
             }
            },
            "type": "scatterpolargl"
           }
          ],
          "scatterternary": [
           {
            "marker": {
             "colorbar": {
              "outlinewidth": 0,
              "ticks": ""
             }
            },
            "type": "scatterternary"
           }
          ],
          "surface": [
           {
            "colorbar": {
             "outlinewidth": 0,
             "ticks": ""
            },
            "colorscale": [
             [
              0,
              "#0d0887"
             ],
             [
              0.1111111111111111,
              "#46039f"
             ],
             [
              0.2222222222222222,
              "#7201a8"
             ],
             [
              0.3333333333333333,
              "#9c179e"
             ],
             [
              0.4444444444444444,
              "#bd3786"
             ],
             [
              0.5555555555555556,
              "#d8576b"
             ],
             [
              0.6666666666666666,
              "#ed7953"
             ],
             [
              0.7777777777777778,
              "#fb9f3a"
             ],
             [
              0.8888888888888888,
              "#fdca26"
             ],
             [
              1,
              "#f0f921"
             ]
            ],
            "type": "surface"
           }
          ],
          "table": [
           {
            "cells": {
             "fill": {
              "color": "#EBF0F8"
             },
             "line": {
              "color": "white"
             }
            },
            "header": {
             "fill": {
              "color": "#C8D4E3"
             },
             "line": {
              "color": "white"
             }
            },
            "type": "table"
           }
          ]
         },
         "layout": {
          "annotationdefaults": {
           "arrowcolor": "#2a3f5f",
           "arrowhead": 0,
           "arrowwidth": 1
          },
          "autotypenumbers": "strict",
          "coloraxis": {
           "colorbar": {
            "outlinewidth": 0,
            "ticks": ""
           }
          },
          "colorscale": {
           "diverging": [
            [
             0,
             "#8e0152"
            ],
            [
             0.1,
             "#c51b7d"
            ],
            [
             0.2,
             "#de77ae"
            ],
            [
             0.3,
             "#f1b6da"
            ],
            [
             0.4,
             "#fde0ef"
            ],
            [
             0.5,
             "#f7f7f7"
            ],
            [
             0.6,
             "#e6f5d0"
            ],
            [
             0.7,
             "#b8e186"
            ],
            [
             0.8,
             "#7fbc41"
            ],
            [
             0.9,
             "#4d9221"
            ],
            [
             1,
             "#276419"
            ]
           ],
           "sequential": [
            [
             0,
             "#0d0887"
            ],
            [
             0.1111111111111111,
             "#46039f"
            ],
            [
             0.2222222222222222,
             "#7201a8"
            ],
            [
             0.3333333333333333,
             "#9c179e"
            ],
            [
             0.4444444444444444,
             "#bd3786"
            ],
            [
             0.5555555555555556,
             "#d8576b"
            ],
            [
             0.6666666666666666,
             "#ed7953"
            ],
            [
             0.7777777777777778,
             "#fb9f3a"
            ],
            [
             0.8888888888888888,
             "#fdca26"
            ],
            [
             1,
             "#f0f921"
            ]
           ],
           "sequentialminus": [
            [
             0,
             "#0d0887"
            ],
            [
             0.1111111111111111,
             "#46039f"
            ],
            [
             0.2222222222222222,
             "#7201a8"
            ],
            [
             0.3333333333333333,
             "#9c179e"
            ],
            [
             0.4444444444444444,
             "#bd3786"
            ],
            [
             0.5555555555555556,
             "#d8576b"
            ],
            [
             0.6666666666666666,
             "#ed7953"
            ],
            [
             0.7777777777777778,
             "#fb9f3a"
            ],
            [
             0.8888888888888888,
             "#fdca26"
            ],
            [
             1,
             "#f0f921"
            ]
           ]
          },
          "colorway": [
           "#636efa",
           "#EF553B",
           "#00cc96",
           "#ab63fa",
           "#FFA15A",
           "#19d3f3",
           "#FF6692",
           "#B6E880",
           "#FF97FF",
           "#FECB52"
          ],
          "font": {
           "color": "#2a3f5f"
          },
          "geo": {
           "bgcolor": "white",
           "lakecolor": "white",
           "landcolor": "#E5ECF6",
           "showlakes": true,
           "showland": true,
           "subunitcolor": "white"
          },
          "hoverlabel": {
           "align": "left"
          },
          "hovermode": "closest",
          "mapbox": {
           "style": "light"
          },
          "paper_bgcolor": "white",
          "plot_bgcolor": "#E5ECF6",
          "polar": {
           "angularaxis": {
            "gridcolor": "white",
            "linecolor": "white",
            "ticks": ""
           },
           "bgcolor": "#E5ECF6",
           "radialaxis": {
            "gridcolor": "white",
            "linecolor": "white",
            "ticks": ""
           }
          },
          "scene": {
           "xaxis": {
            "backgroundcolor": "#E5ECF6",
            "gridcolor": "white",
            "gridwidth": 2,
            "linecolor": "white",
            "showbackground": true,
            "ticks": "",
            "zerolinecolor": "white"
           },
           "yaxis": {
            "backgroundcolor": "#E5ECF6",
            "gridcolor": "white",
            "gridwidth": 2,
            "linecolor": "white",
            "showbackground": true,
            "ticks": "",
            "zerolinecolor": "white"
           },
           "zaxis": {
            "backgroundcolor": "#E5ECF6",
            "gridcolor": "white",
            "gridwidth": 2,
            "linecolor": "white",
            "showbackground": true,
            "ticks": "",
            "zerolinecolor": "white"
           }
          },
          "shapedefaults": {
           "line": {
            "color": "#2a3f5f"
           }
          },
          "ternary": {
           "aaxis": {
            "gridcolor": "white",
            "linecolor": "white",
            "ticks": ""
           },
           "baxis": {
            "gridcolor": "white",
            "linecolor": "white",
            "ticks": ""
           },
           "bgcolor": "#E5ECF6",
           "caxis": {
            "gridcolor": "white",
            "linecolor": "white",
            "ticks": ""
           }
          },
          "title": {
           "x": 0.05
          },
          "xaxis": {
           "automargin": true,
           "gridcolor": "white",
           "linecolor": "white",
           "ticks": "",
           "title": {
            "standoff": 15
           },
           "zerolinecolor": "white",
           "zerolinewidth": 2
          },
          "yaxis": {
           "automargin": true,
           "gridcolor": "white",
           "linecolor": "white",
           "ticks": "",
           "title": {
            "standoff": 15
           },
           "zerolinecolor": "white",
           "zerolinewidth": 2
          }
         }
        },
        "updatemenus": [
         {
          "buttons": [
           {
            "args": [
             null,
             {
              "frame": {
               "duration": 500,
               "redraw": false
              },
              "fromcurrent": true,
              "mode": "immediate",
              "transition": {
               "duration": 500,
               "easing": "linear"
              }
             }
            ],
            "label": "&#9654;",
            "method": "animate"
           },
           {
            "args": [
             [
              null
             ],
             {
              "frame": {
               "duration": 0,
               "redraw": false
              },
              "fromcurrent": true,
              "mode": "immediate",
              "transition": {
               "duration": 0,
               "easing": "linear"
              }
             }
            ],
            "label": "&#9724;",
            "method": "animate"
           }
          ],
          "direction": "left",
          "pad": {
           "r": 10,
           "t": 70
          },
          "showactive": false,
          "type": "buttons",
          "x": 0.1,
          "xanchor": "right",
          "y": 0,
          "yanchor": "top"
         }
        ],
        "xaxis": {
         "anchor": "y",
         "domain": [
          0,
          1
         ],
         "title": {
          "text": "LOC_X"
         }
        },
        "yaxis": {
         "anchor": "x",
         "domain": [
          0,
          1
         ],
         "title": {
          "text": "LOC_Y"
         }
        }
       }
      }
     },
     "metadata": {},
     "output_type": "display_data"
    }
   ],
   "source": [
    "px.scatter(df,x='LOC_X',y='LOC_Y', color='TEAM_ID',size='LOC_Z',animation_frame='MOMENT_NUM',animation_group='PLAYER_ID')"
   ]
  },
  {
   "cell_type": "code",
   "execution_count": null,
   "metadata": {},
   "outputs": [],
   "source": []
  }
 ],
 "metadata": {
  "kernelspec": {
   "display_name": "Python 3.10.4 64-bit",
   "language": "python",
   "name": "python3"
  },
  "language_info": {
   "codemirror_mode": {
    "name": "ipython",
    "version": 3
   },
   "file_extension": ".py",
   "mimetype": "text/x-python",
   "name": "python",
   "nbconvert_exporter": "python",
   "pygments_lexer": "ipython3",
   "version": "3.10.4"
  },
  "orig_nbformat": 4,
  "vscode": {
   "interpreter": {
    "hash": "0de688bd3ef5d1dbcf2ef0efdc751c286eb637b14011b6aa2d48f98261464cb0"
   }
  }
 },
 "nbformat": 4,
 "nbformat_minor": 2
}
