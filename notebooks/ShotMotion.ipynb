{
 "cells": [
  {
   "cell_type": "code",
   "execution_count": 20,
   "metadata": {},
   "outputs": [],
   "source": [
    "import pandas as pd\n",
    "import sys\n",
    "sys.path.append('../py/')\n",
    "\n",
    "from movement import velocity, acceleration\n",
    "from animate import animate_play"
   ]
  },
  {
   "cell_type": "code",
   "execution_count": 47,
   "metadata": {},
   "outputs": [],
   "source": [
    "df=pd.read_csv('../data/merged_csv/0021500049.csv')\n",
    "df=df[df['PLAYER1_ID']==201142]\n",
    "df=df[df['EVENTMSGTYPE']==1]\n",
    "df=df[df['EVENT']==15]\n",
    "df=df[df['PLAYER_ID']==-1]\n",
    "df=df.tail(65)"
   ]
  },
  {
   "cell_type": "code",
   "execution_count": 51,
   "metadata": {},
   "outputs": [
    {
     "data": {
      "text/plain": [
       "Index(['EVENT', 'TEAM_ID', 'PLAYER_ID', 'LOC_X', 'LOC_Y', 'LOC_Z',\n",
       "       'GAME_CLOCK', 'SHOT_CLOCK', 'LOC_X_original', 'LOC_Y_original',\n",
       "       'EVENTMSGTYPE', 'EVENTMSGACTIONTYPE', 'PLAYER1_ID', 'PLAYER1_NAME',\n",
       "       'HOMEDESCRIPTION', 'VISITORDESCRIPTION'],\n",
       "      dtype='object')"
      ]
     },
     "execution_count": 51,
     "metadata": {},
     "output_type": "execute_result"
    }
   ],
   "source": [
    "df.columns"
   ]
  },
  {
   "cell_type": "code",
   "execution_count": 48,
   "metadata": {},
   "outputs": [
    {
     "data": {
      "text/html": [
       "<div>\n",
       "<style scoped>\n",
       "    .dataframe tbody tr th:only-of-type {\n",
       "        vertical-align: middle;\n",
       "    }\n",
       "\n",
       "    .dataframe tbody tr th {\n",
       "        vertical-align: top;\n",
       "    }\n",
       "\n",
       "    .dataframe thead th {\n",
       "        text-align: right;\n",
       "    }\n",
       "</style>\n",
       "<table border=\"1\" class=\"dataframe\">\n",
       "  <thead>\n",
       "    <tr style=\"text-align: right;\">\n",
       "      <th></th>\n",
       "      <th>EVENT</th>\n",
       "      <th>TEAM_ID</th>\n",
       "      <th>PLAYER_ID</th>\n",
       "      <th>LOC_X</th>\n",
       "      <th>LOC_Y</th>\n",
       "      <th>LOC_Z</th>\n",
       "      <th>GAME_CLOCK</th>\n",
       "      <th>SHOT_CLOCK</th>\n",
       "      <th>LOC_X_original</th>\n",
       "      <th>LOC_Y_original</th>\n",
       "      <th>EVENTMSGTYPE</th>\n",
       "      <th>EVENTMSGACTIONTYPE</th>\n",
       "      <th>PLAYER1_ID</th>\n",
       "      <th>PLAYER1_NAME</th>\n",
       "      <th>HOMEDESCRIPTION</th>\n",
       "      <th>VISITORDESCRIPTION</th>\n",
       "    </tr>\n",
       "  </thead>\n",
       "  <tbody>\n",
       "    <tr>\n",
       "      <th>72149</th>\n",
       "      <td>15.0</td>\n",
       "      <td>-1.0</td>\n",
       "      <td>-1.0</td>\n",
       "      <td>-217.9778</td>\n",
       "      <td>23.6301</td>\n",
       "      <td>3.29589</td>\n",
       "      <td>558.08</td>\n",
       "      <td>9.96</td>\n",
       "      <td>86.88699</td>\n",
       "      <td>3.20222</td>\n",
       "      <td>1</td>\n",
       "      <td>75</td>\n",
       "      <td>201142</td>\n",
       "      <td>Kevin Durant</td>\n",
       "      <td>NaN</td>\n",
       "      <td>Durant 2' Driving Finger Roll Layup (2 PTS)</td>\n",
       "    </tr>\n",
       "    <tr>\n",
       "      <th>72160</th>\n",
       "      <td>15.0</td>\n",
       "      <td>-1.0</td>\n",
       "      <td>-1.0</td>\n",
       "      <td>-215.8772</td>\n",
       "      <td>22.0258</td>\n",
       "      <td>3.39469</td>\n",
       "      <td>558.04</td>\n",
       "      <td>9.92</td>\n",
       "      <td>87.04742</td>\n",
       "      <td>3.41228</td>\n",
       "      <td>1</td>\n",
       "      <td>75</td>\n",
       "      <td>201142</td>\n",
       "      <td>Kevin Durant</td>\n",
       "      <td>NaN</td>\n",
       "      <td>Durant 2' Driving Finger Roll Layup (2 PTS)</td>\n",
       "    </tr>\n",
       "    <tr>\n",
       "      <th>72171</th>\n",
       "      <td>15.0</td>\n",
       "      <td>-1.0</td>\n",
       "      <td>-1.0</td>\n",
       "      <td>-214.6552</td>\n",
       "      <td>21.9654</td>\n",
       "      <td>3.79529</td>\n",
       "      <td>558.00</td>\n",
       "      <td>9.88</td>\n",
       "      <td>87.05346</td>\n",
       "      <td>3.53448</td>\n",
       "      <td>1</td>\n",
       "      <td>75</td>\n",
       "      <td>201142</td>\n",
       "      <td>Kevin Durant</td>\n",
       "      <td>NaN</td>\n",
       "      <td>Durant 2' Driving Finger Roll Layup (2 PTS)</td>\n",
       "    </tr>\n",
       "    <tr>\n",
       "      <th>72182</th>\n",
       "      <td>15.0</td>\n",
       "      <td>-1.0</td>\n",
       "      <td>-1.0</td>\n",
       "      <td>-215.6230</td>\n",
       "      <td>21.6390</td>\n",
       "      <td>4.48351</td>\n",
       "      <td>557.96</td>\n",
       "      <td>9.84</td>\n",
       "      <td>87.08610</td>\n",
       "      <td>3.43770</td>\n",
       "      <td>1</td>\n",
       "      <td>75</td>\n",
       "      <td>201142</td>\n",
       "      <td>Kevin Durant</td>\n",
       "      <td>NaN</td>\n",
       "      <td>Durant 2' Driving Finger Roll Layup (2 PTS)</td>\n",
       "    </tr>\n",
       "    <tr>\n",
       "      <th>72193</th>\n",
       "      <td>15.0</td>\n",
       "      <td>-1.0</td>\n",
       "      <td>-1.0</td>\n",
       "      <td>-217.6429</td>\n",
       "      <td>20.9364</td>\n",
       "      <td>5.13741</td>\n",
       "      <td>557.92</td>\n",
       "      <td>9.80</td>\n",
       "      <td>87.15636</td>\n",
       "      <td>3.23571</td>\n",
       "      <td>1</td>\n",
       "      <td>75</td>\n",
       "      <td>201142</td>\n",
       "      <td>Kevin Durant</td>\n",
       "      <td>NaN</td>\n",
       "      <td>Durant 2' Driving Finger Roll Layup (2 PTS)</td>\n",
       "    </tr>\n",
       "    <tr>\n",
       "      <th>...</th>\n",
       "      <td>...</td>\n",
       "      <td>...</td>\n",
       "      <td>...</td>\n",
       "      <td>...</td>\n",
       "      <td>...</td>\n",
       "      <td>...</td>\n",
       "      <td>...</td>\n",
       "      <td>...</td>\n",
       "      <td>...</td>\n",
       "      <td>...</td>\n",
       "      <td>...</td>\n",
       "      <td>...</td>\n",
       "      <td>...</td>\n",
       "      <td>...</td>\n",
       "      <td>...</td>\n",
       "      <td>...</td>\n",
       "    </tr>\n",
       "    <tr>\n",
       "      <th>72809</th>\n",
       "      <td>15.0</td>\n",
       "      <td>-1.0</td>\n",
       "      <td>-1.0</td>\n",
       "      <td>15.0986</td>\n",
       "      <td>7.8379</td>\n",
       "      <td>0.73136</td>\n",
       "      <td>555.69</td>\n",
       "      <td>NaN</td>\n",
       "      <td>88.46621</td>\n",
       "      <td>26.50986</td>\n",
       "      <td>1</td>\n",
       "      <td>75</td>\n",
       "      <td>201142</td>\n",
       "      <td>Kevin Durant</td>\n",
       "      <td>NaN</td>\n",
       "      <td>Durant 2' Driving Finger Roll Layup (2 PTS)</td>\n",
       "    </tr>\n",
       "    <tr>\n",
       "      <th>72820</th>\n",
       "      <td>15.0</td>\n",
       "      <td>-1.0</td>\n",
       "      <td>-1.0</td>\n",
       "      <td>13.1695</td>\n",
       "      <td>6.7138</td>\n",
       "      <td>0.51422</td>\n",
       "      <td>555.65</td>\n",
       "      <td>NaN</td>\n",
       "      <td>88.57862</td>\n",
       "      <td>26.31695</td>\n",
       "      <td>1</td>\n",
       "      <td>75</td>\n",
       "      <td>201142</td>\n",
       "      <td>Kevin Durant</td>\n",
       "      <td>NaN</td>\n",
       "      <td>Durant 2' Driving Finger Roll Layup (2 PTS)</td>\n",
       "    </tr>\n",
       "    <tr>\n",
       "      <th>72831</th>\n",
       "      <td>15.0</td>\n",
       "      <td>-1.0</td>\n",
       "      <td>-1.0</td>\n",
       "      <td>10.7026</td>\n",
       "      <td>9.3386</td>\n",
       "      <td>1.38722</td>\n",
       "      <td>555.61</td>\n",
       "      <td>NaN</td>\n",
       "      <td>88.31614</td>\n",
       "      <td>26.07026</td>\n",
       "      <td>1</td>\n",
       "      <td>75</td>\n",
       "      <td>201142</td>\n",
       "      <td>Kevin Durant</td>\n",
       "      <td>NaN</td>\n",
       "      <td>Durant 2' Driving Finger Roll Layup (2 PTS)</td>\n",
       "    </tr>\n",
       "    <tr>\n",
       "      <th>72842</th>\n",
       "      <td>15.0</td>\n",
       "      <td>-1.0</td>\n",
       "      <td>-1.0</td>\n",
       "      <td>9.5025</td>\n",
       "      <td>9.5844</td>\n",
       "      <td>2.03555</td>\n",
       "      <td>555.57</td>\n",
       "      <td>NaN</td>\n",
       "      <td>88.29156</td>\n",
       "      <td>25.95025</td>\n",
       "      <td>1</td>\n",
       "      <td>75</td>\n",
       "      <td>201142</td>\n",
       "      <td>Kevin Durant</td>\n",
       "      <td>NaN</td>\n",
       "      <td>Durant 2' Driving Finger Roll Layup (2 PTS)</td>\n",
       "    </tr>\n",
       "    <tr>\n",
       "      <th>72853</th>\n",
       "      <td>15.0</td>\n",
       "      <td>-1.0</td>\n",
       "      <td>-1.0</td>\n",
       "      <td>6.4958</td>\n",
       "      <td>8.6204</td>\n",
       "      <td>2.56668</td>\n",
       "      <td>555.53</td>\n",
       "      <td>NaN</td>\n",
       "      <td>88.38796</td>\n",
       "      <td>25.64958</td>\n",
       "      <td>1</td>\n",
       "      <td>75</td>\n",
       "      <td>201142</td>\n",
       "      <td>Kevin Durant</td>\n",
       "      <td>NaN</td>\n",
       "      <td>Durant 2' Driving Finger Roll Layup (2 PTS)</td>\n",
       "    </tr>\n",
       "  </tbody>\n",
       "</table>\n",
       "<p>65 rows × 16 columns</p>\n",
       "</div>"
      ],
      "text/plain": [
       "       EVENT  TEAM_ID  PLAYER_ID     LOC_X    LOC_Y    LOC_Z  GAME_CLOCK  \\\n",
       "72149   15.0     -1.0       -1.0 -217.9778  23.6301  3.29589      558.08   \n",
       "72160   15.0     -1.0       -1.0 -215.8772  22.0258  3.39469      558.04   \n",
       "72171   15.0     -1.0       -1.0 -214.6552  21.9654  3.79529      558.00   \n",
       "72182   15.0     -1.0       -1.0 -215.6230  21.6390  4.48351      557.96   \n",
       "72193   15.0     -1.0       -1.0 -217.6429  20.9364  5.13741      557.92   \n",
       "...      ...      ...        ...       ...      ...      ...         ...   \n",
       "72809   15.0     -1.0       -1.0   15.0986   7.8379  0.73136      555.69   \n",
       "72820   15.0     -1.0       -1.0   13.1695   6.7138  0.51422      555.65   \n",
       "72831   15.0     -1.0       -1.0   10.7026   9.3386  1.38722      555.61   \n",
       "72842   15.0     -1.0       -1.0    9.5025   9.5844  2.03555      555.57   \n",
       "72853   15.0     -1.0       -1.0    6.4958   8.6204  2.56668      555.53   \n",
       "\n",
       "       SHOT_CLOCK  LOC_X_original  LOC_Y_original  EVENTMSGTYPE  \\\n",
       "72149        9.96        86.88699         3.20222             1   \n",
       "72160        9.92        87.04742         3.41228             1   \n",
       "72171        9.88        87.05346         3.53448             1   \n",
       "72182        9.84        87.08610         3.43770             1   \n",
       "72193        9.80        87.15636         3.23571             1   \n",
       "...           ...             ...             ...           ...   \n",
       "72809         NaN        88.46621        26.50986             1   \n",
       "72820         NaN        88.57862        26.31695             1   \n",
       "72831         NaN        88.31614        26.07026             1   \n",
       "72842         NaN        88.29156        25.95025             1   \n",
       "72853         NaN        88.38796        25.64958             1   \n",
       "\n",
       "       EVENTMSGACTIONTYPE  PLAYER1_ID  PLAYER1_NAME HOMEDESCRIPTION  \\\n",
       "72149                  75      201142  Kevin Durant             NaN   \n",
       "72160                  75      201142  Kevin Durant             NaN   \n",
       "72171                  75      201142  Kevin Durant             NaN   \n",
       "72182                  75      201142  Kevin Durant             NaN   \n",
       "72193                  75      201142  Kevin Durant             NaN   \n",
       "...                   ...         ...           ...             ...   \n",
       "72809                  75      201142  Kevin Durant             NaN   \n",
       "72820                  75      201142  Kevin Durant             NaN   \n",
       "72831                  75      201142  Kevin Durant             NaN   \n",
       "72842                  75      201142  Kevin Durant             NaN   \n",
       "72853                  75      201142  Kevin Durant             NaN   \n",
       "\n",
       "                                VISITORDESCRIPTION  \n",
       "72149  Durant 2' Driving Finger Roll Layup (2 PTS)  \n",
       "72160  Durant 2' Driving Finger Roll Layup (2 PTS)  \n",
       "72171  Durant 2' Driving Finger Roll Layup (2 PTS)  \n",
       "72182  Durant 2' Driving Finger Roll Layup (2 PTS)  \n",
       "72193  Durant 2' Driving Finger Roll Layup (2 PTS)  \n",
       "...                                            ...  \n",
       "72809  Durant 2' Driving Finger Roll Layup (2 PTS)  \n",
       "72820  Durant 2' Driving Finger Roll Layup (2 PTS)  \n",
       "72831  Durant 2' Driving Finger Roll Layup (2 PTS)  \n",
       "72842  Durant 2' Driving Finger Roll Layup (2 PTS)  \n",
       "72853  Durant 2' Driving Finger Roll Layup (2 PTS)  \n",
       "\n",
       "[65 rows x 16 columns]"
      ]
     },
     "execution_count": 48,
     "metadata": {},
     "output_type": "execute_result"
    }
   ],
   "source": [
    "df"
   ]
  },
  {
   "cell_type": "code",
   "execution_count": 49,
   "metadata": {},
   "outputs": [],
   "source": [
    "import plotly.express as px"
   ]
  },
  {
   "cell_type": "code",
   "execution_count": 57,
   "metadata": {},
   "outputs": [
    {
     "data": {
      "application/vnd.plotly.v1+json": {
       "config": {
        "plotlyServerURL": "https://plot.ly"
       },
       "data": [
        {
         "hovertemplate": "LOC_X=%{x}<br>LOC_Y=%{y}<br>LOC_Z=%{z}<extra></extra>",
         "legendgroup": "",
         "line": {
          "color": "#636efa",
          "dash": "solid"
         },
         "marker": {
          "symbol": "circle"
         },
         "mode": "lines",
         "name": "",
         "scene": "scene",
         "showlegend": false,
         "type": "scatter3d",
         "x": [
          -217.9778000000001,
          -215.8772,
          -214.6552,
          -215.623,
          -217.64290000000005,
          -220.7685,
          -223.5251,
          -224.29450000000003,
          -226.4487,
          -225.88430000000005,
          -224.6953,
          -223.37190000000004,
          -222.4903,
          -217.6463,
          -211.8042,
          -205.23560000000003,
          -197.82820000000004,
          -190.4151,
          -182.9409,
          -175.5448,
          -169.0944,
          -162.32849999999996,
          -155.20780000000002,
          -147.45670000000007,
          -141.28999999999996,
          -135.28390000000002,
          -129.38779999999997,
          -121.62369999999994,
          -114.9303,
          -106.1551,
          -101.801,
          -93.0419,
          -89.09480000000002,
          -79.49759999999999,
          -74.60520000000002,
          -66.09200000000004,
          -59.536800000000014,
          -52.66120000000001,
          -46.5251,
          -40.493,
          -33.69499999999998,
          -26.5052,
          -19.545500000000004,
          -13.134500000000005,
          -6.806299999999979,
          0.0221000000000231,
          3.8397999999999968,
          6.677500000000009,
          7.789199999999994,
          7.409600000000012,
          5.79049999999998,
          6.769900000000007,
          8.2757,
          8.998700000000014,
          8.953599999999994,
          11.005999999999986,
          13.058400000000006,
          10.621499999999967,
          12.387900000000002,
          13.172300000000009,
          15.098599999999976,
          13.169499999999973,
          10.702600000000018,
          9.50249999999997,
          6.4957999999999885
         ],
         "y": [
          23.63010000000002,
          22.025799999999983,
          21.96539999999998,
          21.63899999999998,
          20.93639999999993,
          19.144900000000007,
          19.516600000000032,
          19.97439999999997,
          18.3538,
          19.31079999999995,
          19.287499999999937,
          19.2107,
          18.02449999999993,
          17.63859999999994,
          17.40009999999998,
          17.049700000000023,
          14.967199999999965,
          15.852399999999996,
          15.785300000000008,
          15.08189999999999,
          13.96900000000003,
          13.666300000000009,
          13.41489999999994,
          12.8998,
          13.225199999999973,
          11.69210000000006,
          11.781600000000047,
          10.433299999999967,
          10.12330000000005,
          9.658600000000064,
          9.327700000000045,
          9.269199999999955,
          8.312700000000035,
          8.113299999999981,
          7.822000000000031,
          7.4454000000000065,
          7.043199999999956,
          6.504199999999976,
          6.656499999999994,
          5.508200000000024,
          5.113800000000026,
          4.876299999999958,
          4.510700000000014,
          3.617899999999999,
          3.454200000000043,
          4.064400000000035,
          3.913600000000052,
          3.6338000000000648,
          3.483099999999972,
          3.907300000000049,
          5.024999999999977,
          4.245700000000028,
          4.1527999999999565,
          5.391099999999938,
          6.36099999999999,
          6.397999999999939,
          6.420700000000039,
          6.4641000000000375,
          6.27650000000002,
          7.518900000000031,
          7.837899999999955,
          6.713799999999992,
          9.338599999999964,
          9.58439999999996,
          8.620399999999933
         ],
         "z": [
          3.29589,
          3.39469,
          3.79529,
          4.48351,
          5.13741,
          5.45999,
          5.73809,
          6.07899,
          6.46688,
          6.73909,
          7.08818,
          7.49336,
          7.96153,
          8.54615,
          9.22092,
          10.01482,
          11.06371,
          11.49486,
          12.1091,
          12.82759,
          13.32614,
          13.71807,
          14.12209,
          14.67759,
          14.92755,
          15.13638,
          15.14559,
          15.40383,
          15.63719,
          15.71609,
          15.55372,
          15.74421,
          15.51188,
          15.57466,
          15.29395,
          15.15382,
          14.93714,
          14.49154,
          14.08404,
          13.7753,
          13.32322,
          12.76368,
          12.16662,
          11.5261,
          10.8023,
          10.10532,
          9.61266,
          9.19968,
          8.7757,
          8.30342,
          7.45405,
          7.08803,
          6.90166,
          6.20485,
          5.54452,
          4.98788,
          4.34632,
          3.24806,
          2.58273,
          1.65676,
          0.73136,
          0.51422,
          1.38722,
          2.03555,
          2.56668
         ]
        }
       ],
       "layout": {
        "legend": {
         "tracegroupgap": 0
        },
        "margin": {
         "t": 60
        },
        "scene": {
         "domain": {
          "x": [
           0,
           1
          ],
          "y": [
           0,
           1
          ]
         },
         "xaxis": {
          "title": {
           "text": "LOC_X"
          }
         },
         "yaxis": {
          "title": {
           "text": "LOC_Y"
          }
         },
         "zaxis": {
          "title": {
           "text": "LOC_Z"
          }
         }
        },
        "template": {
         "data": {
          "bar": [
           {
            "error_x": {
             "color": "#2a3f5f"
            },
            "error_y": {
             "color": "#2a3f5f"
            },
            "marker": {
             "line": {
              "color": "#E5ECF6",
              "width": 0.5
             },
             "pattern": {
              "fillmode": "overlay",
              "size": 10,
              "solidity": 0.2
             }
            },
            "type": "bar"
           }
          ],
          "barpolar": [
           {
            "marker": {
             "line": {
              "color": "#E5ECF6",
              "width": 0.5
             },
             "pattern": {
              "fillmode": "overlay",
              "size": 10,
              "solidity": 0.2
             }
            },
            "type": "barpolar"
           }
          ],
          "carpet": [
           {
            "aaxis": {
             "endlinecolor": "#2a3f5f",
             "gridcolor": "white",
             "linecolor": "white",
             "minorgridcolor": "white",
             "startlinecolor": "#2a3f5f"
            },
            "baxis": {
             "endlinecolor": "#2a3f5f",
             "gridcolor": "white",
             "linecolor": "white",
             "minorgridcolor": "white",
             "startlinecolor": "#2a3f5f"
            },
            "type": "carpet"
           }
          ],
          "choropleth": [
           {
            "colorbar": {
             "outlinewidth": 0,
             "ticks": ""
            },
            "type": "choropleth"
           }
          ],
          "contour": [
           {
            "colorbar": {
             "outlinewidth": 0,
             "ticks": ""
            },
            "colorscale": [
             [
              0,
              "#0d0887"
             ],
             [
              0.1111111111111111,
              "#46039f"
             ],
             [
              0.2222222222222222,
              "#7201a8"
             ],
             [
              0.3333333333333333,
              "#9c179e"
             ],
             [
              0.4444444444444444,
              "#bd3786"
             ],
             [
              0.5555555555555556,
              "#d8576b"
             ],
             [
              0.6666666666666666,
              "#ed7953"
             ],
             [
              0.7777777777777778,
              "#fb9f3a"
             ],
             [
              0.8888888888888888,
              "#fdca26"
             ],
             [
              1,
              "#f0f921"
             ]
            ],
            "type": "contour"
           }
          ],
          "contourcarpet": [
           {
            "colorbar": {
             "outlinewidth": 0,
             "ticks": ""
            },
            "type": "contourcarpet"
           }
          ],
          "heatmap": [
           {
            "colorbar": {
             "outlinewidth": 0,
             "ticks": ""
            },
            "colorscale": [
             [
              0,
              "#0d0887"
             ],
             [
              0.1111111111111111,
              "#46039f"
             ],
             [
              0.2222222222222222,
              "#7201a8"
             ],
             [
              0.3333333333333333,
              "#9c179e"
             ],
             [
              0.4444444444444444,
              "#bd3786"
             ],
             [
              0.5555555555555556,
              "#d8576b"
             ],
             [
              0.6666666666666666,
              "#ed7953"
             ],
             [
              0.7777777777777778,
              "#fb9f3a"
             ],
             [
              0.8888888888888888,
              "#fdca26"
             ],
             [
              1,
              "#f0f921"
             ]
            ],
            "type": "heatmap"
           }
          ],
          "heatmapgl": [
           {
            "colorbar": {
             "outlinewidth": 0,
             "ticks": ""
            },
            "colorscale": [
             [
              0,
              "#0d0887"
             ],
             [
              0.1111111111111111,
              "#46039f"
             ],
             [
              0.2222222222222222,
              "#7201a8"
             ],
             [
              0.3333333333333333,
              "#9c179e"
             ],
             [
              0.4444444444444444,
              "#bd3786"
             ],
             [
              0.5555555555555556,
              "#d8576b"
             ],
             [
              0.6666666666666666,
              "#ed7953"
             ],
             [
              0.7777777777777778,
              "#fb9f3a"
             ],
             [
              0.8888888888888888,
              "#fdca26"
             ],
             [
              1,
              "#f0f921"
             ]
            ],
            "type": "heatmapgl"
           }
          ],
          "histogram": [
           {
            "marker": {
             "pattern": {
              "fillmode": "overlay",
              "size": 10,
              "solidity": 0.2
             }
            },
            "type": "histogram"
           }
          ],
          "histogram2d": [
           {
            "colorbar": {
             "outlinewidth": 0,
             "ticks": ""
            },
            "colorscale": [
             [
              0,
              "#0d0887"
             ],
             [
              0.1111111111111111,
              "#46039f"
             ],
             [
              0.2222222222222222,
              "#7201a8"
             ],
             [
              0.3333333333333333,
              "#9c179e"
             ],
             [
              0.4444444444444444,
              "#bd3786"
             ],
             [
              0.5555555555555556,
              "#d8576b"
             ],
             [
              0.6666666666666666,
              "#ed7953"
             ],
             [
              0.7777777777777778,
              "#fb9f3a"
             ],
             [
              0.8888888888888888,
              "#fdca26"
             ],
             [
              1,
              "#f0f921"
             ]
            ],
            "type": "histogram2d"
           }
          ],
          "histogram2dcontour": [
           {
            "colorbar": {
             "outlinewidth": 0,
             "ticks": ""
            },
            "colorscale": [
             [
              0,
              "#0d0887"
             ],
             [
              0.1111111111111111,
              "#46039f"
             ],
             [
              0.2222222222222222,
              "#7201a8"
             ],
             [
              0.3333333333333333,
              "#9c179e"
             ],
             [
              0.4444444444444444,
              "#bd3786"
             ],
             [
              0.5555555555555556,
              "#d8576b"
             ],
             [
              0.6666666666666666,
              "#ed7953"
             ],
             [
              0.7777777777777778,
              "#fb9f3a"
             ],
             [
              0.8888888888888888,
              "#fdca26"
             ],
             [
              1,
              "#f0f921"
             ]
            ],
            "type": "histogram2dcontour"
           }
          ],
          "mesh3d": [
           {
            "colorbar": {
             "outlinewidth": 0,
             "ticks": ""
            },
            "type": "mesh3d"
           }
          ],
          "parcoords": [
           {
            "line": {
             "colorbar": {
              "outlinewidth": 0,
              "ticks": ""
             }
            },
            "type": "parcoords"
           }
          ],
          "pie": [
           {
            "automargin": true,
            "type": "pie"
           }
          ],
          "scatter": [
           {
            "fillpattern": {
             "fillmode": "overlay",
             "size": 10,
             "solidity": 0.2
            },
            "type": "scatter"
           }
          ],
          "scatter3d": [
           {
            "line": {
             "colorbar": {
              "outlinewidth": 0,
              "ticks": ""
             }
            },
            "marker": {
             "colorbar": {
              "outlinewidth": 0,
              "ticks": ""
             }
            },
            "type": "scatter3d"
           }
          ],
          "scattercarpet": [
           {
            "marker": {
             "colorbar": {
              "outlinewidth": 0,
              "ticks": ""
             }
            },
            "type": "scattercarpet"
           }
          ],
          "scattergeo": [
           {
            "marker": {
             "colorbar": {
              "outlinewidth": 0,
              "ticks": ""
             }
            },
            "type": "scattergeo"
           }
          ],
          "scattergl": [
           {
            "marker": {
             "colorbar": {
              "outlinewidth": 0,
              "ticks": ""
             }
            },
            "type": "scattergl"
           }
          ],
          "scattermapbox": [
           {
            "marker": {
             "colorbar": {
              "outlinewidth": 0,
              "ticks": ""
             }
            },
            "type": "scattermapbox"
           }
          ],
          "scatterpolar": [
           {
            "marker": {
             "colorbar": {
              "outlinewidth": 0,
              "ticks": ""
             }
            },
            "type": "scatterpolar"
           }
          ],
          "scatterpolargl": [
           {
            "marker": {
             "colorbar": {
              "outlinewidth": 0,
              "ticks": ""
             }
            },
            "type": "scatterpolargl"
           }
          ],
          "scatterternary": [
           {
            "marker": {
             "colorbar": {
              "outlinewidth": 0,
              "ticks": ""
             }
            },
            "type": "scatterternary"
           }
          ],
          "surface": [
           {
            "colorbar": {
             "outlinewidth": 0,
             "ticks": ""
            },
            "colorscale": [
             [
              0,
              "#0d0887"
             ],
             [
              0.1111111111111111,
              "#46039f"
             ],
             [
              0.2222222222222222,
              "#7201a8"
             ],
             [
              0.3333333333333333,
              "#9c179e"
             ],
             [
              0.4444444444444444,
              "#bd3786"
             ],
             [
              0.5555555555555556,
              "#d8576b"
             ],
             [
              0.6666666666666666,
              "#ed7953"
             ],
             [
              0.7777777777777778,
              "#fb9f3a"
             ],
             [
              0.8888888888888888,
              "#fdca26"
             ],
             [
              1,
              "#f0f921"
             ]
            ],
            "type": "surface"
           }
          ],
          "table": [
           {
            "cells": {
             "fill": {
              "color": "#EBF0F8"
             },
             "line": {
              "color": "white"
             }
            },
            "header": {
             "fill": {
              "color": "#C8D4E3"
             },
             "line": {
              "color": "white"
             }
            },
            "type": "table"
           }
          ]
         },
         "layout": {
          "annotationdefaults": {
           "arrowcolor": "#2a3f5f",
           "arrowhead": 0,
           "arrowwidth": 1
          },
          "autotypenumbers": "strict",
          "coloraxis": {
           "colorbar": {
            "outlinewidth": 0,
            "ticks": ""
           }
          },
          "colorscale": {
           "diverging": [
            [
             0,
             "#8e0152"
            ],
            [
             0.1,
             "#c51b7d"
            ],
            [
             0.2,
             "#de77ae"
            ],
            [
             0.3,
             "#f1b6da"
            ],
            [
             0.4,
             "#fde0ef"
            ],
            [
             0.5,
             "#f7f7f7"
            ],
            [
             0.6,
             "#e6f5d0"
            ],
            [
             0.7,
             "#b8e186"
            ],
            [
             0.8,
             "#7fbc41"
            ],
            [
             0.9,
             "#4d9221"
            ],
            [
             1,
             "#276419"
            ]
           ],
           "sequential": [
            [
             0,
             "#0d0887"
            ],
            [
             0.1111111111111111,
             "#46039f"
            ],
            [
             0.2222222222222222,
             "#7201a8"
            ],
            [
             0.3333333333333333,
             "#9c179e"
            ],
            [
             0.4444444444444444,
             "#bd3786"
            ],
            [
             0.5555555555555556,
             "#d8576b"
            ],
            [
             0.6666666666666666,
             "#ed7953"
            ],
            [
             0.7777777777777778,
             "#fb9f3a"
            ],
            [
             0.8888888888888888,
             "#fdca26"
            ],
            [
             1,
             "#f0f921"
            ]
           ],
           "sequentialminus": [
            [
             0,
             "#0d0887"
            ],
            [
             0.1111111111111111,
             "#46039f"
            ],
            [
             0.2222222222222222,
             "#7201a8"
            ],
            [
             0.3333333333333333,
             "#9c179e"
            ],
            [
             0.4444444444444444,
             "#bd3786"
            ],
            [
             0.5555555555555556,
             "#d8576b"
            ],
            [
             0.6666666666666666,
             "#ed7953"
            ],
            [
             0.7777777777777778,
             "#fb9f3a"
            ],
            [
             0.8888888888888888,
             "#fdca26"
            ],
            [
             1,
             "#f0f921"
            ]
           ]
          },
          "colorway": [
           "#636efa",
           "#EF553B",
           "#00cc96",
           "#ab63fa",
           "#FFA15A",
           "#19d3f3",
           "#FF6692",
           "#B6E880",
           "#FF97FF",
           "#FECB52"
          ],
          "font": {
           "color": "#2a3f5f"
          },
          "geo": {
           "bgcolor": "white",
           "lakecolor": "white",
           "landcolor": "#E5ECF6",
           "showlakes": true,
           "showland": true,
           "subunitcolor": "white"
          },
          "hoverlabel": {
           "align": "left"
          },
          "hovermode": "closest",
          "mapbox": {
           "style": "light"
          },
          "paper_bgcolor": "white",
          "plot_bgcolor": "#E5ECF6",
          "polar": {
           "angularaxis": {
            "gridcolor": "white",
            "linecolor": "white",
            "ticks": ""
           },
           "bgcolor": "#E5ECF6",
           "radialaxis": {
            "gridcolor": "white",
            "linecolor": "white",
            "ticks": ""
           }
          },
          "scene": {
           "xaxis": {
            "backgroundcolor": "#E5ECF6",
            "gridcolor": "white",
            "gridwidth": 2,
            "linecolor": "white",
            "showbackground": true,
            "ticks": "",
            "zerolinecolor": "white"
           },
           "yaxis": {
            "backgroundcolor": "#E5ECF6",
            "gridcolor": "white",
            "gridwidth": 2,
            "linecolor": "white",
            "showbackground": true,
            "ticks": "",
            "zerolinecolor": "white"
           },
           "zaxis": {
            "backgroundcolor": "#E5ECF6",
            "gridcolor": "white",
            "gridwidth": 2,
            "linecolor": "white",
            "showbackground": true,
            "ticks": "",
            "zerolinecolor": "white"
           }
          },
          "shapedefaults": {
           "line": {
            "color": "#2a3f5f"
           }
          },
          "ternary": {
           "aaxis": {
            "gridcolor": "white",
            "linecolor": "white",
            "ticks": ""
           },
           "baxis": {
            "gridcolor": "white",
            "linecolor": "white",
            "ticks": ""
           },
           "bgcolor": "#E5ECF6",
           "caxis": {
            "gridcolor": "white",
            "linecolor": "white",
            "ticks": ""
           }
          },
          "title": {
           "x": 0.05
          },
          "xaxis": {
           "automargin": true,
           "gridcolor": "white",
           "linecolor": "white",
           "ticks": "",
           "title": {
            "standoff": 15
           },
           "zerolinecolor": "white",
           "zerolinewidth": 2
          },
          "yaxis": {
           "automargin": true,
           "gridcolor": "white",
           "linecolor": "white",
           "ticks": "",
           "title": {
            "standoff": 15
           },
           "zerolinecolor": "white",
           "zerolinewidth": 2
          }
         }
        }
       }
      }
     },
     "metadata": {},
     "output_type": "display_data"
    }
   ],
   "source": [
    "px.line_3d(df,x='LOC_X',y='LOC_Y',z='LOC_Z')"
   ]
  },
  {
   "cell_type": "code",
   "execution_count": null,
   "metadata": {},
   "outputs": [],
   "source": []
  }
 ],
 "metadata": {
  "kernelspec": {
   "display_name": "Python 3.10.4 64-bit",
   "language": "python",
   "name": "python3"
  },
  "language_info": {
   "codemirror_mode": {
    "name": "ipython",
    "version": 3
   },
   "file_extension": ".py",
   "mimetype": "text/x-python",
   "name": "python",
   "nbconvert_exporter": "python",
   "pygments_lexer": "ipython3",
   "version": "3.10.4"
  },
  "orig_nbformat": 4,
  "vscode": {
   "interpreter": {
    "hash": "0de688bd3ef5d1dbcf2ef0efdc751c286eb637b14011b6aa2d48f98261464cb0"
   }
  }
 },
 "nbformat": 4,
 "nbformat_minor": 2
}
